{
  "nbformat": 4,
  "nbformat_minor": 0,
  "metadata": {
    "colab": {
      "provenance": [],
      "include_colab_link": true
    },
    "kernelspec": {
      "name": "python3",
      "display_name": "Python 3"
    }
  },
  "cells": [
    {
      "cell_type": "markdown",
      "metadata": {
        "id": "view-in-github",
        "colab_type": "text"
      },
      "source": [
        "<a href=\"https://colab.research.google.com/github/Rinniedh/Python_practice/blob/main/lab_assignment_01_notebook_1.ipynb\" target=\"_parent\"><img src=\"https://colab.research.google.com/assets/colab-badge.svg\" alt=\"Open In Colab\"/></a>"
      ]
    },
    {
      "cell_type": "markdown",
      "metadata": {
        "id": "IL4GzbJejGHb"
      },
      "source": [
        "#TBANLT 570 - Lab Assignment 01 - A Crash Course in Python!\n",
        "This lab assignment will introduce you to the Python programming language, which we will use extensively throughout our class. Although Python is easy to learn, it is also very powerful and can be used to perform a wide variety of data manipulation, data analysis, and data visualization tasks, including state-of-the-art data science and text mining.\n",
        "\n",
        "###Learning Objectives\n",
        "By the time you finish this lab assignment, you will know:\n",
        "1. How to write comments in Python.\n",
        "2. How to declare and assign values to both string (text) variables and numerical variables in Python.\n",
        "3. How to declare and assign values to lists in Python.\n",
        "4. How to use indexing to access the values of list items in Python.\n",
        "5. How to add new values to an existing list in Python.\n",
        "6. How to declare and work with tuples in Python.\n",
        "7. How to declare and work with dictionaries in Python.\n",
        "8. How to perform mathematical operations in Python.\n",
        "9. How to perform comparisons in Python.\n",
        "10. How to use logical operators in Python.\n",
        "11. How to declare and use functions in Python.\n",
        "12. How to import and use libraries in Python.\n",
        "13. How to use `if` statements in Python.\n",
        "14. How to declare and use `for` loops in Python."
      ]
    },
    {
      "cell_type": "markdown",
      "source": [
        "### Comments in Python\n",
        "Just like any other programming language, Python allows us to include comments in our programs. Comments are great because they allow us to add natural language descriptions and explanatory notes to our code. Comments are ignored by Python when our programs are running. It's important to use lots of comments in our projects in order to help ourselves and other humans  understand what is happening in our code.\n",
        "\n",
        "**TASK 01**:\n",
        ">Read [this page](https://www.w3schools.com/python/python_comments.asp) to learn more about using comments in Python.\n",
        "\n",
        "**QUESTION 01**:\n",
        ">Which symbol can be used to indicate a comment in Python? #"
      ],
      "metadata": {
        "id": "rKTc5f8qMHcv"
      }
    },
    {
      "cell_type": "markdown",
      "source": [
        "### Variables in Python\n",
        "A variable is a named storage location that we can use to hold different data values. In Python, we don't need to use a specific command to declare (create) a variable. Instead, we simply need to specify the name of the variable and assign it a value. There's also no need to specify the type of data that variables in Python will hold. Python is smart enough to automatically determine a variable's data type based on the value that we assign to the variable.\n",
        "\n",
        "Here are some examples that show how to declare and assign values to variables in Python. Click on the 'Play' button next to the code cell below in order to run the code."
      ],
      "metadata": {
        "id": "H_IXymxzPba9"
      }
    },
    {
      "cell_type": "code",
      "source": [
        "#declare and assign a value to an variable named 'weight'\n",
        "weight = 4.17\n",
        "\n",
        "#declare and assign a value to an 'employee_name' variable. Note that when we assign a textual\n",
        "#value to a variable, the text must be enclosed inside single quotes (')\n",
        "employee_name = 'Sheldon'\n",
        "\n",
        "#declare and assign values to two variables named 'age' and 'name' using just one line of code\n",
        "age, name = 25, 'Aneka'\n",
        "\n",
        "#print a status message\n",
        "print('The variables were created successfully!')"
      ],
      "metadata": {
        "id": "RB8gi42dTVEq",
        "colab": {
          "base_uri": "https://localhost:8080/"
        },
        "outputId": "acf03049-03d2-4796-bec4-b0f470efa229"
      },
      "execution_count": null,
      "outputs": [
        {
          "output_type": "stream",
          "name": "stdout",
          "text": [
            "The variables were created successfully!\n"
          ]
        }
      ]
    },
    {
      "cell_type": "markdown",
      "source": [
        "**TASK 02**:\n",
        ">Read [this page](https://www.w3schools.com/python/ref_func_type.asp) to learn about Python's `type()` function, and then write a line of code in the cell below that will determine the data type of the `weight` variable.\n",
        "\n",
        "**QUESTION 02**:\n",
        ">What is the data type of the `weight` variable?"
      ],
      "metadata": {
        "id": "GM_irIN6U4Ge"
      }
    },
    {
      "cell_type": "code",
      "source": [
        "#write a line of code that will display the data type of the 'weight' variable\n",
        "x = type(weight)\n",
        "print(x)\n"
      ],
      "metadata": {
        "id": "Xg6wdbiZV3ee",
        "colab": {
          "base_uri": "https://localhost:8080/"
        },
        "outputId": "94db534b-d318-48bc-ec89-d1994147b3ae"
      },
      "execution_count": null,
      "outputs": [
        {
          "output_type": "stream",
          "name": "stdout",
          "text": [
            "<class 'float'>\n"
          ]
        }
      ]
    },
    {
      "cell_type": "markdown",
      "source": [
        "### Lists in Python\n",
        "In Python, we can use a `list` to store multiple data values using a single variable name. Put differently, a list can be used to hold a *collection* of different values. We use square brackets `[]` to create lists in Python. If we want to simultaneously declare a list and add items to that list, we can do so by using a comma-separated set of values. In Python, lists are allowed to hold items that have different data types. For example, it's possible to store both text and numbers in the same list.\n",
        "\n",
        "Run the code cell below to create and populate a few different lists."
      ],
      "metadata": {
        "id": "53G6vFqfWJxd"
      }
    },
    {
      "cell_type": "code",
      "metadata": {
        "id": "8HmF04JOcQDf",
        "colab": {
          "base_uri": "https://localhost:8080/"
        },
        "outputId": "42e8d33e-d4b3-4b56-8a7b-20d1bbdd2749"
      },
      "source": [
        "#examples of lists\n",
        "my_empty_list = [] #declare an empty list\n",
        "numbers = [0, 1, 1, 2, 3, 5, 8] #declare a list and populate it with some numbers\n",
        "names = ['Sheldon', 'Amy', 'Rajesh', 'Penny'] #declare a list and populate it with some names\n",
        "\n",
        "#create a list that holds items of different data types\n",
        "mixed_list = ['Nachos', 33, -42.7]\n",
        "\n",
        "#print a status message\n",
        "print('The lists were created successfully!')"
      ],
      "execution_count": null,
      "outputs": [
        {
          "output_type": "stream",
          "name": "stdout",
          "text": [
            "The lists were created successfully!\n"
          ]
        }
      ]
    },
    {
      "cell_type": "markdown",
      "source": [
        "**TASK 03**:\n",
        ">Read [this page](https://www.w3schools.com/python/ref_func_len.asp) to learn about Python's `len()` function, and then write a line of code in the cell below that will display the number of items in the `names` list.\n",
        "\n",
        "**QUESTION 03**:\n",
        ">How many items are in the `names` list?"
      ],
      "metadata": {
        "id": "PnCk28cgbsV1"
      }
    },
    {
      "cell_type": "code",
      "metadata": {
        "id": "q3_10ehvcXyZ",
        "colab": {
          "base_uri": "https://localhost:8080/"
        },
        "outputId": "5a7e937c-9f3e-4637-e175-6969ba78bcc6"
      },
      "source": [
        "#write a line of code that will display the number of items in the 'names' list\n",
        "y = len(names)\n",
        "print('The number of items in the names list contains', y, 'characters.')"
      ],
      "execution_count": null,
      "outputs": [
        {
          "output_type": "stream",
          "name": "stdout",
          "text": [
            "The number of items in the names list contains 4 characters.\n"
          ]
        }
      ]
    },
    {
      "cell_type": "markdown",
      "source": [
        "The `len()` function can also be used to determine the number of characters that appear in a string (text) variable. This can be very useful for many different text mining tasks.\n",
        "\n",
        "Run the code cell below to determine how many characters appear in the following sentence:\n",
        ">\"Mr. and Mrs. Dursley, of number four Privet Drive, were proud to say that they were perfectly normal, thank you very much.\""
      ],
      "metadata": {
        "id": "6HZ7x1luvmkz"
      }
    },
    {
      "cell_type": "code",
      "source": [
        "#define a sentence\n",
        "sentence = 'Mr. and Mrs. Dursley, of number four Privet Drive, were proud to say that they were perfectly normal, thank you very much.'\n",
        "\n",
        "#determine how many characters appear in the sentence\n",
        "number_of_characters = len(sentence)\n",
        "\n",
        "#display the result\n",
        "print('The sentence contains', number_of_characters, 'characters.')"
      ],
      "metadata": {
        "id": "fkxK7MGKw862",
        "colab": {
          "base_uri": "https://localhost:8080/"
        },
        "outputId": "67008107-6de6-48d2-b795-b13bf1da003e"
      },
      "execution_count": null,
      "outputs": [
        {
          "output_type": "stream",
          "name": "stdout",
          "text": [
            "The sentence contains 122 characters.\n"
          ]
        }
      ]
    },
    {
      "cell_type": "markdown",
      "source": [
        "### Accessing List Items\n",
        "Since all of the items in a list are stored in the computer's memory using just one name, we need to use each item's location in the list in order to access the value of the item. An item's location in a list is known as its *index*. Like most other programming languages, Python uses zero-based indexing, which means that the first item in a list will have an index location of zero, the second item in the list will have an index location of one, and so on. This concept is illustrated in the figure below:\n",
        "\n",
        "![List Indexes.png](data:image/png;base64,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)"
      ],
      "metadata": {
        "id": "gSvD2JDUfQBr"
      }
    },
    {
      "cell_type": "markdown",
      "source": [
        "To access the value of a list item in Python, we simply need to specify the index of the target item inside square brackets. Run the code cell below to see an example."
      ],
      "metadata": {
        "id": "Cd1ZGYECEucZ"
      }
    },
    {
      "cell_type": "code",
      "source": [
        "#define a list containing five numbers\n",
        "numbers = [-3, 7, 4, 0, -2]\n",
        "\n",
        "#print the value of the third item in the list. Note that since Python uses zero-based\n",
        "#indexing, the third item in the list has an index of 2.\n",
        "print('The value of the third item in the list is:', numbers[2])"
      ],
      "metadata": {
        "id": "_m_oKh8WFNgO",
        "colab": {
          "base_uri": "https://localhost:8080/"
        },
        "outputId": "edeaa6b3-447e-4fb1-80b7-e65a484a07c6"
      },
      "execution_count": null,
      "outputs": [
        {
          "output_type": "stream",
          "name": "stdout",
          "text": [
            "The value of the third item in the list is: 4\n"
          ]
        }
      ]
    },
    {
      "cell_type": "markdown",
      "source": [
        "**TASK 04**:\n",
        ">Read [this page](https://www.w3schools.com/python/gloss_python_change_list_item.asp) to learn how to change the value of an item in a list, and then write a line of code in the cell below that will change the value of the fourth item in the `numbers` list to `12.1`. When you are finished, run the code cell, and note the output value that is printed to your screen.\n",
        "\n",
        "**QUESTION 04**:\n",
        ">What output value appears when you run the code cell below after changing the value of the fourth item in the `numbers` list to `12.1`? Record your answer using three decimals of precision (e.g., `376.992`)."
      ],
      "metadata": {
        "id": "9qyyNxprHCVF"
      }
    },
    {
      "cell_type": "code",
      "source": [
        "#write a line of code that will change the value of the fourth item in the 'numbers'\n",
        "#list to 12.1\n",
        "\n",
        "numbers[3]= 12.1\n",
        "\n",
        "#print the output value to the screen\n",
        "print('The output value is:', numbers[3]**3)"
      ],
      "metadata": {
        "id": "64_S2wkqHD-d",
        "colab": {
          "base_uri": "https://localhost:8080/"
        },
        "outputId": "ff1d96bc-1a72-4b7d-f433-f603fc2169ae"
      },
      "execution_count": null,
      "outputs": [
        {
          "output_type": "stream",
          "name": "stdout",
          "text": [
            "The output value is: 1771.561\n"
          ]
        }
      ]
    },
    {
      "cell_type": "markdown",
      "source": [
        "### Adding Items to an Existing List\n",
        "There are several ways to add new items to an existing list in Python. To add a new item to the end of a list, we can use the list's `append()` method. To add a new item to a specific location within a list, we can use the list's `insert()` method. The code cell below shows an example of using `append()` to add new items to the end of a list."
      ],
      "metadata": {
        "id": "BdJ5o1q-dQnp"
      }
    },
    {
      "cell_type": "code",
      "metadata": {
        "id": "pVFZOV6Tchn3",
        "colab": {
          "base_uri": "https://localhost:8080/"
        },
        "outputId": "2520b835-3ad8-4f76-e234-896a86efdd30"
      },
      "source": [
        "#declare an 'animals' list, and initialize it with a few items\n",
        "animals = ['cat', 'dog']\n",
        "\n",
        "#add a few new items to the end of the list\n",
        "animals.append('dragonfly')\n",
        "animals.append('bonobo')\n",
        "\n",
        "#display the contents of the 'animals' list\n",
        "print(animals)"
      ],
      "execution_count": null,
      "outputs": [
        {
          "output_type": "stream",
          "name": "stdout",
          "text": [
            "['cat', 'dog', 'dragonfly', 'bonobo']\n"
          ]
        }
      ]
    },
    {
      "cell_type": "markdown",
      "source": [
        "**TASK 05**:\n",
        ">Read [this page](https://www.w3schools.com/python/gloss_python_add_list_items.asp) to learn about using the `insert()` method to add a new item to a specific location within a list, and then write a line of code that will insert the value `'tortoise'` into the `animals` list at index location `2`.\n",
        "\n",
        "**QUESTION 05**:\n",
        ">What are the contents of the 'animals' list after insering the value `'tortoise'` into the list at index location `2`?"
      ],
      "metadata": {
        "id": "i801qgyEQCYZ"
      }
    },
    {
      "cell_type": "code",
      "metadata": {
        "id": "ipMeK83zcqMh",
        "colab": {
          "base_uri": "https://localhost:8080/"
        },
        "outputId": "bb0187ae-051b-4de9-83d9-138e37db6751"
      },
      "source": [
        "#write a line of code that will insert the value 'tortoise' into the 'animals' list at index location 2\n",
        "\n",
        "animals.insert(2,'tortoise')\n",
        "\n",
        "#display the contents of the 'animals' list\n",
        "print(animals)"
      ],
      "execution_count": null,
      "outputs": [
        {
          "output_type": "stream",
          "name": "stdout",
          "text": [
            "['cat', 'dog', 'tortoise', 'dragonfly', 'bonobo']\n"
          ]
        }
      ]
    },
    {
      "cell_type": "markdown",
      "source": [
        "### Using Tuples in Python\n",
        "A *tuple* is very similar to a list, except that after a tuple has been created, its values cannot be changed.\n",
        "Whereas lists in Python are declared using square brackets `[]`, tuples in Python are declared using parentheses `()`, which may also be referred to as *round brackets*. Run the code cell below to see a few examples of tuples being declared and used."
      ],
      "metadata": {
        "id": "A9NgWxxKTY8g"
      }
    },
    {
      "cell_type": "code",
      "metadata": {
        "id": "wMu_wF1Lc1Vb",
        "colab": {
          "base_uri": "https://localhost:8080/"
        },
        "outputId": "8bcad722-c8c7-4820-c79c-c444b1300294"
      },
      "source": [
        "#declare a few tuples\n",
        "interesting_numbers = (33, 42, 55)\n",
        "morning_beverages = ('Coffee', 'Juice')\n",
        "\n",
        "#print some output\n",
        "print('The \"interesting_numbers\" tuple contains', len(interesting_numbers), 'items.')\n",
        "print(morning_beverages[-1], 'is the last item in the \"morning_beverages\" tuple.')\n"
      ],
      "execution_count": null,
      "outputs": [
        {
          "output_type": "stream",
          "name": "stdout",
          "text": [
            "The \"interesting_numbers\" tuple contains 3 items.\n",
            "Juice is the last item in the \"morning_beverages\" tuple.\n"
          ]
        }
      ]
    },
    {
      "cell_type": "markdown",
      "source": [
        "**TASK 06**:\n",
        ">Write a line of code below that tries to change the value of the second item in the `morning_beverages` tuple from `'Juice'` to `'Tea'`.\n",
        "\n",
        "**QUESTION 06**:\n",
        ">What happens when you attempt to change the value of the second item in the `morning_beverages` tuple from `'Juice'` to `'Tea'`?"
      ],
      "metadata": {
        "id": "laS-bD1DW_9q"
      }
    },
    {
      "cell_type": "code",
      "metadata": {
        "id": "kptPbKvac5ha",
        "colab": {
          "base_uri": "https://localhost:8080/",
          "height": 176
        },
        "outputId": "14f3371a-cc64-4d55-874b-161737c915fd"
      },
      "source": [
        "#write a line of code that attempts to change the value of the second item in the\n",
        "#'morning_beverages' tuple from 'Juice' to 'Tea'\n",
        "\n",
        "morning_beverages[1]= 'Tea'"
      ],
      "execution_count": null,
      "outputs": [
        {
          "output_type": "error",
          "ename": "TypeError",
          "evalue": "'tuple' object does not support item assignment",
          "traceback": [
            "\u001b[0;31m---------------------------------------------------------------------------\u001b[0m",
            "\u001b[0;31mTypeError\u001b[0m                                 Traceback (most recent call last)",
            "\u001b[0;32m<ipython-input-21-08fba17d2d0f>\u001b[0m in \u001b[0;36m<cell line: 4>\u001b[0;34m()\u001b[0m\n\u001b[1;32m      2\u001b[0m \u001b[0;31m#'morning_beverages' tuple from 'Juice' to 'Tea'\u001b[0m\u001b[0;34m\u001b[0m\u001b[0;34m\u001b[0m\u001b[0m\n\u001b[1;32m      3\u001b[0m \u001b[0;34m\u001b[0m\u001b[0m\n\u001b[0;32m----> 4\u001b[0;31m \u001b[0mmorning_beverages\u001b[0m\u001b[0;34m[\u001b[0m\u001b[0;36m1\u001b[0m\u001b[0;34m]\u001b[0m\u001b[0;34m=\u001b[0m \u001b[0;34m'Tea'\u001b[0m\u001b[0;34m\u001b[0m\u001b[0;34m\u001b[0m\u001b[0m\n\u001b[0m",
            "\u001b[0;31mTypeError\u001b[0m: 'tuple' object does not support item assignment"
          ]
        }
      ]
    },
    {
      "cell_type": "markdown",
      "source": [
        "### Using Dictionaries in Python\n",
        "In Python, a *dictionary* is a named collection of key/value pairs. More specifically, each item in a dictionary consists of two parts: a *key* and the key's associated *value*. Dictionaries are very useful for storing and looking up specific values based on a known key.\n",
        "\n",
        "Dictionaries in Python are declared using curly brackets `{}`. Like lists, items can be added to a dictionary either when it is initially declared or after it has already been declared. Run the code cell below to see a few examples of dictionaries being declared and used."
      ],
      "metadata": {
        "id": "zXbHtZbuYq6x"
      }
    },
    {
      "cell_type": "code",
      "metadata": {
        "id": "zxJF0VnDdMu9",
        "colab": {
          "base_uri": "https://localhost:8080/"
        },
        "outputId": "df52b09c-a951-45cd-ab56-3495d10c8e76"
      },
      "source": [
        "#dictionary declaration examples\n",
        "patient_name = {} #declaring an empty dictionary\n",
        "#declaring a dictionary that holds city names (keys) and their populations (values)\n",
        "city_population = {'Beijing' : 22100000, 'New York' : 8800000, 'New Delhi' : 21800000}\n",
        "\n",
        "#using a key to get a value from a dictionary\n",
        "print('The population of New York is:', city_population['New York'])\n",
        "\n",
        "#adding values to a dictionary. In this case, the keys are patient IDs and their\n",
        "#associated values are the patients' names\n",
        "patient_name[33] = 'Geralt'\n",
        "patient_name[42] = 'Yennefer '\n",
        "patient_name[55] = 'Cirilla'\n",
        "print('The name of patient 55 is:', patient_name[55])\n",
        "\n",
        "#changing values in a dictionary\n",
        "pet_age = {'Lyra' : 9, 'Scout' : 9, 'Sheldon' : 47}\n",
        "pet_age['Sheldon'] = 48\n",
        "print('Sheldon is', pet_age['Sheldon']) #yields 48"
      ],
      "execution_count": null,
      "outputs": [
        {
          "output_type": "stream",
          "name": "stdout",
          "text": [
            "The population of New York is: 8800000\n",
            "The name of patient 55 is: Cirilla\n",
            "Sheldon is 48\n"
          ]
        }
      ]
    },
    {
      "cell_type": "markdown",
      "source": [
        "**TASK 07**:\n",
        ">Read [this page](https://www.w3schools.com/python/python_dictionaries_methods.asp) to learn about some of the methods that are available for working with dictionaries, and then write a line of code that will remove patient `33` from the `patient_name` dictionary.\n",
        "\n",
        "**QUESTION 07**:\n",
        ">What is the appropriate line of code to remove patient `33` from the `patient_name` dictionary?"
      ],
      "metadata": {
        "id": "SHsapZoxhyOX"
      }
    },
    {
      "cell_type": "code",
      "source": [
        "#write a line of code that will remove patient 33 from the 'patient_name' dictionary\n",
        "patient_name.pop(33, None)"
      ],
      "metadata": {
        "id": "sEMmF7fNji6y",
        "colab": {
          "base_uri": "https://localhost:8080/",
          "height": 35
        },
        "outputId": "ea498c44-2cb9-4cc9-d70b-a1012d78f945"
      },
      "execution_count": null,
      "outputs": [
        {
          "output_type": "execute_result",
          "data": {
            "text/plain": [
              "'Geralt'"
            ],
            "application/vnd.google.colaboratory.intrinsic+json": {
              "type": "string"
            }
          },
          "metadata": {},
          "execution_count": 24
        }
      ]
    },
    {
      "cell_type": "markdown",
      "source": [
        "### Mathematical Operations in Python\n",
        "Python supports all common mathematical operations, as well as some less common operations. Basic mathematical operations can be performed on numbers or on variables that contain numbers. Here are some examples:"
      ],
      "metadata": {
        "id": "OGv5MjHXkUkE"
      }
    },
    {
      "cell_type": "code",
      "metadata": {
        "id": "XNZQi3HydUJO"
      },
      "source": [
        "a = 5              #set the value of a variable named 'a' to 5\n",
        "b = a + 2          #addition. Result: 7\n",
        "c = 7 - 3          #subtraction. Result: 4\n",
        "d = c * 2          #multiplication. Result: 8\n",
        "e = 8 / 4          #division. Result: 2.0\n",
        "f = e ** 2         #exponentiation. Result: 4.0\n",
        "g = 5 % 2          #modulus (returns the remainder). Result: 1\n",
        "h = 7 // 3         #floor division (returns the largest integer less than or equal to the quotient). Result: 2\n",
        "i = (2.4 + a) / 2  #parentheses can be used to control the order of operations. Result: 3.7\n",
        "\n",
        "print(a)\n",
        "print(b)\n",
        "print(c)\n",
        "print(d)\n",
        "print(e)\n",
        "print(f)\n",
        "print(g)\n",
        "print(h)\n",
        "print(i)"
      ],
      "execution_count": null,
      "outputs": []
    },
    {
      "cell_type": "markdown",
      "source": [
        "**TASK 08**:\n",
        ">Write a line of code that will multiply `13.7` by `12.4`, and then square the result.\n",
        "\n",
        "**QUESTION 08**:\n",
        ">What is the squared product of `13.7` and `12.4`? Record your answer using three decimals of precision (e.g., 729.014)"
      ],
      "metadata": {
        "id": "BU4mPoFenIdL"
      }
    },
    {
      "cell_type": "code",
      "source": [
        "#write a line of code that will multiply 13.7 by 12.4, and then square the result\n",
        "a = 13.7*12.4\n",
        "d = a**2\n",
        "print(\"{:.3f}\".format(d))\n"
      ],
      "metadata": {
        "id": "TCJqLV4Do236",
        "colab": {
          "base_uri": "https://localhost:8080/"
        },
        "outputId": "912b8b51-facd-4fd6-d799-ba5c6ed654c7"
      },
      "execution_count": null,
      "outputs": [
        {
          "output_type": "stream",
          "name": "stdout",
          "text": [
            "28859.214\n"
          ]
        }
      ]
    },
    {
      "cell_type": "markdown",
      "source": [
        "### Comparisons in Python\n",
        "Python provides a complete set of comparison operators that we can use in our programs. The result of every comparison is either `True` or `False`. Examples of all of Python's comparison operators are provided in the code cell below."
      ],
      "metadata": {
        "id": "ix1ZxaOTGWbE"
      }
    },
    {
      "cell_type": "code",
      "metadata": {
        "id": "UF-GkCKqdYAG"
      },
      "source": [
        "x = 5   #set the value of a variable named 'x' to 5\n",
        "print(x == 3)  #checks whether x is equal to 3. Result: False\n",
        "print(x != 7)  #checks whether x is not equal to 7. Result: True\n",
        "print(x > 14)  #checks whether x is greater than 14. Result: False\n",
        "print(x < 23)  #checks whether x is less than 23. Result: True\n",
        "print(x >= 9)  #checks whether x is greater than or equal to 9. Result: False\n",
        "print(x <= 5)  #checks whether x is less than or equal to 5. Result: True"
      ],
      "execution_count": null,
      "outputs": []
    },
    {
      "cell_type": "markdown",
      "source": [
        "In addition to numbers, Python's comparison operators can also be used to compare strings of text. This task is called *lexicographical comparison*. Lexicographical comparisons are based on the order in which items would appear in a dictionary. Unlike numbers, the lexicographical order of concepts can vary among different human languages. For example, in English, `'cat'` is lexicographically less than `'dog'`, but in German, `'Katze'` (cat) is lexicographically greater than `'Hund'` (dog).\n",
        "\n",
        "**TASK 09**:\n",
        ">Write a line of code in the cell below that will determine if the string `'nachos'` is less than the string `'tacos'`.\n",
        "\n",
        "**QUESTION 09**:\n",
        ">Is the string `'nachos'` lexicographically less than the string `'tacos'` in Python?\n"
      ],
      "metadata": {
        "id": "sLPGA4z8IV9Q"
      }
    },
    {
      "cell_type": "code",
      "source": [
        "#write a line of code that will determine if the string 'nachos' is less than the string 'tacos'\n",
        "print('nachos' < 'tacos')"
      ],
      "metadata": {
        "id": "sM0KtfkSIXor",
        "colab": {
          "base_uri": "https://localhost:8080/"
        },
        "outputId": "09343df9-8157-4e5b-cf74-dca05c3e2763"
      },
      "execution_count": null,
      "outputs": [
        {
          "output_type": "stream",
          "name": "stdout",
          "text": [
            "True\n"
          ]
        }
      ]
    },
    {
      "cell_type": "markdown",
      "source": [
        "### Logical Operators in Python\n",
        "Python provides two logical operators -- `and` and `or` -- that can be used to perform more complicated, compound comparisons. Python also provides a `not` operator that we can use to invert the results of a comparison. Examples of `and`, `or`, and `not` are provided in the code cell below."
      ],
      "metadata": {
        "id": "Hsz7PF2bOfjX"
      }
    },
    {
      "cell_type": "code",
      "metadata": {
        "id": "-1QUyhE2dbJA"
      },
      "source": [
        "#declare and initialize some variables\n",
        "x = 5\n",
        "y = 10\n",
        "z = 15\n",
        "\n",
        "#test compound conditions using 'and' and 'or'\n",
        "print(x > 0 and y > 0) #yields True\n",
        "print(y < 0 or z > 0) #yields True\n",
        "print(x < 0 or z < 0) #yields False\n",
        "\n",
        "#invert the results of a comparison using 'not'\n",
        "print(x > 0) #yields True\n",
        "print(not x > 0) #yields False"
      ],
      "execution_count": null,
      "outputs": []
    },
    {
      "cell_type": "markdown",
      "source": [
        "**TASK 10**:\n",
        ">Assume that we have three variables, defined as follows:\n",
        ">\n",
        ">`x, y, z = 16, -12, 8`\n",
        ">\n",
        ">Use the code cell below to answer the following question.\n",
        "\n",
        "**QUESTION 10**:\n",
        ">Which of the following compound conditions evaluates to `True`?\n",
        "* (x - 3 * y - z**2 <= y) and (z % 2 < x)\n",
        "* (z // 3 > x / z) or (not y - z < x)\n",
        "* (x < y) or (y < z) or (x < z)\n",
        "* ((-y + 4 == x) and (z + y < y / 3)) or (2 * z > x)"
      ],
      "metadata": {
        "id": "q9imh0LuQJXT"
      }
    },
    {
      "cell_type": "code",
      "source": [
        "#write some lines of code to determine which of the compound conditions listed\n",
        "#in Question 10 evaluates to 'True'\n",
        "x = 16\n",
        "y = -12\n",
        "z = 8\n",
        "\n",
        "print(x - 3 * y - z**2 <= y) and (z % 2 < x)\n",
        "print(z // 3 > x / z) or (not y - z < x)\n",
        "print(x < y) or (y < z) or (x < z)\n",
        "print((-y + 4 == x) and (z + y < y / 3)) or (2 * z > x)\n",
        "\n",
        "\n",
        "\n"
      ],
      "metadata": {
        "id": "RUnqUAzKQJwq",
        "colab": {
          "base_uri": "https://localhost:8080/"
        },
        "outputId": "d29f8b85-b3bb-44b0-e662-34c4aa21f3fe"
      },
      "execution_count": null,
      "outputs": [
        {
          "output_type": "stream",
          "name": "stdout",
          "text": [
            "True\n",
            "False\n",
            "False\n",
            "False\n"
          ]
        },
        {
          "output_type": "execute_result",
          "data": {
            "text/plain": [
              "False"
            ]
          },
          "metadata": {},
          "execution_count": 6
        }
      ]
    },
    {
      "cell_type": "markdown",
      "source": [
        "### Defining and Using Functions in Python\n",
        "A *function* is a block of code that performs a specific task. Functions only run when they are *called* from somewhere else in a Python program, and this makes them very useful when we need to perform a particular task more than once. Functions often take *arguments*, which are input values that are provided to the function so that it can perform its task. Functions also typically return some sort of result as output.\n",
        "\n",
        "In Python, functions are defined by using the `def` keyword, followed by the name of the function, followed by parentheses that enclose the names of any arguments, followed by a colon character (`:`). After the line of code that defines a function, all other lines of code that comprise the function are indented from the left. The code cell below provides an example of a function being defined and used in Python."
      ],
      "metadata": {
        "id": "BE5yeqTvWXsK"
      }
    },
    {
      "cell_type": "code",
      "metadata": {
        "id": "TxFNsT2vdeNV"
      },
      "source": [
        "#define a function that calculates the area of a rectangle\n",
        "def area_of_rectangle(width, height):\n",
        "  return width * height\n",
        "\n",
        "#call the function and print the result\n",
        "area = area_of_rectangle(33, 147)\n",
        "print('The area of the rectangle is:', area)"
      ],
      "execution_count": null,
      "outputs": []
    },
    {
      "cell_type": "markdown",
      "source": [
        "**TASK 11**:\n",
        ">Use the code cell below to write a function that will compute the area of a right triangle, and then call your function to determine the area of a right triangle whose height is 32 and whose width is 47.\n",
        ">\n",
        ">![Area of a Right Triangle.png](data:image/png;base64,iVBORw0KGgoAAAANSUhEUgAAAMoAAABvCAYAAACttF/1AAAAAXNSR0IArs4c6QAABM90RVh0bXhmaWxlACUzQ214ZmlsZSUyMGhvc3QlM0QlMjJhcHAuZGlhZ3JhbXMubmV0JTIyJTIwbW9kaWZpZWQlM0QlMjIyMDIyLTAzLTI4VDAzJTNBNDElM0EzMS40OTBaJTIyJTIwYWdlbnQlM0QlMjI1LjAlMjAoV2luZG93cyUyME5UJTIwMTAuMCUzQiUyMFdpbjY0JTNCJTIweDY0KSUyMEFwcGxlV2ViS2l0JTJGNTM3LjM2JTIwKEtIVE1MJTJDJTIwbGlrZSUyMEdlY2tvKSUyMENocm9tZSUyRjk4LjAuNDc1OC44MiUyMFNhZmFyaSUyRjUzNy4zNiUyMiUyMGV0YWclM0QlMjI2RHptYlNoRUVSRUZfVmJEZ3NtbyUyMiUyMHZlcnNpb24lM0QlMjIxNy4xLjUlMjIlM0UlM0NkaWFncmFtJTIwaWQlM0QlMjJzM2taLUpBUWJTdzRkN3JKZ1FoSyUyMiUyMG5hbWUlM0QlMjJQYWdlLTElMjIlM0U1VmJSYnBzd0ZQMGFwRzFTS3NDQkpJOUoycTBQblZTdDB0cTN5WUFCYjRhTGpKT1FmdjJ1d1NRQnA5b21wYXEwUGlEd3VkZjI5VG5IeGc1WkY4MFhTYXY4S3lSTU9MNmJOQTY1ZG56ZjgwTVhYeHJaRzRRUWcyU1NKd1k3QWclMkY4bVJtd1Q5dndoTldEUkFVZ0ZLJTJCR1lBeGx5V0kxd0tpVXNCdW1wU0NHczFZMFl4YndFRk5obzQ4OFVYbUh6Z1AzaU44eW51WDl6SjVySWdYdGt3MVE1elNCM1FsRWJoeXlsZ0NxJTJCeXFhTlJPYXZaNlhydCUyRm5GNktId2lRcjFkOTB1RXVKRzJiczZTZlozaWZmbDZ2SDIlMkYyM0NlbEcyVkt4TVFzMnhhcDl6OENXU2NXUmtEc2FNWEVQTlZjY1NneEZvQlFVRGxuMUNVdkJNeDFRVUNHYXEwSmd3OE5QWEhtbEJ5dWFUTHZrS3FJMWo2OUFxaHd5S0tuNG9TU25aYVluWEtWY2lEVUlrTzNrSkozSExJNzFHRXJDTDNZU2llYkJGRlVnSzdNQ0xJSTFMMUxqSFFoSHF6SW9tSko3VERFZEpyT3BFY25ZZE9KUEZ4MndPNHAlMkJrRFklMkZFWHhtTUdwOGxoMEdQMHFCSDBhTmYxQm0lMkJtZGxkamxYN0tHaXNXN3ZrTm9oN2JTdXVoMlI4b1lscjhXVXQzQnRwanlicUI2N09GR0JSVlJrTVlVTFZpTnlqRmxqWERpVFoxeGM4Q1JwSFNsWnpaOXAxQTZsJTJGVllCTDFXN2lHRGxCTmQ2ckkzQ2JkR2VYSjVsMVJMS3NhOE5kQkU1M0xFY005dTQlMkZobmYlMkJxJTJGbDI5Q1NnNzRqT2NMeE9lSlAzMWFPbVNWSCUyRkg3a0NCZmhTQTdpdjYwY2MwdU9wV1M0UVZ4STlYVDR5TFlLdk9YMCUyRjBTc1JTZTZIM1QwRXo3UlI0MWhHYjVyJTJGeFAlMkJXeTFuaSUyRkZKRjV3NzZTNGpKamFQRjdNMmRuSyUyRkpUZSUyRkFRJTNEJTNEJTNDJTJGZGlhZ3JhbSUzRSUzQyUyRm14ZmlsZSUzRdIKs5EAAA5USURBVHhe7V1dbBXHFT5O1EagguLYfUAIJ3HaGFCDJYT6UNsN8AAhfSm0hBTbL8XB/LhWLaFKtbExtkCqjGRkAZIfeLIt4RcegWsDUmNc0cYyRWopLn8WxSREOCGC2mnA0Dlz71zG4/2Z3bvr3Tv3rBRiX8/OnPnO+ebMfDs7N+8FuyDbL9aDvzb9AZZUvA9Fm34BgD3Ky/ZOkf1xQiDPCKIwRBNbN0P+28XwvcJCWPnJLngt/3ViS5wiLcttMYoo6xr3w52hT+H+lSuwvGYnLCkrT2UXSjFZHqeRm28GURgPEh9thrVN+zkxvh6/AzcvnIc3Vq2CFTt2Qd6rrzCgiSyRR1sWG2AGUZgDBtjU632WUXBp8oL982LmOdwcHIBHExOwonYXvPGTVbRsyeJAjdp0I4iCuQKJspYRhV+cLckfHlz7B9w6fx6WfbAJfrTtY/ZxHhEm6qjLwvaNIArinti6BdY1NiX5kb6QFC/gf0+ewL8ZWWaePYUVO2th0Ztv00QsC4M1SpMNIspmRpT9ClEEtMkUc2/kb3BzYABW/LYGlqGMnLpISY4yBLOjbaOIkp56WWHP2JDH0s3jLx/ArQsXJBk5Pzs8RVZGioARRBFrFPuMMjuz4G/jTEb+nMnIJbNk5Eh9QY3HGAEjiGK/RrFBPpVdvhq/nZSR32Mycg2TkV95NZl2aLkf45CNxjQziCKeowjVywOWz58/h1uDg/Do/j220E/KyHjRusUDiDlQ1AyiMEeJ5yjefJbWkeHBv/7JCCNk5N94q4ZKG4+AMUTBvV5rG5u5uuX3+m6WjLyLychv+a2K7jMMATOIwrgxwLaw4JP5TC/MMf9hMvItJiMv31EDRRuTMjI+7afpWKboZu/9ZhCF4Z/MKJkTJenKPPjvl1+whb4kI7/OZGRiSvZGeoaWG0UUd3lYF63k2gX/RRl5Qt6NrFsFlTMKATOIkla9MlujzPVsUkf++g7bjcy2wOSz3cgra2rZbmQmI5OKbBQR3DpjBlFw6sXWKOv+aLeFxQ0Gl7/jbmQmI98cGIRv7k/AcrZfrIDJyMSVDHHNotuNIgpfo/gXvWzdJkRk/P8XKCOfH4RlGz9ku5FJRs6iWM/IVDOIksEDR0/opV52+e7JY7jBnug/ffoUVqZ2I3uqhwpnHQJGEOXl+yhBr1Fs/JlKMfdGPmPTsQR7izIlI5MqlnUE0DXYCKJgZ0Ndo1igKaZjT/hu5Ivw/cICWMEPtcintYtu9GVROSOIMu8ZRXKwIAzKyPf/PsoeUtbCkp+xQy2Czi6kHERKKyOIggiKV4FDWMtrOCj5JuVX7FALXLvgbmQuI/vcjSw40dfXB1XVVVyg6O3tg8rt24MnoEbvqAg+JTDhADycegX6ZN5/aPDdyCgjf36fycg7fR1qgUT5y/Aw9PT0QOfRTpiamoLf7a2DA62tUPJuCZHFv3t832kEUfjUC48rCkke1kb35WZkdqhFSkb+4EN4h8nI2jOxVDppb2+H4uJ30lmEf8z+oT1n2t4ItKARRMG5SWLrr9i5Xk2hPEfxizjuRsYn+jMzz2D5J7Xwg6K33AOdkWH622loaPg9VFT8HLZXVuqTzK+hdJ8rAoYQJT5TLyvE0zIyO9SCn42scSUzSjFUMqLQFT0CRJR58kFSRr7AZOTCtIzs1DQu5IeGhqCzM7lGQcI0NzdDWVnZPFlMzcgIEFHmOR64jHyFychMFeNnIztcmFVaWlp4id7eXsou8+wrIkqEgGPT6bOR+aEWqd3IEdtEzTsjENuMMjk5yUfQRCLBe9DW1sanHnZXXORh3YDju5HZoRZ8NzJb6Bcw0tAVXwRiSZTpaVR9GpjqU8HJMjY2BvX19dDV1QUlJew5gsWVbUQRXZBlZNqNTETJCAHMLnV1ddCKD9wMIwoCI2TkZykZmQ61yChcQrk5lhkFezrMnkyXl79c7JaWlkJ/f7+RRBGe9SMjhxIVVOkcBGJJFLE+EXKo6RlF9kpaRi5gMjI7kA93I9MVPQJZQRR8ptDR0WF8RpHDwYuMHH0YmW9BLImCsPOds1Vs5yy7uru7YXR0FKqrq20fuGXrYt4pxEhGjg8BY0sUrxCZSBTEAGXk5NnIJCN7jYkgyxNRgkQzxLpIRg4RXI2qiSgaIMWlCMnI0XmCiBId9r5bJhnZN3S+bySi+IYu2huFjPxa4Q/5FhiSkcP1BxElXHxDr51k5NAh5g0QUeYH51BbIRk5VHiJKOHDO38tcBmZHfX6aIJk5DBQp4wSBqoR1kkycjjgE1HCwTXSWklGDh5+IkrwmMamRiEjL2eHWrypeahFbIyPmSFElJg5JGhzSEYOBlEiSjA4xr6W8U//zM5GvqJ1qEXsOxOBgUSUCECPqkkhIxesKmWHie9MfsUeXVoIEFG0YDKnED/U4vwAfDPBzkamQy20HUtE0YbKrIIPrl1jz10GYBk7G5kOtXD3LRHFHSNjS5CMrO9aIoo+VsaWJBnZ3bVEFHeMcqIEycjObiai5AQN9DtJMrI1VsYQJS9P+6t6OBLfjo7oR0+OlUzLyO8xGbmGZGR0v1FE0f2WPSQVEcWZ/SQjz8aHiJJj2cJrd5My8iAs28Rk5I8+9nq7MeWJKMa4MryOoIx8g5FlZmaGP6TMxbORiSjhxZdxNU+MfAY3BhKQi7uRiSjGhXO4HcpVGZmIEm5cGVt7rsnIRBRjQzn8jr081KKUfcWe2TIyESX8eDK6hVyRkYkoRofx/HXOdBmZiDJ/sWR8S1xGvsBk5GfmychGEcVLJJ779S+9FKeyHhHI//G78NPDf/J4V3yLG0OU+EJMlpmAABHFBC9SH0JHgIgSOsTUgAkIEFFM8CL1IXQEiCihQ+zewPT0NDQ0NDh+mat7LVQiTASIKGGiq1k3EUUTqAiLEVEiBF80LYiyevVqOHHiBFy9ehV6e3uhsrIyBtaRCYgAESUGcSCIMj4+Dn19ffDw4UOor6+Hrq4uKCkpiYGFZAIRJQYxIIhSUVGRziLt7e1QXFxMWSUG/qGMEhMnWK1RiCgxcU7KDMooMfCHmlGsMkwMzMxpE4goMXC/IAaa0tnZCXfv3qU1Sgz8IptARImBQ6xUr0uXLkFZWVkMrCMTaI1CMUAIaCJAGUUTKCqW2wgQUXLb/9R7TQSIKJpAUbHcRoCIktv+p95rIkBE0QSKiuU2AkSU3PY/9V4TASKKJlBULLcRIKLktv+p95oIEFE0gaJiuY0AESW3/U+910TAF1FwC/jExATfwLdgwQLNpoItNjw8DOXl5VBaWgr9/f0Zv+A0NjYGra2tcOzYMSgoKLA01umV3cnJSairq+N1qC9bOdWt065f5BCjnp6eUP2EsbB+/XpP+9Kwz2fOnOHnBKiXk81ubaF/Dhw4ADt27JjlA2xv27Zt/M1RvPy8PeqZKNgoEgQv7GhUb+Dhm4B4zefrsmEQxS8JdO4LmyhY/8WLF6G5uVnHHF4Gg/3x48ewaNEiuMa+9k4dmJxsxsGoqakJDh06ZDmYYWyePHkSDh48mB7AVfJgGT9vj3omighQ7PTt27fTIAkD8HP8MlHxSqtg8saNG/lnYrTGn6uqqjh4TllBZA4sV1tby0l6+vTp9L1tbW1zHCXfg/dZ7cRV7UVwjx49mnacsA9t27BhA3fsvn37+OCgvtu+ZcsW/nl3d/ecvqBzkcyJRAIQA2ynpaWF9xtxsmtXxqWoqIjXv3Tp0vS9cr/l/uLnItuPjo6mM4oY2NBGO0y0o50VtBq9dX2K5YaGhiwznSDK4sWLoaOjg2Omxo3dAKlDXL/v+ngiigxOYWHhLHaL9Hb8+HGehkWA4GiDv8vTNXQg/i4AwJ/xUkcmuU4MThEsWA7vlYkqnKyOGHZOUe2Vp0DyO+vYTwx07IMgCraFhMV+7N27l0/9sJzO1AvrxsFD4CS3e/36dUtc3NpF+xATgZFsn5h6HTlyJI0xBpSwW54RyKSWSWM1GKmjN9ap41MRzDhds8pGgvRieqTGhlXWELa6Tc2wnBqXuoODJ6KoRsqGqQGqAuc0F7cLejUNy3WeO3fOkihqx+1SuWqvbJ9at7BPBKx4t11el3ghipz6dXBxaheJJ69D5P6KjIIkwnm7GLSCOB7JbfS286lbYLrFjd30y21aJpPJalB2s8sTUeTUKioWo43qcHX6YzWVENMA/JvVqKVmA6dgljuKBBbTG/xcTNlk4UG1V/4djwySwVSJUl1dnc6aIot4IYosGsjtLly4MD2Fk/EVRLFqd2RkZNY0xokoOP2TLz+LWnG/SgRBPjefugWkOrCpfrIjhFOmkUniV4TSJopVypJHVDRGDgCnRZlKgCAzijoiOWUUu4B1yyhhEQXblefuOgTVzShINitFTg5cL1MvNaPo+lSHKPIUTvWnHVGcxB1BYlzjeREeZFu1iaIajJXIC6M1a9bMIopKLOwIThHw/3JATE1NpdcAQaxRZDvFCI22qlK2U0ZxW6PMB1FkXJwyilhDeVmjqOszt+C1+rs6gstEcfKpW1tiJiIEGJ01ip0snOl0yxdR7BbcggCqeoONyPq1rGypStDu3bvh7NmztioIPi9Rp1B2WUieAmCbaNepU6fmyJBOREFlTkwzUXXB/56wb5NyClihTF2+fHnOcx3RX+yDipNsB/5dVsgELocPH4bGxsb02cTqMxsRXNjfPXv2cJFBiA1i/YJ1C2UOf85k2iUGSfmZhRefOpFFVb3UabNV5nBan9hlSa/9184obiOBqX/3KydGhYfdgBaGPW4L+qDb1F2wB90u1kdEsUBVFSKshIYwnOGnTjlrq1nXT31e79GRZL3WaVd+PttSbSCiBOVFqsdoBIgoRruXOhcUAkSUoJCkeoxGgIhitHupc0EhQEQJCkmqx2gE/g90cKdZiXKzfQAAAABJRU5ErkJggg==)\n",
        "\n",
        "**QUESTION 11**:\n",
        ">What is the area of a right triangle with a height of 32 and a width of 47?"
      ],
      "metadata": {
        "id": "TCYfxEj7nj2A"
      }
    },
    {
      "cell_type": "code",
      "source": [
        "#define a function that calculates the area of a right triangle\n",
        "def area_of_a_right_triangle(height, width):\n",
        "  return (height * width) / 2\n",
        "\n",
        "#call the function to determine the area of a right triangle with\n",
        "#a height of 32 and a width of 47\n",
        "\n",
        "a = 32\n",
        "b = 47\n",
        "\n",
        "area = (a*b)/2\n",
        "\n",
        "print('The area of the triangle is:', area)"
      ],
      "metadata": {
        "id": "XAyhaXACnlML",
        "colab": {
          "base_uri": "https://localhost:8080/"
        },
        "outputId": "2031bcf4-cecc-4b40-f892-136fe80c6c0a"
      },
      "execution_count": null,
      "outputs": [
        {
          "output_type": "stream",
          "name": "stdout",
          "text": [
            "The area of the triangle is: 752.0\n"
          ]
        }
      ]
    },
    {
      "cell_type": "markdown",
      "source": [
        "### Using Libraries in Python\n",
        "Now that we know about functions, we're ready to learn about libraries. In Python, a *library* is a pre-built collection of related functions that we can use in our own programs. There are thousands of libraries that allow us to do almost anything in Python, and this is one of the reasons that Python is so widely used. A few of the most popular Python libraries include:\n",
        "* <u>NumPy</u> - Numerical Python. Adds support for arrays, matrices, and high-level mathematical functions.\n",
        "* <u>Pandas</u> - Adds support for data tables, data manipulation, and basic data analysis.\n",
        "* <u>SciPy</u> - Adds support for scientific and technical computing.\n",
        "* <u>Scikit-Learn</u> - Adds support for machine learning, including a variety of classification, regression, and clustering algorithms.\n",
        "* <u>Matplotlib</u> - Adds support for visualizing data.\n",
        "\n",
        "The two code cells below provide examples of importing libraries into our Python program. The first example imports the entire `math` library, while the second example imports only one part of the `math` library."
      ],
      "metadata": {
        "id": "YcF7CG_xsSi4"
      }
    },
    {
      "cell_type": "code",
      "metadata": {
        "id": "lJ-4qlP8djIM"
      },
      "source": [
        "#import the entire 'math' library\n",
        "import math\n",
        "\n",
        "#calculate the factorial of 5 (which is equal to 5 * 4 * 3 * 2 * 1)\n",
        "math.factorial(5)"
      ],
      "execution_count": null,
      "outputs": []
    },
    {
      "cell_type": "code",
      "metadata": {
        "id": "-yJZsYkudmLY"
      },
      "source": [
        "#import just the 'factorial' function from the 'math' library\n",
        "from math import factorial\n",
        "\n",
        "#calculate the factorial of 5\n",
        "factorial(5)"
      ],
      "execution_count": null,
      "outputs": []
    },
    {
      "cell_type": "markdown",
      "source": [
        "**TASK 12**:\n",
        ">Read [this page](https://www.w3schools.com/python/python_ml_mean_median_mode.asp) to learn about NumPy's `mean()` function, and then write some code in the cell below that will import NumPy and use its `mean()` function to compute the mean of the values in the `data` list.\n",
        "\n",
        "**QUESTION 12**:\n",
        ">What is the mean of the values in the `data` list?"
      ],
      "metadata": {
        "id": "YJC2XOHMCSvw"
      }
    },
    {
      "cell_type": "code",
      "source": [
        "#declare and populate a `data` list\n",
        "data = [469, 23, 744, 771, 911, 709, 884, 417, 672, 580]\n",
        "\n",
        "#write some code that will import NumPy and use its 'mean()' function\n",
        "#to compute the mean of the values in the 'data' list.\n",
        "\n",
        "from numpy import mean\n",
        "\n",
        "mean(data)\n"
      ],
      "metadata": {
        "id": "X--yEA4fCUUe",
        "colab": {
          "base_uri": "https://localhost:8080/"
        },
        "outputId": "93f68e1f-6385-4108-fbfe-7b29be3b1971"
      },
      "execution_count": null,
      "outputs": [
        {
          "output_type": "execute_result",
          "data": {
            "text/plain": [
              "618.0"
            ]
          },
          "metadata": {},
          "execution_count": 3
        }
      ]
    },
    {
      "cell_type": "markdown",
      "source": [
        "### Using `if` Statements in Python\n",
        "In Python, `if` statements can be used to selectively run or skip one or more lines of code depending on whether a condition is `True` or `False`. Python also provides us with an `else` statement that allows one or more other lines of code to run if the condition in the `if` statement is not met. The code cells below contain a few examples of `if` and `if-else` statements."
      ],
      "metadata": {
        "id": "z31LFl-cFNhv"
      }
    },
    {
      "cell_type": "code",
      "metadata": {
        "id": "T6m-ie1sYFqs"
      },
      "source": [
        "#example of an 'if' statement\n",
        "message = 'Hello'\n",
        "name = 'Dan' #change this value if you'd like\n",
        "\n",
        "if name == 'Dan':\n",
        "  message = 'Hey, Dan!' #this line of code only runs if the name is 'Dan'\n",
        "\n",
        "print(message)"
      ],
      "execution_count": null,
      "outputs": []
    },
    {
      "cell_type": "code",
      "metadata": {
        "id": "QdHu4h_UYLww"
      },
      "source": [
        "#example of an 'if-else' statement\n",
        "age = 18 #change this value if you'd like\n",
        "\n",
        "if age < 18:\n",
        "  print('Child')\n",
        "else:\n",
        "  print('Adult') #this line of code will run if the condition in the 'if' statement is False"
      ],
      "execution_count": null,
      "outputs": []
    },
    {
      "cell_type": "markdown",
      "source": [
        "We can further extend our capabilities by adding one or more `else-if` statements. In Python, the concept of 'else-if' is indicated with the keyword `elif`. Here are a few examples:"
      ],
      "metadata": {
        "id": "wqmnsuX9HZnK"
      }
    },
    {
      "cell_type": "code",
      "metadata": {
        "id": "3WbvDq5uYPXZ"
      },
      "source": [
        "#example of an 'if-elif' statement\n",
        "age = 20\n",
        "message = 'Adult'\n",
        "\n",
        "if age < 13:\n",
        "  message = 'Child'\n",
        "elif age < 20:\n",
        "  message = 'Teenager'\n",
        "\n",
        "print(message)"
      ],
      "execution_count": null,
      "outputs": []
    },
    {
      "cell_type": "code",
      "metadata": {
        "id": "qwM6jv8NYSq-"
      },
      "source": [
        "#example of an 'if-elif-else' statement\n",
        "age = 43\n",
        "\n",
        "if age < 13:\n",
        "  print('Child')\n",
        "elif age < 20:\n",
        "  print('Teenager')\n",
        "elif age < 30:\n",
        "  print('Young Adult')\n",
        "else:\n",
        "  print('Adult')\n"
      ],
      "execution_count": null,
      "outputs": []
    },
    {
      "cell_type": "markdown",
      "source": [
        "It's perfectly acceptable -- and often very useful -- to include an `if` statement inside of another `if` statement. Here's an example:"
      ],
      "metadata": {
        "id": "YXcEIHcrIAzr"
      }
    },
    {
      "cell_type": "code",
      "metadata": {
        "id": "1UHEV8kkYXYW"
      },
      "source": [
        "#example of a nested 'if' statement\n",
        "age = 13\n",
        "gender = 'female'\n",
        "\n",
        "#if this is a young horse\n",
        "if age < 5:\n",
        "  if gender == 'female':\n",
        "    print('Filly')\n",
        "  else: #if this is a male\n",
        "    print('Colt')\n",
        "else: #if this is an adult horse\n",
        "  if gender == 'female':\n",
        "    print('Mare')\n",
        "  else: #if this is a male\n",
        "    print('Stallion')"
      ],
      "execution_count": null,
      "outputs": []
    },
    {
      "cell_type": "markdown",
      "source": [
        "We can also use the logicial `and` and `or` statements to test compound conditions in our `if` statements. Here's an example:"
      ],
      "metadata": {
        "id": "qeYafP9XIcvl"
      }
    },
    {
      "cell_type": "code",
      "metadata": {
        "id": "7Z_yznwkmC1c"
      },
      "source": [
        "#example of an 'if-elif' using multiple conditions\n",
        "age = 3\n",
        "gender = 'male'\n",
        "\n",
        "if age < 5 and gender == 'female': #if this is a young, female horse\n",
        "  print('Filly')\n",
        "elif age < 5 and gender == 'male': #if this is a young, male horse\n",
        "  print('Colt')\n",
        "elif age >= 5 and gender == 'female': #if this is an adult, female horse\n",
        "  print('Mare')\n",
        "elif age >= 5 and gender == 'male': #if this is an adult, male horse\n",
        "  print('Stallion')"
      ],
      "execution_count": null,
      "outputs": []
    },
    {
      "cell_type": "markdown",
      "source": [
        "**TASK 13**:\n",
        ">Read [this page](https://www.w3schools.com/python/python_conditions.asp) to learn more about using `if` statements in Python, and then answer the following question.\n",
        "\n",
        "**QUESTION 13**:\n",
        ">One of the `if` examples in the web page referenced directly above begins with `x = 41`. What is the output of that example?\n",
        "\n",
        "#Above ten,\n",
        "#and also above 20!"
      ],
      "metadata": {
        "id": "Pa71KNg6I6Nl"
      }
    },
    {
      "cell_type": "markdown",
      "source": [
        "### Using `for` Loops in Python\n",
        "In Python, a `for` loop is a tool that we can use to iterate over a sequence of items. More specifically, a `for` loop will run once for each item in its associated sequence. Loops are very useful when we need to do a task repeatedly, which often occurs in text mining. For example, we may need to process each document in a collection, process each word in a sentence, or process each letter in a word. `for` loops are very useful for these purposes. The code cells below provide some examples of `for` loops."
      ],
      "metadata": {
        "id": "fC9PSqhgLCr0"
      }
    },
    {
      "cell_type": "code",
      "metadata": {
        "id": "h4-gfH6oYetm"
      },
      "source": [
        "#example of a 'for' loop (iterating through a list)\n",
        "names = ['Rick', 'Morty', 'Summer', 'Jerry', 'Beth']\n",
        "\n",
        "for name in names:\n",
        "  print('Hello,', name) #say 'Hello' to this person"
      ],
      "execution_count": null,
      "outputs": []
    },
    {
      "cell_type": "markdown",
      "source": [
        "`for` loops can also be used to iterate through each letter in a string variable, which can be useful in many text mining tasks.\n",
        "\n",
        "Run the code cell below to iterate through a sentence and count the number of times the letter `e` appears in the sentence."
      ],
      "metadata": {
        "id": "vQF0KSWm2gnC"
      }
    },
    {
      "cell_type": "code",
      "source": [
        "#define a sentence\n",
        "sentence = 'When Mr. Bilbo Baggins of Bag End announced that he would shortly be celebrating \\\n",
        "            his eleventy-first birthday with a party of special magnificence, there was much \\\n",
        "            talk and excitement in Hobbiton.'\n",
        "\n",
        "#define a variable to keep track of the letter count\n",
        "letter_count = 0\n",
        "\n",
        "#use a 'for' loop to count the number of times the letter 'e' appears in the sentence\n",
        "for letter in sentence: #for each letter in the sentence\n",
        "  if letter == 'e': #if this letter is an 'e'\n",
        "    letter_count = letter_count + 1 #increment the letter count\n",
        "\n",
        "#display the results\n",
        "print('The letter \"e\" appears', letter_count, 'times in the sentence.')"
      ],
      "metadata": {
        "id": "aY-fW8M53Cji"
      },
      "execution_count": null,
      "outputs": []
    },
    {
      "cell_type": "markdown",
      "source": [
        "**TASK 14**:\n",
        ">Read [this page](https://www.w3schools.com/python/python_for_loops.asp) to learn more about using `for` loops in Python, and then write a `for` loop in the code cell below that will compute the sum of all of the integers from 0 to 1,000. **TIP**: Be careful using the `range()` function -- the value `1000` <u>should</u> be included in the sum!\n",
        "\n",
        "**QUESTION 14**:\n",
        ">What is the sum of all of the integers between 0 and 1,000?"
      ],
      "metadata": {
        "id": "6c-S2zPxON57"
      }
    },
    {
      "cell_type": "code",
      "metadata": {
        "id": "p68WADKEZmAr",
        "colab": {
          "base_uri": "https://localhost:8080/"
        },
        "outputId": "4d7ee19e-dae6-4ae2-9b5b-9dcd2f43d814"
      },
      "source": [
        "#write a 'for' loop that will compute the sum of all of the integers\n",
        "#from 0 to 1,000.\n",
        "\n",
        "total_sum = 0\n",
        "for x in range(1001):\n",
        "    total_sum += x\n",
        "print(total_sum)\n",
        "\n"
      ],
      "execution_count": null,
      "outputs": [
        {
          "output_type": "stream",
          "name": "stdout",
          "text": [
            "500500\n"
          ]
        }
      ]
    },
    {
      "cell_type": "markdown",
      "source": [
        "## End of Lab Assignment 01!"
      ],
      "metadata": {
        "id": "bU49MvlAQYDv"
      }
    }
  ]
}