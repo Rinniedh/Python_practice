{
  "nbformat": 4,
  "nbformat_minor": 0,
  "metadata": {
    "colab": {
      "provenance": [],
      "include_colab_link": true
    },
    "kernelspec": {
      "name": "python3",
      "display_name": "Python 3"
    },
    "language_info": {
      "name": "python"
    }
  },
  "cells": [
    {
      "cell_type": "markdown",
      "metadata": {
        "id": "view-in-github",
        "colab_type": "text"
      },
      "source": [
        "<a href=\"https://colab.research.google.com/github/Rinniedh/Python_practice/blob/main/Lab_Assignment_02_Notebook.ipynb\" target=\"_parent\"><img src=\"https://colab.research.google.com/assets/colab-badge.svg\" alt=\"Open In Colab\"/></a>"
      ]
    },
    {
      "cell_type": "markdown",
      "metadata": {
        "id": "Ruo5d5chwg4j"
      },
      "source": [
        "#TBANLT 570 - Lab Assignment 02 - Processing Letters & Words and Comparing Documents Using Word Frequencies!\n",
        "This lab assignment will introduce you to some of the techniques that we can use to work with letters and words in Python. These techniques provide the foundation for many text mining tasks.\n",
        "\n",
        "###Learning Objectives\n",
        "By the time you finish this lab assignment, you will know:\n",
        "1. How to load data from a SQLite database into a Pandas dataframe.\n",
        "2. How to perform basic text cleaning on documents in order to prepare those documents for analysis.\n",
        "3. How to compute raw letter frequencies and letter probability distributions for a corpus of documents.\n",
        "4. How to generate a complete vocabulary for a corpus of documents.\n",
        "5. How to compute raw word frequencies and unigram (word) probability distributions for a corpus of documents.\n",
        "6. How to compare and identify similar documents by using their unigram probability distributions."
      ]
    },
    {
      "cell_type": "markdown",
      "metadata": {
        "id": "D7oigi-L1V20"
      },
      "source": [
        "### Import Libraries\n",
        "Python has a small core set of capabilities with a very large set of libraries. This allows us to import specialized functionality into our programs on an as-needed basis.\n",
        "\n",
        "Run the code cell below to import all of the libraries that we'll need for this lab assignment."
      ]
    },
    {
      "cell_type": "code",
      "metadata": {
        "id": "qr7viTwm1ZQY"
      },
      "source": [
        "#import libraries\n",
        "import numpy as np #used to quickly perform mathematical calculations on vectors\n",
        "import pandas as pd #allows us to work with data using Pandas dataframes\n",
        "import re #regular expressions -- used in this assignment to clean the text data\n",
        "import sqlite3 #used to interact with the database\n",
        "from collections import Counter #used to quickly count letters and words"
      ],
      "execution_count": 1,
      "outputs": []
    },
    {
      "cell_type": "markdown",
      "metadata": {
        "id": "_E2omrOvzLnc"
      },
      "source": [
        "### Load Data\n",
        "The data for this assignment are a collection of documents written in a variety of languages. These documents have been provided to you on the course website in the form of a SQLite database. SQLite is the world's most widely used relational database. It is also the native database environment in Python. If you like, you may learn more about SQLite by [visiting this page](https://sqlite.org/index.html).\n",
        "\n",
        "Before continuing, be sure to upload the `Lab Assignment 02 - Database.db` database file to your Colab notebook's session storage by clicking on the folder icon on the left side of your screen, and then selecting the *Upload to session storage* button.\n",
        "\n",
        "After you have uploaded the database file, run the code cell below to load all of the documents from the database into a Pandas dataframe. Pandas is the most commonly used Python data analysis and manipulation library. You may learn more about Pandas by reading [this article](https://en.wikipedia.org/wiki/Pandas_(software))."
      ]
    },
    {
      "cell_type": "code",
      "metadata": {
        "id": "Fw4wmVM_zTyg"
      },
      "source": [
        "#open a connection to the database\n",
        "conn = sqlite3.connect('Lab Assignment 02 - Database.db')\n",
        "\n",
        "#load all documents into a Pandas dataframe named 'df', and use the 'document_id' column as the index.\n",
        "#the index is used as a basis for uniquely identifying each row of data in the dataframe.\n",
        "sql = 'SELECT * FROM Document'\n",
        "df = pd.read_sql_query(sql, conn, index_col='document_id')\n",
        "\n",
        "#close database connection\n",
        "conn.close()"
      ],
      "execution_count": 2,
      "outputs": []
    },
    {
      "cell_type": "markdown",
      "metadata": {
        "id": "0kxxBe9BzUZc"
      },
      "source": [
        "### Preview Data\n",
        "It's always a good idea to familiarize yourself with your dataset before you begin any data analysis project.\n",
        "\n",
        "**TASK 01**:\n",
        ">Write a line of code in the cell below that will display the first 10 rows of data in the `df` dataframe. *Hint*: read about the dataframe's [`head()` function](https://pandas.pydata.org/pandas-docs/stable/reference/api/pandas.DataFrame.head.html).\n",
        "\n",
        "\n",
        "**QUESTION 01**:\n",
        ">What is the topic of the document whose `document_id` is equal to 10?"
      ]
    },
    {
      "cell_type": "code",
      "metadata": {
        "id": "biaM7adyzjfV",
        "colab": {
          "base_uri": "https://localhost:8080/",
          "height": 1000
        },
        "outputId": "0c8cfda6-03b1-441a-9aea-e473a653b379"
      },
      "source": [
        "#show the first 10 rows of data\n",
        "df.head(36)\n",
        "\n",
        "\n",
        "\n",
        "## Answer: Business"
      ],
      "execution_count": 14,
      "outputs": [
        {
          "output_type": "execute_result",
          "data": {
            "text/plain": [
              "            language     topic  \\\n",
              "document_id                      \n",
              "1             French    Health   \n",
              "2            English    Sports   \n",
              "3             German    Sports   \n",
              "4            English    Sports   \n",
              "5            English  Business   \n",
              "6             French    Africa   \n",
              "7             French   Economy   \n",
              "8            English   Science   \n",
              "9             German   Culture   \n",
              "10           English  Business   \n",
              "11           English  Business   \n",
              "12           English    Sports   \n",
              "13            French   Economy   \n",
              "14            German   Culture   \n",
              "15           English    Sports   \n",
              "16            French   Science   \n",
              "17            German   Economy   \n",
              "18           English   Science   \n",
              "19           English    Sports   \n",
              "20           English   Unknown   \n",
              "21           English   Unknown   \n",
              "22           English    Sports   \n",
              "23           English   Unknown   \n",
              "24           English   Unknown   \n",
              "25           English   Science   \n",
              "26           English   Unknown   \n",
              "27           English   Science   \n",
              "28           English   Science   \n",
              "29           English  Business   \n",
              "30           English   Unknown   \n",
              "31            German   Economy   \n",
              "32           English   Unknown   \n",
              "33           English   Science   \n",
              "34           English  Business   \n",
              "35           English  Business   \n",
              "36           English   Science   \n",
              "\n",
              "                                                      raw_text  \n",
              "document_id                                                     \n",
              "1            Vaccin AstraZeneca : l’existence d’un risque «...  \n",
              "2            Throughout the four-plus years coach Kyle Shan...  \n",
              "3            DFB-Aktion zu Menschenrechten: Mehr als nur ei...  \n",
              "4            Major League Baseball is raising the minimum s...  \n",
              "5            The stranded Ever Given mega-container ship in...  \n",
              "6            Ce que l’on sait de l’incident au canal de Sue...  \n",
              "7            D’habitude feutrées, les allées du palais d’Ié...  \n",
              "8            The US space agency says it expects now to fly...  \n",
              "9            Live-Kunst in Pandemie-Zeiten: ein Modellproje...  \n",
              "10           Investors looking for ways to protect themselv...  \n",
              "11           WeWork said on Friday it has agreed to go publ...  \n",
              "12           This year's NCAA Tournament set a new record f...  \n",
              "13           Ce devait être une opération spectaculaire. Un...  \n",
              "14           Ballett \"Orlando\": Geschlechtertausch am Bolsc...  \n",
              "15           We've only gone a couple of days without NCAA ...  \n",
              "16           La crise sanitaire due à la Covid-19 souligne ...  \n",
              "17           Höhen und Tiefen: Wie weiter mit dem Mercosur?...  \n",
              "18           Scientists have long agreed that the Moon form...  \n",
              "19           When 14-year-old Freddy Adu became the younges...  \n",
              "20           Stellantis NV and Chinese electric vehicle mak...  \n",
              "21           Thousands of Asda supermarket workers have won...  \n",
              "22           A brand new rugby league season is upon us - a...  \n",
              "23           Any dreams fans had of tight end Kyle Pitts or...  \n",
              "24           A pernicious agricultural pest owes some of it...  \n",
              "25           A study published this week by scientists in D...  \n",
              "26           Dark matter might be raising the temperature o...  \n",
              "27           Scientists believe they have worked out why bi...  \n",
              "28           Tucked inside the air traffic control tower in...  \n",
              "29           “Meme” stock-in-chief GameStop swung between g...  \n",
              "30           Despite harboring deep conceptual mysteries, b...  \n",
              "31           China nimmt nach Xinjiang-Sanktionen ausländis...  \n",
              "32           There have been few moments of pride in San Ma...  \n",
              "33           A 22-year-old woman “witnessed a tragedy of a ...  \n",
              "34           Chris Williamson, a Rotherham steel worker, is...  \n",
              "35           Amazon.com’s social media team bared its teeth...  \n",
              "36           This was the moment of truth. We’d spent count...  "
            ],
            "text/html": [
              "\n",
              "  <div id=\"df-1c6ed766-17ca-426f-b6da-e384c69fafb1\" class=\"colab-df-container\">\n",
              "    <div>\n",
              "<style scoped>\n",
              "    .dataframe tbody tr th:only-of-type {\n",
              "        vertical-align: middle;\n",
              "    }\n",
              "\n",
              "    .dataframe tbody tr th {\n",
              "        vertical-align: top;\n",
              "    }\n",
              "\n",
              "    .dataframe thead th {\n",
              "        text-align: right;\n",
              "    }\n",
              "</style>\n",
              "<table border=\"1\" class=\"dataframe\">\n",
              "  <thead>\n",
              "    <tr style=\"text-align: right;\">\n",
              "      <th></th>\n",
              "      <th>language</th>\n",
              "      <th>topic</th>\n",
              "      <th>raw_text</th>\n",
              "    </tr>\n",
              "    <tr>\n",
              "      <th>document_id</th>\n",
              "      <th></th>\n",
              "      <th></th>\n",
              "      <th></th>\n",
              "    </tr>\n",
              "  </thead>\n",
              "  <tbody>\n",
              "    <tr>\n",
              "      <th>1</th>\n",
              "      <td>French</td>\n",
              "      <td>Health</td>\n",
              "      <td>Vaccin AstraZeneca : l’existence d’un risque «...</td>\n",
              "    </tr>\n",
              "    <tr>\n",
              "      <th>2</th>\n",
              "      <td>English</td>\n",
              "      <td>Sports</td>\n",
              "      <td>Throughout the four-plus years coach Kyle Shan...</td>\n",
              "    </tr>\n",
              "    <tr>\n",
              "      <th>3</th>\n",
              "      <td>German</td>\n",
              "      <td>Sports</td>\n",
              "      <td>DFB-Aktion zu Menschenrechten: Mehr als nur ei...</td>\n",
              "    </tr>\n",
              "    <tr>\n",
              "      <th>4</th>\n",
              "      <td>English</td>\n",
              "      <td>Sports</td>\n",
              "      <td>Major League Baseball is raising the minimum s...</td>\n",
              "    </tr>\n",
              "    <tr>\n",
              "      <th>5</th>\n",
              "      <td>English</td>\n",
              "      <td>Business</td>\n",
              "      <td>The stranded Ever Given mega-container ship in...</td>\n",
              "    </tr>\n",
              "    <tr>\n",
              "      <th>6</th>\n",
              "      <td>French</td>\n",
              "      <td>Africa</td>\n",
              "      <td>Ce que l’on sait de l’incident au canal de Sue...</td>\n",
              "    </tr>\n",
              "    <tr>\n",
              "      <th>7</th>\n",
              "      <td>French</td>\n",
              "      <td>Economy</td>\n",
              "      <td>D’habitude feutrées, les allées du palais d’Ié...</td>\n",
              "    </tr>\n",
              "    <tr>\n",
              "      <th>8</th>\n",
              "      <td>English</td>\n",
              "      <td>Science</td>\n",
              "      <td>The US space agency says it expects now to fly...</td>\n",
              "    </tr>\n",
              "    <tr>\n",
              "      <th>9</th>\n",
              "      <td>German</td>\n",
              "      <td>Culture</td>\n",
              "      <td>Live-Kunst in Pandemie-Zeiten: ein Modellproje...</td>\n",
              "    </tr>\n",
              "    <tr>\n",
              "      <th>10</th>\n",
              "      <td>English</td>\n",
              "      <td>Business</td>\n",
              "      <td>Investors looking for ways to protect themselv...</td>\n",
              "    </tr>\n",
              "    <tr>\n",
              "      <th>11</th>\n",
              "      <td>English</td>\n",
              "      <td>Business</td>\n",
              "      <td>WeWork said on Friday it has agreed to go publ...</td>\n",
              "    </tr>\n",
              "    <tr>\n",
              "      <th>12</th>\n",
              "      <td>English</td>\n",
              "      <td>Sports</td>\n",
              "      <td>This year's NCAA Tournament set a new record f...</td>\n",
              "    </tr>\n",
              "    <tr>\n",
              "      <th>13</th>\n",
              "      <td>French</td>\n",
              "      <td>Economy</td>\n",
              "      <td>Ce devait être une opération spectaculaire. Un...</td>\n",
              "    </tr>\n",
              "    <tr>\n",
              "      <th>14</th>\n",
              "      <td>German</td>\n",
              "      <td>Culture</td>\n",
              "      <td>Ballett \"Orlando\": Geschlechtertausch am Bolsc...</td>\n",
              "    </tr>\n",
              "    <tr>\n",
              "      <th>15</th>\n",
              "      <td>English</td>\n",
              "      <td>Sports</td>\n",
              "      <td>We've only gone a couple of days without NCAA ...</td>\n",
              "    </tr>\n",
              "    <tr>\n",
              "      <th>16</th>\n",
              "      <td>French</td>\n",
              "      <td>Science</td>\n",
              "      <td>La crise sanitaire due à la Covid-19 souligne ...</td>\n",
              "    </tr>\n",
              "    <tr>\n",
              "      <th>17</th>\n",
              "      <td>German</td>\n",
              "      <td>Economy</td>\n",
              "      <td>Höhen und Tiefen: Wie weiter mit dem Mercosur?...</td>\n",
              "    </tr>\n",
              "    <tr>\n",
              "      <th>18</th>\n",
              "      <td>English</td>\n",
              "      <td>Science</td>\n",
              "      <td>Scientists have long agreed that the Moon form...</td>\n",
              "    </tr>\n",
              "    <tr>\n",
              "      <th>19</th>\n",
              "      <td>English</td>\n",
              "      <td>Sports</td>\n",
              "      <td>When 14-year-old Freddy Adu became the younges...</td>\n",
              "    </tr>\n",
              "    <tr>\n",
              "      <th>20</th>\n",
              "      <td>English</td>\n",
              "      <td>Unknown</td>\n",
              "      <td>Stellantis NV and Chinese electric vehicle mak...</td>\n",
              "    </tr>\n",
              "    <tr>\n",
              "      <th>21</th>\n",
              "      <td>English</td>\n",
              "      <td>Unknown</td>\n",
              "      <td>Thousands of Asda supermarket workers have won...</td>\n",
              "    </tr>\n",
              "    <tr>\n",
              "      <th>22</th>\n",
              "      <td>English</td>\n",
              "      <td>Sports</td>\n",
              "      <td>A brand new rugby league season is upon us - a...</td>\n",
              "    </tr>\n",
              "    <tr>\n",
              "      <th>23</th>\n",
              "      <td>English</td>\n",
              "      <td>Unknown</td>\n",
              "      <td>Any dreams fans had of tight end Kyle Pitts or...</td>\n",
              "    </tr>\n",
              "    <tr>\n",
              "      <th>24</th>\n",
              "      <td>English</td>\n",
              "      <td>Unknown</td>\n",
              "      <td>A pernicious agricultural pest owes some of it...</td>\n",
              "    </tr>\n",
              "    <tr>\n",
              "      <th>25</th>\n",
              "      <td>English</td>\n",
              "      <td>Science</td>\n",
              "      <td>A study published this week by scientists in D...</td>\n",
              "    </tr>\n",
              "    <tr>\n",
              "      <th>26</th>\n",
              "      <td>English</td>\n",
              "      <td>Unknown</td>\n",
              "      <td>Dark matter might be raising the temperature o...</td>\n",
              "    </tr>\n",
              "    <tr>\n",
              "      <th>27</th>\n",
              "      <td>English</td>\n",
              "      <td>Science</td>\n",
              "      <td>Scientists believe they have worked out why bi...</td>\n",
              "    </tr>\n",
              "    <tr>\n",
              "      <th>28</th>\n",
              "      <td>English</td>\n",
              "      <td>Science</td>\n",
              "      <td>Tucked inside the air traffic control tower in...</td>\n",
              "    </tr>\n",
              "    <tr>\n",
              "      <th>29</th>\n",
              "      <td>English</td>\n",
              "      <td>Business</td>\n",
              "      <td>“Meme” stock-in-chief GameStop swung between g...</td>\n",
              "    </tr>\n",
              "    <tr>\n",
              "      <th>30</th>\n",
              "      <td>English</td>\n",
              "      <td>Unknown</td>\n",
              "      <td>Despite harboring deep conceptual mysteries, b...</td>\n",
              "    </tr>\n",
              "    <tr>\n",
              "      <th>31</th>\n",
              "      <td>German</td>\n",
              "      <td>Economy</td>\n",
              "      <td>China nimmt nach Xinjiang-Sanktionen ausländis...</td>\n",
              "    </tr>\n",
              "    <tr>\n",
              "      <th>32</th>\n",
              "      <td>English</td>\n",
              "      <td>Unknown</td>\n",
              "      <td>There have been few moments of pride in San Ma...</td>\n",
              "    </tr>\n",
              "    <tr>\n",
              "      <th>33</th>\n",
              "      <td>English</td>\n",
              "      <td>Science</td>\n",
              "      <td>A 22-year-old woman “witnessed a tragedy of a ...</td>\n",
              "    </tr>\n",
              "    <tr>\n",
              "      <th>34</th>\n",
              "      <td>English</td>\n",
              "      <td>Business</td>\n",
              "      <td>Chris Williamson, a Rotherham steel worker, is...</td>\n",
              "    </tr>\n",
              "    <tr>\n",
              "      <th>35</th>\n",
              "      <td>English</td>\n",
              "      <td>Business</td>\n",
              "      <td>Amazon.com’s social media team bared its teeth...</td>\n",
              "    </tr>\n",
              "    <tr>\n",
              "      <th>36</th>\n",
              "      <td>English</td>\n",
              "      <td>Science</td>\n",
              "      <td>This was the moment of truth. We’d spent count...</td>\n",
              "    </tr>\n",
              "  </tbody>\n",
              "</table>\n",
              "</div>\n",
              "    <div class=\"colab-df-buttons\">\n",
              "\n",
              "  <div class=\"colab-df-container\">\n",
              "    <button class=\"colab-df-convert\" onclick=\"convertToInteractive('df-1c6ed766-17ca-426f-b6da-e384c69fafb1')\"\n",
              "            title=\"Convert this dataframe to an interactive table.\"\n",
              "            style=\"display:none;\">\n",
              "\n",
              "  <svg xmlns=\"http://www.w3.org/2000/svg\" height=\"24px\" viewBox=\"0 -960 960 960\">\n",
              "    <path d=\"M120-120v-720h720v720H120Zm60-500h600v-160H180v160Zm220 220h160v-160H400v160Zm0 220h160v-160H400v160ZM180-400h160v-160H180v160Zm440 0h160v-160H620v160ZM180-180h160v-160H180v160Zm440 0h160v-160H620v160Z\"/>\n",
              "  </svg>\n",
              "    </button>\n",
              "\n",
              "  <style>\n",
              "    .colab-df-container {\n",
              "      display:flex;\n",
              "      gap: 12px;\n",
              "    }\n",
              "\n",
              "    .colab-df-convert {\n",
              "      background-color: #E8F0FE;\n",
              "      border: none;\n",
              "      border-radius: 50%;\n",
              "      cursor: pointer;\n",
              "      display: none;\n",
              "      fill: #1967D2;\n",
              "      height: 32px;\n",
              "      padding: 0 0 0 0;\n",
              "      width: 32px;\n",
              "    }\n",
              "\n",
              "    .colab-df-convert:hover {\n",
              "      background-color: #E2EBFA;\n",
              "      box-shadow: 0px 1px 2px rgba(60, 64, 67, 0.3), 0px 1px 3px 1px rgba(60, 64, 67, 0.15);\n",
              "      fill: #174EA6;\n",
              "    }\n",
              "\n",
              "    .colab-df-buttons div {\n",
              "      margin-bottom: 4px;\n",
              "    }\n",
              "\n",
              "    [theme=dark] .colab-df-convert {\n",
              "      background-color: #3B4455;\n",
              "      fill: #D2E3FC;\n",
              "    }\n",
              "\n",
              "    [theme=dark] .colab-df-convert:hover {\n",
              "      background-color: #434B5C;\n",
              "      box-shadow: 0px 1px 3px 1px rgba(0, 0, 0, 0.15);\n",
              "      filter: drop-shadow(0px 1px 2px rgba(0, 0, 0, 0.3));\n",
              "      fill: #FFFFFF;\n",
              "    }\n",
              "  </style>\n",
              "\n",
              "    <script>\n",
              "      const buttonEl =\n",
              "        document.querySelector('#df-1c6ed766-17ca-426f-b6da-e384c69fafb1 button.colab-df-convert');\n",
              "      buttonEl.style.display =\n",
              "        google.colab.kernel.accessAllowed ? 'block' : 'none';\n",
              "\n",
              "      async function convertToInteractive(key) {\n",
              "        const element = document.querySelector('#df-1c6ed766-17ca-426f-b6da-e384c69fafb1');\n",
              "        const dataTable =\n",
              "          await google.colab.kernel.invokeFunction('convertToInteractive',\n",
              "                                                    [key], {});\n",
              "        if (!dataTable) return;\n",
              "\n",
              "        const docLinkHtml = 'Like what you see? Visit the ' +\n",
              "          '<a target=\"_blank\" href=https://colab.research.google.com/notebooks/data_table.ipynb>data table notebook</a>'\n",
              "          + ' to learn more about interactive tables.';\n",
              "        element.innerHTML = '';\n",
              "        dataTable['output_type'] = 'display_data';\n",
              "        await google.colab.output.renderOutput(dataTable, element);\n",
              "        const docLink = document.createElement('div');\n",
              "        docLink.innerHTML = docLinkHtml;\n",
              "        element.appendChild(docLink);\n",
              "      }\n",
              "    </script>\n",
              "  </div>\n",
              "\n",
              "\n",
              "<div id=\"df-6c684a85-3311-4c4a-b866-86c30c582105\">\n",
              "  <button class=\"colab-df-quickchart\" onclick=\"quickchart('df-6c684a85-3311-4c4a-b866-86c30c582105')\"\n",
              "            title=\"Suggest charts\"\n",
              "            style=\"display:none;\">\n",
              "\n",
              "<svg xmlns=\"http://www.w3.org/2000/svg\" height=\"24px\"viewBox=\"0 0 24 24\"\n",
              "     width=\"24px\">\n",
              "    <g>\n",
              "        <path d=\"M19 3H5c-1.1 0-2 .9-2 2v14c0 1.1.9 2 2 2h14c1.1 0 2-.9 2-2V5c0-1.1-.9-2-2-2zM9 17H7v-7h2v7zm4 0h-2V7h2v10zm4 0h-2v-4h2v4z\"/>\n",
              "    </g>\n",
              "</svg>\n",
              "  </button>\n",
              "\n",
              "<style>\n",
              "  .colab-df-quickchart {\n",
              "      --bg-color: #E8F0FE;\n",
              "      --fill-color: #1967D2;\n",
              "      --hover-bg-color: #E2EBFA;\n",
              "      --hover-fill-color: #174EA6;\n",
              "      --disabled-fill-color: #AAA;\n",
              "      --disabled-bg-color: #DDD;\n",
              "  }\n",
              "\n",
              "  [theme=dark] .colab-df-quickchart {\n",
              "      --bg-color: #3B4455;\n",
              "      --fill-color: #D2E3FC;\n",
              "      --hover-bg-color: #434B5C;\n",
              "      --hover-fill-color: #FFFFFF;\n",
              "      --disabled-bg-color: #3B4455;\n",
              "      --disabled-fill-color: #666;\n",
              "  }\n",
              "\n",
              "  .colab-df-quickchart {\n",
              "    background-color: var(--bg-color);\n",
              "    border: none;\n",
              "    border-radius: 50%;\n",
              "    cursor: pointer;\n",
              "    display: none;\n",
              "    fill: var(--fill-color);\n",
              "    height: 32px;\n",
              "    padding: 0;\n",
              "    width: 32px;\n",
              "  }\n",
              "\n",
              "  .colab-df-quickchart:hover {\n",
              "    background-color: var(--hover-bg-color);\n",
              "    box-shadow: 0 1px 2px rgba(60, 64, 67, 0.3), 0 1px 3px 1px rgba(60, 64, 67, 0.15);\n",
              "    fill: var(--button-hover-fill-color);\n",
              "  }\n",
              "\n",
              "  .colab-df-quickchart-complete:disabled,\n",
              "  .colab-df-quickchart-complete:disabled:hover {\n",
              "    background-color: var(--disabled-bg-color);\n",
              "    fill: var(--disabled-fill-color);\n",
              "    box-shadow: none;\n",
              "  }\n",
              "\n",
              "  .colab-df-spinner {\n",
              "    border: 2px solid var(--fill-color);\n",
              "    border-color: transparent;\n",
              "    border-bottom-color: var(--fill-color);\n",
              "    animation:\n",
              "      spin 1s steps(1) infinite;\n",
              "  }\n",
              "\n",
              "  @keyframes spin {\n",
              "    0% {\n",
              "      border-color: transparent;\n",
              "      border-bottom-color: var(--fill-color);\n",
              "      border-left-color: var(--fill-color);\n",
              "    }\n",
              "    20% {\n",
              "      border-color: transparent;\n",
              "      border-left-color: var(--fill-color);\n",
              "      border-top-color: var(--fill-color);\n",
              "    }\n",
              "    30% {\n",
              "      border-color: transparent;\n",
              "      border-left-color: var(--fill-color);\n",
              "      border-top-color: var(--fill-color);\n",
              "      border-right-color: var(--fill-color);\n",
              "    }\n",
              "    40% {\n",
              "      border-color: transparent;\n",
              "      border-right-color: var(--fill-color);\n",
              "      border-top-color: var(--fill-color);\n",
              "    }\n",
              "    60% {\n",
              "      border-color: transparent;\n",
              "      border-right-color: var(--fill-color);\n",
              "    }\n",
              "    80% {\n",
              "      border-color: transparent;\n",
              "      border-right-color: var(--fill-color);\n",
              "      border-bottom-color: var(--fill-color);\n",
              "    }\n",
              "    90% {\n",
              "      border-color: transparent;\n",
              "      border-bottom-color: var(--fill-color);\n",
              "    }\n",
              "  }\n",
              "</style>\n",
              "\n",
              "  <script>\n",
              "    async function quickchart(key) {\n",
              "      const quickchartButtonEl =\n",
              "        document.querySelector('#' + key + ' button');\n",
              "      quickchartButtonEl.disabled = true;  // To prevent multiple clicks.\n",
              "      quickchartButtonEl.classList.add('colab-df-spinner');\n",
              "      try {\n",
              "        const charts = await google.colab.kernel.invokeFunction(\n",
              "            'suggestCharts', [key], {});\n",
              "      } catch (error) {\n",
              "        console.error('Error during call to suggestCharts:', error);\n",
              "      }\n",
              "      quickchartButtonEl.classList.remove('colab-df-spinner');\n",
              "      quickchartButtonEl.classList.add('colab-df-quickchart-complete');\n",
              "    }\n",
              "    (() => {\n",
              "      let quickchartButtonEl =\n",
              "        document.querySelector('#df-6c684a85-3311-4c4a-b866-86c30c582105 button');\n",
              "      quickchartButtonEl.style.display =\n",
              "        google.colab.kernel.accessAllowed ? 'block' : 'none';\n",
              "    })();\n",
              "  </script>\n",
              "</div>\n",
              "\n",
              "    </div>\n",
              "  </div>\n"
            ],
            "application/vnd.google.colaboratory.intrinsic+json": {
              "type": "dataframe",
              "summary": "{\n  \"name\": \"## Answer: Business\",\n  \"rows\": 36,\n  \"fields\": [\n    {\n      \"column\": \"document_id\",\n      \"properties\": {\n        \"dtype\": \"number\",\n        \"std\": 10,\n        \"min\": 1,\n        \"max\": 36,\n        \"num_unique_values\": 36,\n        \"samples\": [\n          36,\n          14,\n          27\n        ],\n        \"semantic_type\": \"\",\n        \"description\": \"\"\n      }\n    },\n    {\n      \"column\": \"language\",\n      \"properties\": {\n        \"dtype\": \"category\",\n        \"num_unique_values\": 3,\n        \"samples\": [\n          \"French\",\n          \"English\",\n          \"German\"\n        ],\n        \"semantic_type\": \"\",\n        \"description\": \"\"\n      }\n    },\n    {\n      \"column\": \"topic\",\n      \"properties\": {\n        \"dtype\": \"category\",\n        \"num_unique_values\": 8,\n        \"samples\": [\n          \"Sports\",\n          \"Science\",\n          \"Health\"\n        ],\n        \"semantic_type\": \"\",\n        \"description\": \"\"\n      }\n    },\n    {\n      \"column\": \"raw_text\",\n      \"properties\": {\n        \"dtype\": \"string\",\n        \"num_unique_values\": 36,\n        \"samples\": [\n          \"This was the moment of truth. We\\u2019d spent countless hours meticulously sterilizing seeds (1,710, to be specific), filling the lab with a cacophony of rattling as we shook them in bleach. We\\u2019d built a fungus city: great tower-blocks of petri dishes stacked on the lab workbenches, with different colors, textures and shapes of fungi all emerging inside. We\\u2019d extracted enough DNA that the freezer, stuffed full of tubes, threatened to revolt. Finally the time had come for me to analyse all the data, and discover just what we\\u2019d managed to find after all these months of work. In the first study of its kind, to our knowledge, in a major seed bank, we found hundreds of fungi hidden inside seeds from the Millennium Seed Bank, some of which are likely to be species new to science and could be crucial for the future of plant health. I can\\u2019t remember the moment when I first decided to study fungi. If only I had an anecdote about my time as a biology undergraduate looking down the microscope at some spores for the first time, overcome by their sheer majesty\\u2014but that would be fiction. For one thing, fungi barely appeared in my degree, and when they did it was usually in the negative context of causing disease. Given that fungi are a whole kingdom of species which, alongside animals and plants, belong to the major domain of planet Earth\\u2019s multicellular life together called the \\u201ceukaryotes\\u201d, this is perhaps surprising. Yet this is the typical experience in both school and higher education (in the UK and the US at least) and, unsurprisingly, when you don\\u2019t teach students about fungi, they don\\u2019t go on to study fungi. Which leads to fewer researchers studying fungi that can teach students about fungi and \\u2026 you get the picture. Long story short, fungi are incredibly understudied compared to their sister kingdoms of animals and plants. Bar graph of the number of scientific papers published each year on animals, fungi, and plants The proportion of scientific papers published each year for animals, plants and fungi. Data from EuropePMC. I really can\\u2019t emphasise enough how much of an oversight this is. The latest estimate of the total number of fungal species is 6.2 million. To put that in context, that would mean our planet is inhabited by 15 times more fungi than plants. Other recent estimates for fungal diversity have ranged widely from 2.2 million to 165 million species\\u2014but no matter which you go with, the numbers are all far greater than the 150,000 fungi which scientists have already found and described. We\\u2019ve barely scratched the surface, and I mean that quite literally\\u2014countless fungi will be underground and inside other organisms. These microscopic fungi, or more simply \\u201cmicrofungi\\u201d, are invisible to the naked eye, and so for a long time have remained under the radar. But that doesn\\u2019t mean they\\u2019re unimportant. Quite the opposite. Yes, some will be pathogens, which can cause disease in plants and animals. These tend to be the fungi that get the most attention, both in terms of public awareness and scientific research, and not without some good reason. With our increased global travel and trade, not to mention our contributions to climate change, we\\u2019re creating a perfect opportunity for new fungal pathogens to emerge and thrive. Countless fungi play key roles in modern society: they can be a source of medicines such as antibiotics and immunosuppressants, industrial enzymes for detergents and manufacturing and new biomaterials to replace plastics. Even the humble baker\\u2019s yeast, which underpins our everyday food and drink, can be used in the lab to study human genetics or modified to produce important compounds. And these are just the fungi we already know about\\u2014imagine the useful properties awaiting discovery in the fungi we are yet to find. And maybe most famously there are the symbiotic partners known as mycorrhizal fungi, which form a relationship with plant roots, usually for mutual benefit: They can help the plant take up water and nutrients in return for carbohydrates. These fungi can form vast underground networks of nutrient exchange between plants, popularly known as the \\u201cwood wide web\\u201d. As if that wasn\\u2019t enough, mycorrhizal fungi also help to increase the amount of carbon stored in the soil, and so play an important role in regulating global climate. Life as we know it would, quite simply, be lost without fungi. Enter the endophytes Which brings me to the fungi I study. Mycorrhizal fungi aren\\u2019t the only ones to be found when we look at plants. All plant tissues contain fungi, in much the same way that us animals have an array of microorganisms living inside us: our \\u201cmicrobiome\\u201d. These microfungi of plants are called fungal endophytes (endo=in, phyte=plant), and are defined by the fact that they live inside plants without causing any visible symptoms of disease. The sequencing revolution, which has enabled us to detect otherwise imperceptible organisms from mere traces of their DNA, has transformed our awareness of these microscopic fungi. A single plant individual is capable of hosting countless different fungal species. As always, however, it\\u2019s not all that simple. When we find fungal endophytes inside healthy plants, some may be latent decomposers or pathogens\\u2014in other words, they are in a dormant state, waiting for the plant to die so that they can decay it, or for an opportunity to cause disease. At the same time, there are other fungal endophytes which we know can actually help their plant host, for instance by improving germination and seedling growth. What we call the endophyte lifestyle is really more of a spectrum of interactions between plants and fungi, with both good and bad consequences for plant health. A microscopic organisms stained blue The fungal endophyte Epichloe coenophiala growing in between grass leaf cells. Nick Hill/USDA It was these fungi, with all their mystery and potential, that captured my interest. Against the odds I did find my way to studying fungi, which started in earnest when I was lucky enough to get an undergraduate sandwich year placement at London\\u2019s Royal Botanic Gardens Kew with a senior scientist of fungal research, Ester Gaya. I\\u2019m still based there today, almost seven years later. Many people don\\u2019t realize that Kew is more than its wonderful gardens; it\\u2019s also a major collections-based scientific research institution focused on the study of plants and fungi. In fact, it has the largest collection of dried fungi, known as a \\u201cfungarium,\\u201d in the world (1.25 million specimens). And then there is the Millennium Seed Bank, which is also part of Kew. If anything, the term seed bank probably conjures up an image of the Svalbard Global Seed Vault: a vast concrete monolith emerging out of the Arctic snow like some sort of super-villain base. The Millennium Seed Bank, nestled in the grounds of Wakehurst Place in the UK countryside, is rather less imposing to look at, but perhaps even more impressive inside. Coordinated by Kew, the seed bank is both a physical building\\u2014the largest seed bank in the world with over 2.3 billion seeds from almost 40,000 species\\u2014as well as a global partnership dedicated to the collection and conservation of seeds worldwide. Seed banks are just what they sound like\\u2014a place to store seeds long-term as insurance against potential crises. And crisis is on the horizon: thanks to climate change and our unsustainable use of the planet, two in five plants are estimated to be threatened with extinction. The mission of the Millennium Seed Bank is to find and preserve seeds of wild plants before they\\u2019re lost for good. Seed banking is not just a backup for a hypothetical future scenario, as collections can already be put to good use\\u2014collecting seeds from different native communities, for instance, will be crucial for ecosystem recovery after wildfires and for successful reforestation. A fungal perspective puts a whole new spin on the idea of seed banking. It may not have been the primary goal, but in the process of preserving plant diversity, seed banks are also preserving the fungal diversity inside seeds. Of course, scientists working in seed banking have been aware of fungi before now, but the context has been decidedly negative. The banking standards from the Food and Agriculture Organization of the United Nations always refer to fungi as a contamination, a problem to be removed, and actually recommend use of fungicides to kill any fungi present. This approach is rooted in reason, as many fungi can and will cause disease in plants, and a seed bank needs to avoid becoming a vector for plant diseases. But we\\u2019re increasingly realising that the microorganisms in and around us influence the world far more than previously understood. As humans, altering the balance of microorganisms in our gut can have all sorts of negative health consequences and has even been connected to neurological disease. We know less about the microbiome of plants, but this will need to change if we are to successfully protect all the species at risk of extinction. The idea that the Millennium Seed Bank must surely be full of these potentially helpful microfungi we call endophytes inside its seeds would not be a stretch to anybody who studies fungi or microbiology, and yet no one had ever looked before. This changed a few years ago, when Gaya first started to consider the question. But where to start, in such an enormous collection of seeds? The case study: banana wild relatives Our opportunity came thanks to a fellow PhD student, Simon Kallow, who studies how to store the seeds of banana wild relatives long-term for conservation. As the name suggests, crop wild relatives are the close relatives of our cultivated crops. They\\u2019re interesting to scientists as they\\u2019re far more genetically diverse and so can provide a source of useful traits to breed into our crops, for instance to make them more resilient to climate change, pests or disease. There\\u2019s another idea that the microbiome of wild relatives could also have a role to play in protecting our crops: that we can potentially introduce endophytes from wild relatives into crops to pass on useful properties, such as stress tolerance. Protecting wild relatives, and their microbiomes, can be seen as a safeguard for the future of the crops we all rely on for food. This is particularly relevant for bananas, which are not only an important cash crop\\u2014worth $31 billion a year\\u2014but also a significant part of people\\u2019s diets in the regions where they grow. In an unfortunate case of history repeating itself, global banana crops are currently threatened by a fungal pathogen strain called Foc TR4, and so it\\u2019s doubly important to conserve their wild relatives. Kallow was interested in what fungal endophytes might be inside his wild banana seeds, and if they could be playing a role in how well the seeds survived storage and went on to germinate. It was the perfect chance for us to have a first look at what fungi might be hidden inside the Millennium Seed Bank collections. We used two approaches\\u2014we crushed up seeds and sequenced any fungal DNA from inside, but we also tried to grow the fungi from inside seeds, known as \\u201cculturing\\u201d. That way, we captured as much of the diversity that was present as possible but also built a collection of living fungal endophyte cultures that we can use in the future. The reality of working with organisms that are too small to see can be a little anticlimactic\\u2014a lot of the time you\\u2019re just looking at tiny amounts of colorless liquid in tubes. So besides from being useful, growing some species in culture is also a little more exciting and provides a first glimpse at the incredible hidden diversity. I think they can be rather beautiful too. A hidden trove of fungi In looking at just six plant species, we were able to find almost 200 fungal species. Extrapolate up to the Millennium Seed Bank\\u2019s 40,000 plant species and\\u2014even if assuming there is some overlap of fungal endophytes between different plant species\\u2014you can end up with a heady estimate of fungal diversity hidden in their collections, potentially reaching over a million species, some of which are likely new species to science.  Mining that diversity is intrinsically interesting in terms of studying the fungi themselves, but these are also species that may be important to the health of the plants they inhabit, and therefore crucial to the objectives of seed banking at large. As we were able to grow some fungal endophytes in culture, we know that at least some species (mostly the very common ones) can survive the Millennium Seed Bank\\u2019s protocol of processing, drying, and freezing seeds. There were other endophytes that we detected from sequencing their DNA, but which didn\\u2019t grow in culture\\u2014but these weren\\u2019t necessarily dead, as many fungi are more sensitive and don\\u2019t grow readily in the lab. In the future we will need to figure out the true extent of endophytes surviving the storage process in case there are important, rare species that are lost. Our results support previous studies which suggest that fungi are usually mutually exclusive inside seeds. In other words, in most cases where we detected fungi inside the seeds, we only found a single species, suggesting that in the limited space of the seed one fungal species can often dominate and outcompete any others. This raises an interesting question as to whether we can use this phenomenon to protect our plants from pathogens: if we can inoculate a plant with the \\u201cright\\u201d fungal endophyte, could it outcompete fungal pathogens that try to infect the seed? This idea needs to be tested in experiments, but it\\u2019s one example of why there is hope that we can use endophytes for a natural form of plant disease control. We also found that the total number of fungal endophytes present in each set of seeds, as well as the specific combination of species, changed depending on the habitat that the seeds were collected from. This means that when researchers are working in the field, where they choose to collect seeds from can have unforeseen consequences on what microbiome will be preserved. The proportion of seeds which were alive or germinated after storage also changed depending on habitat. Hopefully future experiments can confirm if the fungi themselves are contributing to this pattern. This is why it\\u2019s so valuable to have preserved living fungal cultures, as it allows us to use them in experiments to test many of these questions. Wild banana seeds and closeup of fungi growing inside Kallow had noticed fungi growing from inside his wild banana seeds. The future is fungal As is so often the case in science, we emerged from this study with more questions than answers. But some of these questions, which have consequences for the way we protect seeds for the future, have never been researched before at the Millennium Seed Bank. Are we managing to preserve enough of the seed microbiome? How much will that matter for the plants\\u2019 health? And then there are the questions about the fungi themselves\\u2014what can we learn from this previously unexplored gold mine of fungal diversity? There is so much yet to discover from the world of fungi, and so often it\\u2019s right under our noses. To rise to the challenge, in the first instance, we need to ensure people have the opportunity to learn about them\\u2014a different experience from what I had, barely hearing about fungi in university, and not at all at school. In the summer of 2019 I helped to run the fungi stall at Kew\\u2019s Science Festival, an annual public event where visitors are invited to take part in activities and talk to scientists about why plants and fungi are so important to our lives. I will always remember the wide-eyed looks as I explained that the biggest organism in the world is actually a 400-tonne, 2,500 year old \\u201chumongous\\u201d fungus, or that some mushrooms glow in the dark to attract insects. Fungi are strange and cool and interesting enough that really all you have to do is share them and fascination will follow. Children and adults alike would approach our stall knowing almost nothing about fungi, but by the end of the weekend, fungi were among the top mentions of what visitors enjoyed most at the festival. You can find amazing things once your eyes are opened to this weird and wonderful kingdom.\",\n          \"Ballett \\\"Orlando\\\": Geschlechtertausch am Bolschoi Wann ist ein Mann ein Mann? Der Choreograf Christian Spuck wagt im traditionsreichen Bolschoi Theater seine Tanz-Interpretation des Romans von Virginia Woolf. Zwei Ballettt\\u00e4nzer stehen umschlungen auf der B\\u00fchne und sehen sich ernst an. Ob Mann, ob Frau: In \\\"Orlando\\\" von Choreograf Christian Spuk verwischen die Geschlechtergrenzen Ein leichter Schreck gleich zu Beginn: Elisabeth die Erste, die K\\u00f6nigin von England, ist \\u2026 ein Mann! Aber der Schreck l\\u00e4sst schnell nach, denn wir sehen keine Dragqueen, die im royalen Gewand auf die B\\u00fchne tritt, keinen Klamauk und keine Parodie, sondern die w\\u00fcrdige Verk\\u00f6rperung einer starken Frau, einer K\\u00f6nigin, die den jungen androgynen Dichter Orlando liebt. Und der wiederum \\u2026 wird von einer Frau verk\\u00f6rpert. Der deutsche Choreograf Christian Spuck interpretiert Virginia Woolfs \\\"Orlando\\\" von 1928 am Bolschoi Theater, der wichtigsten Ballettb\\u00fchne Russlands, konsequent als ein Spiel der Geschlechter. Der weltber\\u00fchmt Klassiker handelt von einem britischen Lord, der sich auf wundersame Weise in eine Frau verwandelt. Russland Szenen aus dem Ballett von Christian Spuk Orlando im Moskauer Bolschoi M\\u00e4nnliche K\\u00f6nigin: Szene aus der Weltpremiere des Balletts \\\"Orlando\\\" am Moskauer Bolschoi Christian Spuck, seit 2012 Direktor des Balletts Z\\u00fcrich, z\\u00e4hlt zu den wichtigsten Choreografen der j\\u00fcngeren Generation. Spielerisch setzt er sich nun in dieser Ballett-Weltpremiere mit der Frage der Identit\\u00e4ten auseinander und hinterfragt dabei die Rollen von Mann und Frau in der Gesellschaft. T\\u00e4nzerische Provokation? In einem Land, das auf traditionelle, ja konservative Werte setzt, in dem das Wort Geschlechtsumwandlung f\\u00fcr viele ein Schimpfwort ist, in dem 43 Prozent der Einwohner laut einer Studie von 2020 sich bereits durch die blo\\u00dfe Existenz von Transfrauen und -m\\u00e4nnern beleidigt f\\u00fchlen, in diesem Land wirkt die Geschichte von der zauberhaften Verwandlung des jungen Orlando in eine Frau fast wie eine Provokation. Aber: \\\"Es ist keine Provokation. Zumindest habe ich das nicht vor\\\", versichert Spuck im Interview mit der DW. \\\"Das ist nicht die Idee. Sondern wir gehen sehr poetisch damit um, dass ein Mann eine K\\u00f6nigin darstellt, oder dass Orlando von einer Frau getanzt wird.\\\" Mann versucht eine gro\\u00dfe Regenbogen-Fahne, die von Aktivisten gehalten wird, zu zerrei\\u00dfen. Immer wieder kommt es in Russland zu Angriffen auf LGBT-Aktivisten Und \\\"Orlando\\\" ist mehr. Die Handlung gleicht hier eher einem Traum als der Realit\\u00e4t. Erst ein Er, dann nach der Geschlechtsumwandlung eine Sie, lebt mehr als dreihundertf\\u00fcnfzig Jahre, ohne dabei zu altern. Das gibt den Darstellern eine ganze Palette an ausdrucksstarken Charakteren. Theater ge\\u00f6ffnet mit 50-prozentiger Auslastung F\\u00fcr diese Wandlungsf\\u00e4higkeit liebt die Bolschoi-Solot\\u00e4nzerin Olga Smirnova ihre Figur. Gegen\\u00fcber der DW gesteht sie: \\\"Ich habe diesen seltsamen Roman von Virginia Woolf nicht sofort verstanden.\\\" Der Findungsprozess sei daher sehr lang gewesen. \\\"Der Choreograf wollte, dass ich nat\\u00fcrlich wirke und nicht vergesse, dass ich eine Frau bin, obwohl ich einen Mann spiele. Daran habe ich immer gedacht, trotz aller Schwierigkeiten\\\", so die Primaballerina. Schwierigkeiten gab es aber nicht nur im Theater, sondern auch drau\\u00dfen. Auch Russland steckt mitten in der Corona-Pandemie. Mit 4,5 Millionen Infizierten steht das einwohnerstarke Land weltweit auf Platz vier, davon fallen allein rund eine Millionen auf die Hauptstadt Moskau. Die 7-Tage-Inzidenz ist jedoch mit 43,7 (Stand 26.03.2021) recht niedrig, und so wurden fast alle Beschr\\u00e4nkungen mittlerweile aufgehoben. Bars, Clubs und Restaurants sind ge\\u00f6ffnet. Und Theater. Russland Szenen aus dem Ballett von Christian Spuk Orlando im Moskauer Bolschoi Ungewohnt androgyn: Primaballerina Olga Smirnova in \\\"Orlando\\\" \\\"Mich selber hat es auch erwischt\\\", klagt Choreograf Spuck, der sich in der dritten Woche seines Aufenthalts in Moskau mit dem Coronavirus infizierte und drei Wochen in Isolation in seinem Hotelzimmer bleiben musste. \\\"Ich bin jetzt aber immun, das hei\\u00dft gesch\\u00fctzt von der Krankheit\\\", scherzt der 51-J\\u00e4hrige und f\\u00fcgt hinzu: \\\"F\\u00fcr einen Europ\\u00e4er ist es schon ein ungewohntes Bild, wenn trotz der Pandemie alles offen ist. Aber es ist die Entscheidung des Landes hier, sich so zu verhalten. Dementsprechend f\\u00e4lle ich meine eigene Entscheidung, hier trotzdem weiter viel Abstand zu den Mitarbeitern zu halten und vorsichtig zu sein.\\\" Sein Ballett in Z\\u00fcrich befindet sich derzeit noch im Lockdown. Mann mit Ziegenbart und Brille h\\u00e4lt sich seine H\\u00e4nde wie Ferngl\\u00e4ser vor die Augen. Lockdown in Z\\u00fcrich, Premiere in Moskau: Choreograf Christian Spuck Weltpremiere in Corona-Zeiten Mit dem preisgekr\\u00f6nten Choreografen ist dem Bolschoi eine gro\\u00dfe internationale Produktion inmitten in der Pandemie gelungen, coronabedingt mit einer maximalen Auslastung von 50 Prozent der Sitzpl\\u00e4tze. Gleichzeitig profitiert auch Christian Spuck von der Bolschoi-Kaderschmiede des klassischen Balletts: \\\"Meine Sprache kommt immer aus dem klassischen Ballett. Das hei\\u00dft, ich respektiere die Tradition des Bolschois auf allen Ebenen. Ich bin ein ganz gro\\u00dfer Bewunderer der Compagnie und auch dieses Hauses.\\\" Am Ende gibt es Standing Ovations f\\u00fcr \\\"Orlando\\\" und die Erkenntnis, dass es ein St\\u00fcck \\u00fcber Raum und Zeit ist. Und dar\\u00fcber, dass man das Hier und Jetzt, gleich in welcher Rolle, sch\\u00e4tzen soll. In unbest\\u00e4ndigen Corona-Zeiten wirkt dieses Ballett aktueller denn je.\",\n          \"Scientists believe they have worked out why biting down on ice or drinking something really cold causes excruciating pain for some people. They have located the cells and signals in sensitive teeth that detect big temperature drops and trigger toothache and brain freeze. People with dental decay are prone to it because the pathway is exposed. It provides a target for new treatments, such as toothpastes, dental patches or chewing gum, they say. Prof Katharina Zimmermann is lead investigator of the work, published in the journal Science Advances. \\\"Once you have a molecule to target, there is a possibility of treatment,\\\" she explained. The target is called TRPC5, and Prof Zimmermann's team at the Friedrich-Alexander University Erlangen-N\\u00fcrnberg in Germany traced its location to a specific cell type - the odontoblast - that resides between the soft inner pulp and the hard outer layer of teeth composed of dentine, then enamel. Scan showing the inside of a tooth IMAGE COPYRIGHTL. BERNAL ET AL./SCIENCE ADVANCES 2021 image captionThe odontoblasts in this mouse tooth are coloured bright green on this scan Enamel has no feeling, unlike the next layer dentine. The dentine connects to the innermost pulp, where nerve cells live. If the dentine becomes exposed, following tooth decay or gum disease for example, painful stimuli such as temperature or certain liquids will cause pain. The researchers studied mice and humans to understand how the pain arises, recording what was happening in cells and nerves. Dr Zimmermann said: \\\"In human teeth with pits and dental caries we found a much upregulated number of TRPC5 channels, and therefore we believe that engineering a TRPC5 blocker that can be locally applied to teeth via strips or chewing gum would probably be a great help in treating tooth pain or dentine hypersensitivity.\\\" One common home remedy - clove oil - contains a chemical that blocks this TRPC5 pathway. The scientists are not recommending DIY treatments though. People who are experiencing any worrying toothache should still see a dentist, they stress. Prof Damien Walmsley from the British Dental Association (BDA) said blocking the pain might provide temporary relief, but it was vital to treat and prevent the cause. Brushing regularly could stop tooth and gum disease, he advised. \\\"The research is interesting but we can't ignore the underlying causes of tooth sensitivity, nor people's perception of pain. Dentists can treat the cause by removing the tooth decay, and advise on toothpaste for sensitive teeth.\\\" He said that in the future, TRPC5 blocking agents might be included in toothpastes or similar to prevent the pain of sensitivity. Prof Zimmermann's team did not receive any commercial financing for the work. It was funded by government. Tooth decay happens when the enamel and dentine of a tooth become softened by acid attacks after eating or drinking anything containing sugars, says the BDA. Over time, the acid makes a cavity (hole) in the tooth. Your risk of tooth decay is increased by how often you have sugary or acidic foods or drinks, so it is best to limit them to mealtimes.\"\n        ],\n        \"semantic_type\": \"\",\n        \"description\": \"\"\n      }\n    }\n  ]\n}"
            }
          },
          "metadata": {},
          "execution_count": 14
        }
      ]
    },
    {
      "cell_type": "markdown",
      "metadata": {
        "id": "uenvBfOhjruJ"
      },
      "source": [
        "**TASK 02**:\n",
        ">Write a line of code that will display the languages and topics that are represented in the data, as well as the number of documents for each combination of language and topic. *Hint*: read about the [Pandas crosstab function](https://pandas.pydata.org/pandas-docs/stable/reference/api/pandas.crosstab.html).\n",
        "\n",
        "**QUESTION 02**:\n",
        ">How many German-language articles have `Economy` as their topic?"
      ]
    },
    {
      "cell_type": "code",
      "metadata": {
        "id": "SF2i6NzDj713",
        "colab": {
          "base_uri": "https://localhost:8080/"
        },
        "outputId": "a920944b-e045-41e7-9e40-c464dd38c081"
      },
      "source": [
        "#display the languages and topics that are represented in the data, as well as how many\n",
        "#articles there are for each combination of language and topic\n",
        "\n",
        "# Group the data by language and topic, then count the number of articles for each group\n",
        "article_counts = df.groupby(['language', 'topic']).size().reset_index(name='count')\n",
        "\n",
        "# Display the result\n",
        "print(article_counts)\n",
        "\n",
        "## Answer: 2\n"
      ],
      "execution_count": 18,
      "outputs": [
        {
          "output_type": "stream",
          "name": "stdout",
          "text": [
            "   language     topic  count\n",
            "0   English  Business      6\n",
            "1   English   Science      7\n",
            "2   English    Sports      6\n",
            "3   English   Unknown      7\n",
            "4    French    Africa      1\n",
            "5    French   Economy      2\n",
            "6    French    Health      1\n",
            "7    French   Science      1\n",
            "8    German   Culture      2\n",
            "9    German   Economy      2\n",
            "10   German    Sports      1\n"
          ]
        }
      ]
    },
    {
      "cell_type": "markdown",
      "metadata": {
        "id": "ZKYgApDlbAE2"
      },
      "source": [
        "### Split Data by Language\n",
        "Next, let's split our dataset into three different dataframes, with each dataframe holding all of the documents for just one language. This will be useful later in the lab assignment when we are working only with English-language documents.\n",
        "\n",
        "Run the code cell below to split the dataset by language. For each line of code below, any rows in our `df` dataframe that satisfy the condition inside the square brackets will be included in the corresponding language-specific dataframe."
      ]
    },
    {
      "cell_type": "code",
      "metadata": {
        "id": "ZWZcLYqubEgk"
      },
      "source": [
        "#split the dataset into three different dataframes, with one dataframe per language\n",
        "df_english = df[df.language == 'English'].copy()\n",
        "df_french = df[df.language == 'French'].copy()\n",
        "df_german = df[df.language == 'German'].copy()"
      ],
      "execution_count": 19,
      "outputs": []
    },
    {
      "cell_type": "markdown",
      "metadata": {
        "id": "XKUeJ8D2zkOL"
      },
      "source": [
        "### Prepare Data for Analysis\n",
        "Natural language text often contains many punctuation symbols or special characters that can interfere with our ability to analyze the letters or words that comprise the actual message. For this reason, it is often (but not always) a good idea to remove these symbols or special characters. Similarly, since we will be counting letters and words in this lab assignment, we may want to convert all of the text to lower case. Otherwise, our program will think that a capitalized word is entirely different from a lowercase version of the same word. Note that simply converting all of the text to lower case will introduce some error into our data because humans like to use acronyms (e.g., `IT` vs. `it`). We will work on resolving this acronym issue in a future lab assignment.\n",
        "\n",
        "Run the code cell below to define a function that will clean the input text, and then use that function to clean all of the articles in the three language-specific dataframes."
      ]
    },
    {
      "cell_type": "code",
      "metadata": {
        "id": "EZEhso_ywcu2",
        "colab": {
          "base_uri": "https://localhost:8080/",
          "height": 87
        },
        "outputId": "7b25c21a-07b3-4f7f-9adc-ad8ac5845795"
      },
      "source": [
        "#define a function that will clean the raw input text in preparation for analysis.\n",
        "#the name of our function is 'clean_text'. It has one parameter (raw_text) which will\n",
        "#hold the text that we want to clean.\n",
        "def clean_text(raw_text):\n",
        "  #convert the raw text to lowercase\n",
        "  text = raw_text.lower()\n",
        "  #remove all numbers from the text using a regular expression\n",
        "  text = re.sub(r'[0-9]', ' ', text)\n",
        "  #remove all underscores from the text\n",
        "  text = re.sub(r'\\_', ' ', text)\n",
        "  #remove anything else in the text that isn't a word character (letter) or a space (e.g., punctuation, special symbols, etc.)\n",
        "  text = re.sub(r'[^\\w\\s]', ' ', text)\n",
        "  #remove any excess whitespace\n",
        "  for _ in range(10): text = text.replace('  ', ' ')\n",
        "  #remove any leading or trailing space characters\n",
        "  text = text.strip()\n",
        "  #return the clean text\n",
        "  return text\n",
        "\n",
        "\n",
        "#clean the raw text of each document and store the resulting clean text in a new column\n",
        "#in each dataframe. The code below uses a Python feature known as 'list comprehension'\n",
        "#to quickly handle this task. The code on the right side of the equals sign returns a\n",
        "#list, and that list is then used to create a new column in one of the language-specific\n",
        "#dataframes.\n",
        "df_english['clean_text'] = [clean_text(raw_text) for raw_text in df_english.raw_text]\n",
        "df_french['clean_text'] = [clean_text(raw_text) for raw_text in df_french.raw_text]\n",
        "df_german['clean_text'] = [clean_text(raw_text) for raw_text in df_german.raw_text]\n",
        "\n",
        "#show the cleaned text of the first English-language document\n",
        "df_english.iloc[0].clean_text"
      ],
      "execution_count": 20,
      "outputs": [
        {
          "output_type": "execute_result",
          "data": {
            "text/plain": [
              "'throughout the four plus years coach kyle shanahan and general manager john lynch have been in charge of the san francisco ers their quarterback plan has constantly evolved in they didn t use the no overall pick to take one of that draft s top quarterbacks because they had their eye on kirk cousins in free agency the following spring by halloween of that year the new england patriots offered jimmy garoppolo for a second round pick garoppolo did enough to change their minds and landed a massive contract before cousins hit the market it was a bold move but not nearly as bold as what they did friday agreeing to send the no overall pick this year first and third round choices and a first round selection to the miami dolphins for the no overall pick it s just the fourth time in the past drafts that a team has traded from th overall or later into the top three it s the highest pick the niners have acquired in a trade during the common draft era according to espn stats information a source told espn s adam schefter it was the culmination of a weeks long pursuit for a pick in the top five that would put them in striking distance of one of this year s top quarterback prospects draft ers dolphins eagles barnwell e aftermath of big trades grades e how did each team do wagoner niners boldly move up for qb mcmanus eagles have more options wolfe dolphins go all in on tagovailoa nfl draft order updating the full list it s a move that would make character mike ehrmantraut of breaking bad and better call saul fame proud no more half measures the niners are all in on acquiring a franchise quarterback for the future you talk about blockbuster this is a decade defining trade for the ers steve young espn nfl analyst and ers hall of fame quarterback told sportscenter on friday morning and it s clear that kyle shanahan has not been satisfied with the quarterback position it has been eating at him for some time and we ve talked about it around it tried to be more aggressive about it but the truth is this is now the proof in the pudding that they are now going to get their quarterback indeed the ers are going to get their quarterback which begs two follow up questions who will that quarterback be and what will become of garoppolo the answers are intertwined teams don t give up as much as the niners did for the third pick if they don t have their eye on a quarterback garoppolo s injury history he s missed of his past regular season starts because of knee and ankle issues has put the ers in a spot where they must look to the future if they want to contend long term assuming the jacksonville jaguars select clemson s trevor lawrence first the ers would then have the chance to take byu s zach wilson ohio state s justin fields alabama s mac jones or north dakota state s trey lance chances are wilson will head to the jets at no which means the niners would have their pick of the other three or in a less likely scenario the niners could use the no pick as part of a package for another blockbuster trade to acquire a quarterback elsewhere it s hard to imagine the niners making such a big move without at least some idea of which quarterbacks they prefer fields is a dynamic player with big play ability the niners have been missing he s worked with shanahan at the qb collective in the past jones is the polished type of pocket passer shanahan has always liked and would bring down the field accuracy san francisco s offense has lacked lance is probably the most unknown because of his small school pedigree but his physical tools and leadership skills are hard to ignore play what does ers trade mean for jimmy garoppolo marcus spears breaks down the san francisco ers trading up to the no pick in the draft assumedly to take a quarterback one thing they all might have in common for all their talents they might not be ready to start in which is where garoppolo comes in schefter reported the niners have no interest in trading garoppolo this season while that could change if the ers get an offer that s enticing it s also possible the niners will indeed hang on to garoppolo even with a highly drafted rookie waiting in the wings similar to what kansas city did in with alex smith and patrick mahomes it s a comparison shanahan alluded to in december when asked about his offseason plans at quarterback do you want to go get a starter as a backup quarterback then you ve just got to decide if you want to spend the majority of your salary cap on your first and your second string quarterbacks shanahan said that s something that most teams do have an issue with that second team quarterback unless they ve drafted a guy and then had their starter from the year before someone like alex and what they had with patrick so it s a very common thing you just hope you don t lose your guy for a whole year moving on from garoppolo would save the ers million against the cap but that kind of cap space doesn t do them much good now that free agency s big money days have passed nfl draft coverage mock drafts kiper mcshay rankings kiper mcshay qbs in the class five key stats kiper s march mailbag questions full ranking pick order more the niners believe injuries did them in last season and with better health this is a roster that s ready to surge back into contention would that still be the case with a rookie starting at quarterback history would say no as no rookie quarterback has started a super bowl let alone won it in the common era best case scenario outside of a too tempting trade offer for garoppolo he starts stays healthy and takes the niners the distance that would open plenty of trade opportunities next offseason and the niners could recoup some of their lost draft capital it s long been said fortune favors the bold the ers have their chance to prove it if it works they ll be able to create the type of sustained success shanahan and lynch have searched for since they arrived if not it could ultimately be their undoing kyle shanahan is going to pick his guy young said that is going to define his coaching career this is an amazing life changing event for a lot of people in the ers organization'"
            ],
            "application/vnd.google.colaboratory.intrinsic+json": {
              "type": "string"
            }
          },
          "metadata": {},
          "execution_count": 20
        }
      ]
    },
    {
      "cell_type": "markdown",
      "metadata": {
        "id": "MxwE09-Lzuah"
      },
      "source": [
        "### Compute Raw Letter Frequencies for Each Language\n",
        "The frequency with which each letter is used varies substantially from language to language, and this fact is very useful in fields such as file compression and cryptography (code breaking).\n",
        "\n",
        "**TASK 03**:\n",
        ">Run the code cell below to count how many times each letter is used in the documents for each language, and then write a line of code that will display the letter frequencies for the German-language documents.\n",
        "\n",
        "**QUESTION 03**:\n",
        ">What is the second-most frequently used letter in the German-language documents?"
      ]
    },
    {
      "cell_type": "code",
      "metadata": {
        "id": "-JC3AFV30MyW",
        "colab": {
          "base_uri": "https://localhost:8080/"
        },
        "outputId": "92df04dc-68af-4f15-adc2-28dc70ffcec7"
      },
      "source": [
        "#define a function that will compute the raw letter frequencies for the input texts,\n",
        "#as well as the total number of letters appearing in the input texts\n",
        "def letter_counts(input_texts):\n",
        "  all_text = ' '.join(input_texts) #join all of the input texts into one big string\n",
        "  letter_counts = Counter(all_text.replace(' ', '')) #count all letters in the text (excluding spaces)\n",
        "  #return letter counts (sorted from most common to least common),\n",
        "  #and the total number of letters. Note that we're returning two different values -- the first value\n",
        "  #is a list containing the letters and their raw frequencies, while the second value is the total\n",
        "  #number of letters appearing in all of input texts.\n",
        "  return letter_counts.most_common(), sum(letter_counts.values())\n",
        "\n",
        "\n",
        "#use our new 'letter_counts()' function to get letter counts for each language\n",
        "english_letter_counts, total_english_letters = letter_counts(df_english.clean_text)\n",
        "french_letter_counts, total_french_letters = letter_counts(df_french.clean_text)\n",
        "german_letter_counts, total_german_letters = letter_counts(df_german.clean_text)\n",
        "\n",
        "print(german_letter_counts)\n",
        "\n",
        "\n"
      ],
      "execution_count": 28,
      "outputs": [
        {
          "output_type": "stream",
          "name": "stdout",
          "text": [
            "[('e', 3339), ('n', 2253), ('i', 1863), ('r', 1602), ('a', 1366), ('t', 1335), ('s', 1267), ('d', 1010), ('h', 899), ('l', 840), ('u', 773), ('o', 683), ('c', 647), ('g', 608), ('m', 584), ('b', 399), ('f', 345), ('w', 313), ('k', 302), ('z', 277), ('p', 230), ('v', 209), ('ü', 125), ('ä', 91), ('j', 67), ('ß', 42), ('ö', 40), ('y', 33), ('x', 18), ('q', 5), ('é', 2), ('á', 2), ('ó', 1)]\n"
          ]
        }
      ]
    },
    {
      "cell_type": "code",
      "metadata": {
        "id": "YGRhGu8G9UhX",
        "colab": {
          "base_uri": "https://localhost:8080/"
        },
        "outputId": "89fd5780-a73f-46ed-be3d-97dce9acf1a1"
      },
      "source": [
        "second_most_common_letter = german_letter_counts[1][0]\n",
        "print(\"The second-most frequently used letter in the German-language documents is:\", second_most_common_letter)\n",
        "\n"
      ],
      "execution_count": 29,
      "outputs": [
        {
          "output_type": "stream",
          "name": "stdout",
          "text": [
            "The second-most frequently used letter in the German-language documents is: n\n"
          ]
        }
      ]
    },
    {
      "cell_type": "markdown",
      "metadata": {
        "id": "E1ZPJLnn0RFy"
      },
      "source": [
        "### Compute Standardized Letter Frequencies (i.e., Letter Probability Distributions) for Each Language\n",
        "Working with raw letter frequencies has some value, but if we want to be able to effectively compare letter usage among languages, we need to standardize the frequencies into probabilities (or equivalently, into percentages). We can do this by dividing each letter's raw frequency count by the total number of letters appearing in the corpus of documents for a given language.\n",
        "\n",
        "**TASK 04**:\n",
        ">Run the code cell below to compute the letter probability distributions for each language, and then write a line of code that will display the letter probabilities for the French-language documents.\n",
        "\n",
        "**QUESTION 04**:\n",
        ">What is the probability for the letter `e` among all of the French-language documents? Report your answer using three decimals of precision (e.g., 0.096)."
      ]
    },
    {
      "cell_type": "code",
      "metadata": {
        "id": "JR1XgGn70hSY",
        "colab": {
          "base_uri": "https://localhost:8080/"
        },
        "outputId": "3c16082c-3027-4644-a0d0-7ff15db8f599"
      },
      "source": [
        "#get letter probabilities for each language\n",
        "english_letter_probabilities = [(letter, n / total_english_letters) for letter, n in english_letter_counts]\n",
        "french_letter_probabilities = [(letter, n / total_french_letters) for letter, n in french_letter_counts]\n",
        "german_letter_probabilities = [(letter, n / total_german_letters) for letter, n in german_letter_counts]\n",
        "\n",
        "print(french_letter_probabilities)"
      ],
      "execution_count": 35,
      "outputs": [
        {
          "output_type": "stream",
          "name": "stdout",
          "text": [
            "[('e', 0.14189374417457098), ('s', 0.0836668677010801), ('a', 0.07780031799989034), ('n', 0.07582652557706014), ('i', 0.0713854926256922), ('t', 0.06836997642414606), ('r', 0.0674379077800318), ('u', 0.05680135972366906), ('o', 0.05449860189703383), ('l', 0.05236032677230111), ('d', 0.043533088436866055), ('c', 0.03826964197598553), ('p', 0.028674817698338725), ('é', 0.027523438785021108), ('m', 0.025165853391085038), ('v', 0.016009649651844947), ('g', 0.011294478863972805), ('q', 0.01008827238335435), ('b', 0.009704479412248479), ('f', 0.00921103130654093), ('h', 0.0062503426722956305), ('à', 0.0047699983551729806), ('j', 0.0038379297110587205), ('x', 0.0037282745764570424), ('y', 0.003289654038050332), ('è', 0.002851033499643621), ('z', 0.0020834475574318767), ('ê', 0.0008772410768134218), ('k', 0.0007675859422117441), ('â', 0.00032896540380503316), ('ç', 0.00032896540380503316), ('ô', 0.0002741378365041943), ('û', 0.00021931026920335545), ('œ', 0.00021931026920335545), ('ù', 0.00021931026920335545), ('ï', 0.00016448270190251658), ('w', 0.00016448270190251658), ('î', 0.00010965513460167772)]\n"
          ]
        }
      ]
    },
    {
      "cell_type": "code",
      "metadata": {
        "id": "fsl_S1YZBHV8",
        "colab": {
          "base_uri": "https://localhost:8080/"
        },
        "outputId": "afe166df-b0b2-4e99-ec4e-62aabad4f416"
      },
      "source": [
        "#display letter probabilities for all of the French-language documents\n",
        "\n",
        "v = french_letter_probabilities[0][1]\n",
        "print(\"The probability for the letter e among all of the French-language documents is:\", round(v,3))\n",
        "\n"
      ],
      "execution_count": 39,
      "outputs": [
        {
          "output_type": "stream",
          "name": "stdout",
          "text": [
            "The probability for the letter e in among all of the French-language documents is: 0.142\n"
          ]
        }
      ]
    },
    {
      "cell_type": "markdown",
      "metadata": {
        "id": "mfIiu9MK1IIU"
      },
      "source": [
        "###A Brief Note Before We Continue...\n",
        "From this point forward we'll only be focusing on the English-language documents. Nevertheless, it's important to understand that all of the techniques used in the remainder of this lab assignment could also be applied to the French-language or German-language documents (as well as documents written in many other languages)."
      ]
    },
    {
      "cell_type": "markdown",
      "metadata": {
        "id": "CuwPfKZJe2Jp"
      },
      "source": [
        "###Build a Vocabulary\n",
        "Our next task will be to build a vocabulary for our English-language corpus. In Natural Language Processing (NLP), a ***vocabulary*** is a collection of unique lexical units appearing in a corpus. Importantly, what constitutes a \"lexical unit\" can vary from project to project. For our current lab assignment, we will adopt the simplest approach and use the collection of unique ***words*** as the lexical units for our vocabulary, but this is not the only option. Alternatives include:\n",
        "* <u>Lexemes</u>: A ***lexeme*** is the collection of different forms for a single root word. For example, *eat*, *eats*, *ate*, *eating*, and *eaten* are all part of the same lexeme. A ***lemma*** (e.g., *eat*) is chosen to represent each lexeme, and the lemma appears as the lexeme's headword in a dictionary.\n",
        "* <u>Lexical Items</u>: A ***lexical item*** is a word or group of words that conveys a single meaning. For example, individual words such as *dog* and *computer* are lexical items, but so are compounds such as *post office* and *parking lot*. Idioms are also lexical items because they convey a single meaning. For example, idioms such as *once in a blue moon* or *finding a needle in a haystack* convey a single meaning, and are hence lexical items.\n",
        "\n",
        "**TASK 05**:\n",
        "> Run the code cell below to build a vocabulary of words for our English-language documents, and then write a line of code to determine how many unique words appear in the vocabulary. *Hint*: read [this article](https://www.w3schools.com/python/ref_func_len.asp) about Python's `len()` function.\n",
        "\n",
        "**QUESTION 05**:\n",
        ">How many unique words appear in the vocabulary for our English-language corpus?"
      ]
    },
    {
      "cell_type": "code",
      "metadata": {
        "id": "3rDFv8h52JiI",
        "colab": {
          "base_uri": "https://localhost:8080/"
        },
        "outputId": "ffdedeb6-ac8c-4876-92fc-ff01ea04faaa"
      },
      "source": [
        "#build a vocabulary of words\n",
        "all_text = ' '.join(df_english.clean_text) #join all of the English texts into one big string\n",
        "words = all_text.split() #split the text into words\n",
        "word_frequencies = Counter(words) #count all words in the text\n",
        "vocabulary = list(word_frequencies.keys()) #get a list of all unique words\n",
        "\n",
        "#sort the vocabulary to ensure that we all get consistent results!\n",
        "vocabulary.sort()\n",
        "\n",
        "#use slicing to show the first 20 words in the vocabulary\n",
        "vocabulary[:20]"
      ],
      "execution_count": 40,
      "outputs": [
        {
          "output_type": "execute_result",
          "data": {
            "text/plain": [
              "['a',\n",
              " 'aaronson',\n",
              " 'ab',\n",
              " 'abandon',\n",
              " 'abilities',\n",
              " 'ability',\n",
              " 'able',\n",
              " 'about',\n",
              " 'above',\n",
              " 'abruptly',\n",
              " 'absence',\n",
              " 'absent',\n",
              " 'absolute',\n",
              " 'absorb',\n",
              " 'abundant',\n",
              " 'abusing',\n",
              " 'academy',\n",
              " 'acceleration',\n",
              " 'accelerator',\n",
              " 'accept']"
            ]
          },
          "metadata": {},
          "execution_count": 40
        }
      ]
    },
    {
      "cell_type": "code",
      "metadata": {
        "id": "6wVHW8Sg2GsV",
        "colab": {
          "base_uri": "https://localhost:8080/"
        },
        "outputId": "63b433b7-db8a-47e8-dfe7-47f2102591be"
      },
      "source": [
        "#display the total number of unique words in the vocabulary\n",
        "total_unique_words = len(vocabulary)\n",
        "print(\"Total number of unique words in the vocabulary:\", total_unique_words)"
      ],
      "execution_count": 41,
      "outputs": [
        {
          "output_type": "stream",
          "name": "stdout",
          "text": [
            "Total number of unique words in the vocabulary: 5119\n"
          ]
        }
      ]
    },
    {
      "cell_type": "markdown",
      "metadata": {
        "id": "SMxsBP3T1e2G"
      },
      "source": [
        "**TASK 06**:\n",
        "> Write some code to identify the longest word in our English-language corpus. *Hint*: Read [this article](https://www.programiz.com/python-programming/methods/built-in/sorted) and pay particular attention to the discussion of the `sorted()` function's `key` parameter.\n",
        "\n",
        "**QUESTION 06**:\n",
        ">What is the longest word among all of the English-language documents?"
      ]
    },
    {
      "cell_type": "code",
      "metadata": {
        "id": "IT1cb6dMzkL0",
        "colab": {
          "base_uri": "https://localhost:8080/"
        },
        "outputId": "58381e48-9386-4329-b0af-9afb0d911a7a"
      },
      "source": [
        "#display the longest word in the English-language corpus\n",
        "\n",
        "# Sort the vocabulary list based on the length of each word\n",
        "sorted_vocabulary = sorted(vocabulary, key=len)\n",
        "\n",
        "# Get the longest word (last element in the sorted list)\n",
        "longest_word = sorted_vocabulary[-1]\n",
        "\n",
        "# Display the longest word\n",
        "print(\"The longest word in the English-language corpus is:\", longest_word)\n",
        "\n"
      ],
      "execution_count": 43,
      "outputs": [
        {
          "output_type": "stream",
          "name": "stdout",
          "text": [
            "The longest word in the English-language corpus is: immunosuppressants\n"
          ]
        }
      ]
    },
    {
      "cell_type": "markdown",
      "metadata": {
        "id": "tBXMyepb2pqN"
      },
      "source": [
        "###Compute Raw Vocabulary Word Frequencies and Total Word Counts for Each Document\n",
        "Next, let's calculate each document's raw vocabulary word frequencies and total word count. These values will be needed in order to compute the standardized probability for each word in each document.\n",
        "\n",
        "Run the code cell below to compute the raw vocabulary word frequencies and total word count for each document in the corpus. After computing these values, they will be added to the dataframe as new columns. Read the comments in the code cell carefully to ensure that you understand how the vocabulary word frequencies for each document are being calculated."
      ]
    },
    {
      "cell_type": "code",
      "metadata": {
        "id": "cyqQ7Dpr2-bk",
        "colab": {
          "base_uri": "https://localhost:8080/",
          "height": 238
        },
        "outputId": "adceb85c-1adf-4505-c9ce-879df21cee5d"
      },
      "source": [
        "#ensure that the vocabulary is sorted\n",
        "vocabulary.sort()\n",
        "#define a collection (list) to hold the raw frequencies for each word in each document\n",
        "document_word_frequencies = []\n",
        "#define a collection (list) to hold the total number of words in each document\n",
        "document_total_words = []\n",
        "#compute the word frequencies and total number of words for each document in the English-language corpus\n",
        "for current_document in df_english.itertuples(): #for each document (row) in the English-language dataframe\n",
        "  words = current_document.clean_text.split() #split the (clean) text for the current document into words\n",
        "  total_words = len(words) #compute the total number of words in the document\n",
        "  #identify all unique words in the document's (clean) text, and count how many times each\n",
        "  #word appears in the document\n",
        "  word_frequencies = Counter(words)\n",
        "  #compute the document's raw word frequencies for every word in the VOCABULARY (as opposed to every\n",
        "  #word in the document). The vocabulary will contain more unique words than the document itself, but\n",
        "  #we still need to consider EVERY word in the vocabulary, even if a particular word in the vocabulary\n",
        "  #doesn't appear in the document. This will ensure that the feature vectors we'll use to represent each\n",
        "  #document will all be exactly the same length and will have exactly corresponding elements!\n",
        "  vocabulary_word_frequencies = []\n",
        "  #for each word in the vocabulary\n",
        "  for vocabulary_word in vocabulary:\n",
        "    #if this vocabulary word appears in the document\n",
        "    if vocabulary_word in word_frequencies:\n",
        "      #add the number of times this vocabulary word appears in the document to the collection\n",
        "      vocabulary_word_frequencies.append(word_frequencies[vocabulary_word])\n",
        "    else: #if this vocabulary word doesn't appear in the document\n",
        "      #add a value of zero for this vocabulary word to the collection (since this\n",
        "      #vocabulary word appears zero times in the current document)\n",
        "      vocabulary_word_frequencies.append(0)\n",
        "  #add this document's vocabulary word frequencies to the collection\n",
        "  document_word_frequencies.append(vocabulary_word_frequencies)\n",
        "  #add this document's total number of words to the collection\n",
        "  document_total_words.append(total_words)\n",
        "\n",
        "#add the raw word frequencies and total word counts for each document to the\n",
        "#English-language dataframe as new columns.\n",
        "df_english['word_frequencies'] = document_word_frequencies\n",
        "df_english['total_words'] = document_total_words\n",
        "\n",
        "#show the first few rows in the dataframe\n",
        "df_english.head()"
      ],
      "execution_count": 44,
      "outputs": [
        {
          "output_type": "execute_result",
          "data": {
            "text/plain": [
              "            language     topic  \\\n",
              "document_id                      \n",
              "2            English    Sports   \n",
              "4            English    Sports   \n",
              "5            English  Business   \n",
              "8            English   Science   \n",
              "10           English  Business   \n",
              "\n",
              "                                                      raw_text  \\\n",
              "document_id                                                      \n",
              "2            Throughout the four-plus years coach Kyle Shan...   \n",
              "4            Major League Baseball is raising the minimum s...   \n",
              "5            The stranded Ever Given mega-container ship in...   \n",
              "8            The US space agency says it expects now to fly...   \n",
              "10           Investors looking for ways to protect themselv...   \n",
              "\n",
              "                                                    clean_text  \\\n",
              "document_id                                                      \n",
              "2            throughout the four plus years coach kyle shan...   \n",
              "4            major league baseball is raising the minimum s...   \n",
              "5            the stranded ever given mega container ship in...   \n",
              "8            the us space agency says it expects now to fly...   \n",
              "10           investors looking for ways to protect themselv...   \n",
              "\n",
              "                                              word_frequencies  total_words  \n",
              "document_id                                                                  \n",
              "2            [32, 0, 0, 0, 0, 1, 1, 4, 0, 0, 0, 0, 0, 0, 0,...         1145  \n",
              "4            [21, 0, 0, 0, 0, 0, 0, 2, 0, 0, 0, 1, 0, 0, 0,...          945  \n",
              "5            [6, 0, 0, 0, 0, 0, 0, 2, 0, 0, 0, 0, 0, 1, 0, ...          750  \n",
              "8            [17, 0, 0, 0, 0, 0, 0, 2, 1, 0, 0, 0, 0, 0, 0,...          671  \n",
              "10           [16, 0, 0, 0, 0, 0, 1, 0, 1, 0, 0, 0, 0, 0, 0,...          613  "
            ],
            "text/html": [
              "\n",
              "  <div id=\"df-02822578-2250-4c99-8165-3f9119803012\" class=\"colab-df-container\">\n",
              "    <div>\n",
              "<style scoped>\n",
              "    .dataframe tbody tr th:only-of-type {\n",
              "        vertical-align: middle;\n",
              "    }\n",
              "\n",
              "    .dataframe tbody tr th {\n",
              "        vertical-align: top;\n",
              "    }\n",
              "\n",
              "    .dataframe thead th {\n",
              "        text-align: right;\n",
              "    }\n",
              "</style>\n",
              "<table border=\"1\" class=\"dataframe\">\n",
              "  <thead>\n",
              "    <tr style=\"text-align: right;\">\n",
              "      <th></th>\n",
              "      <th>language</th>\n",
              "      <th>topic</th>\n",
              "      <th>raw_text</th>\n",
              "      <th>clean_text</th>\n",
              "      <th>word_frequencies</th>\n",
              "      <th>total_words</th>\n",
              "    </tr>\n",
              "    <tr>\n",
              "      <th>document_id</th>\n",
              "      <th></th>\n",
              "      <th></th>\n",
              "      <th></th>\n",
              "      <th></th>\n",
              "      <th></th>\n",
              "      <th></th>\n",
              "    </tr>\n",
              "  </thead>\n",
              "  <tbody>\n",
              "    <tr>\n",
              "      <th>2</th>\n",
              "      <td>English</td>\n",
              "      <td>Sports</td>\n",
              "      <td>Throughout the four-plus years coach Kyle Shan...</td>\n",
              "      <td>throughout the four plus years coach kyle shan...</td>\n",
              "      <td>[32, 0, 0, 0, 0, 1, 1, 4, 0, 0, 0, 0, 0, 0, 0,...</td>\n",
              "      <td>1145</td>\n",
              "    </tr>\n",
              "    <tr>\n",
              "      <th>4</th>\n",
              "      <td>English</td>\n",
              "      <td>Sports</td>\n",
              "      <td>Major League Baseball is raising the minimum s...</td>\n",
              "      <td>major league baseball is raising the minimum s...</td>\n",
              "      <td>[21, 0, 0, 0, 0, 0, 0, 2, 0, 0, 0, 1, 0, 0, 0,...</td>\n",
              "      <td>945</td>\n",
              "    </tr>\n",
              "    <tr>\n",
              "      <th>5</th>\n",
              "      <td>English</td>\n",
              "      <td>Business</td>\n",
              "      <td>The stranded Ever Given mega-container ship in...</td>\n",
              "      <td>the stranded ever given mega container ship in...</td>\n",
              "      <td>[6, 0, 0, 0, 0, 0, 0, 2, 0, 0, 0, 0, 0, 1, 0, ...</td>\n",
              "      <td>750</td>\n",
              "    </tr>\n",
              "    <tr>\n",
              "      <th>8</th>\n",
              "      <td>English</td>\n",
              "      <td>Science</td>\n",
              "      <td>The US space agency says it expects now to fly...</td>\n",
              "      <td>the us space agency says it expects now to fly...</td>\n",
              "      <td>[17, 0, 0, 0, 0, 0, 0, 2, 1, 0, 0, 0, 0, 0, 0,...</td>\n",
              "      <td>671</td>\n",
              "    </tr>\n",
              "    <tr>\n",
              "      <th>10</th>\n",
              "      <td>English</td>\n",
              "      <td>Business</td>\n",
              "      <td>Investors looking for ways to protect themselv...</td>\n",
              "      <td>investors looking for ways to protect themselv...</td>\n",
              "      <td>[16, 0, 0, 0, 0, 0, 1, 0, 1, 0, 0, 0, 0, 0, 0,...</td>\n",
              "      <td>613</td>\n",
              "    </tr>\n",
              "  </tbody>\n",
              "</table>\n",
              "</div>\n",
              "    <div class=\"colab-df-buttons\">\n",
              "\n",
              "  <div class=\"colab-df-container\">\n",
              "    <button class=\"colab-df-convert\" onclick=\"convertToInteractive('df-02822578-2250-4c99-8165-3f9119803012')\"\n",
              "            title=\"Convert this dataframe to an interactive table.\"\n",
              "            style=\"display:none;\">\n",
              "\n",
              "  <svg xmlns=\"http://www.w3.org/2000/svg\" height=\"24px\" viewBox=\"0 -960 960 960\">\n",
              "    <path d=\"M120-120v-720h720v720H120Zm60-500h600v-160H180v160Zm220 220h160v-160H400v160Zm0 220h160v-160H400v160ZM180-400h160v-160H180v160Zm440 0h160v-160H620v160ZM180-180h160v-160H180v160Zm440 0h160v-160H620v160Z\"/>\n",
              "  </svg>\n",
              "    </button>\n",
              "\n",
              "  <style>\n",
              "    .colab-df-container {\n",
              "      display:flex;\n",
              "      gap: 12px;\n",
              "    }\n",
              "\n",
              "    .colab-df-convert {\n",
              "      background-color: #E8F0FE;\n",
              "      border: none;\n",
              "      border-radius: 50%;\n",
              "      cursor: pointer;\n",
              "      display: none;\n",
              "      fill: #1967D2;\n",
              "      height: 32px;\n",
              "      padding: 0 0 0 0;\n",
              "      width: 32px;\n",
              "    }\n",
              "\n",
              "    .colab-df-convert:hover {\n",
              "      background-color: #E2EBFA;\n",
              "      box-shadow: 0px 1px 2px rgba(60, 64, 67, 0.3), 0px 1px 3px 1px rgba(60, 64, 67, 0.15);\n",
              "      fill: #174EA6;\n",
              "    }\n",
              "\n",
              "    .colab-df-buttons div {\n",
              "      margin-bottom: 4px;\n",
              "    }\n",
              "\n",
              "    [theme=dark] .colab-df-convert {\n",
              "      background-color: #3B4455;\n",
              "      fill: #D2E3FC;\n",
              "    }\n",
              "\n",
              "    [theme=dark] .colab-df-convert:hover {\n",
              "      background-color: #434B5C;\n",
              "      box-shadow: 0px 1px 3px 1px rgba(0, 0, 0, 0.15);\n",
              "      filter: drop-shadow(0px 1px 2px rgba(0, 0, 0, 0.3));\n",
              "      fill: #FFFFFF;\n",
              "    }\n",
              "  </style>\n",
              "\n",
              "    <script>\n",
              "      const buttonEl =\n",
              "        document.querySelector('#df-02822578-2250-4c99-8165-3f9119803012 button.colab-df-convert');\n",
              "      buttonEl.style.display =\n",
              "        google.colab.kernel.accessAllowed ? 'block' : 'none';\n",
              "\n",
              "      async function convertToInteractive(key) {\n",
              "        const element = document.querySelector('#df-02822578-2250-4c99-8165-3f9119803012');\n",
              "        const dataTable =\n",
              "          await google.colab.kernel.invokeFunction('convertToInteractive',\n",
              "                                                    [key], {});\n",
              "        if (!dataTable) return;\n",
              "\n",
              "        const docLinkHtml = 'Like what you see? Visit the ' +\n",
              "          '<a target=\"_blank\" href=https://colab.research.google.com/notebooks/data_table.ipynb>data table notebook</a>'\n",
              "          + ' to learn more about interactive tables.';\n",
              "        element.innerHTML = '';\n",
              "        dataTable['output_type'] = 'display_data';\n",
              "        await google.colab.output.renderOutput(dataTable, element);\n",
              "        const docLink = document.createElement('div');\n",
              "        docLink.innerHTML = docLinkHtml;\n",
              "        element.appendChild(docLink);\n",
              "      }\n",
              "    </script>\n",
              "  </div>\n",
              "\n",
              "\n",
              "<div id=\"df-67f96096-3ad5-46a1-8329-5e37d4b6c04f\">\n",
              "  <button class=\"colab-df-quickchart\" onclick=\"quickchart('df-67f96096-3ad5-46a1-8329-5e37d4b6c04f')\"\n",
              "            title=\"Suggest charts\"\n",
              "            style=\"display:none;\">\n",
              "\n",
              "<svg xmlns=\"http://www.w3.org/2000/svg\" height=\"24px\"viewBox=\"0 0 24 24\"\n",
              "     width=\"24px\">\n",
              "    <g>\n",
              "        <path d=\"M19 3H5c-1.1 0-2 .9-2 2v14c0 1.1.9 2 2 2h14c1.1 0 2-.9 2-2V5c0-1.1-.9-2-2-2zM9 17H7v-7h2v7zm4 0h-2V7h2v10zm4 0h-2v-4h2v4z\"/>\n",
              "    </g>\n",
              "</svg>\n",
              "  </button>\n",
              "\n",
              "<style>\n",
              "  .colab-df-quickchart {\n",
              "      --bg-color: #E8F0FE;\n",
              "      --fill-color: #1967D2;\n",
              "      --hover-bg-color: #E2EBFA;\n",
              "      --hover-fill-color: #174EA6;\n",
              "      --disabled-fill-color: #AAA;\n",
              "      --disabled-bg-color: #DDD;\n",
              "  }\n",
              "\n",
              "  [theme=dark] .colab-df-quickchart {\n",
              "      --bg-color: #3B4455;\n",
              "      --fill-color: #D2E3FC;\n",
              "      --hover-bg-color: #434B5C;\n",
              "      --hover-fill-color: #FFFFFF;\n",
              "      --disabled-bg-color: #3B4455;\n",
              "      --disabled-fill-color: #666;\n",
              "  }\n",
              "\n",
              "  .colab-df-quickchart {\n",
              "    background-color: var(--bg-color);\n",
              "    border: none;\n",
              "    border-radius: 50%;\n",
              "    cursor: pointer;\n",
              "    display: none;\n",
              "    fill: var(--fill-color);\n",
              "    height: 32px;\n",
              "    padding: 0;\n",
              "    width: 32px;\n",
              "  }\n",
              "\n",
              "  .colab-df-quickchart:hover {\n",
              "    background-color: var(--hover-bg-color);\n",
              "    box-shadow: 0 1px 2px rgba(60, 64, 67, 0.3), 0 1px 3px 1px rgba(60, 64, 67, 0.15);\n",
              "    fill: var(--button-hover-fill-color);\n",
              "  }\n",
              "\n",
              "  .colab-df-quickchart-complete:disabled,\n",
              "  .colab-df-quickchart-complete:disabled:hover {\n",
              "    background-color: var(--disabled-bg-color);\n",
              "    fill: var(--disabled-fill-color);\n",
              "    box-shadow: none;\n",
              "  }\n",
              "\n",
              "  .colab-df-spinner {\n",
              "    border: 2px solid var(--fill-color);\n",
              "    border-color: transparent;\n",
              "    border-bottom-color: var(--fill-color);\n",
              "    animation:\n",
              "      spin 1s steps(1) infinite;\n",
              "  }\n",
              "\n",
              "  @keyframes spin {\n",
              "    0% {\n",
              "      border-color: transparent;\n",
              "      border-bottom-color: var(--fill-color);\n",
              "      border-left-color: var(--fill-color);\n",
              "    }\n",
              "    20% {\n",
              "      border-color: transparent;\n",
              "      border-left-color: var(--fill-color);\n",
              "      border-top-color: var(--fill-color);\n",
              "    }\n",
              "    30% {\n",
              "      border-color: transparent;\n",
              "      border-left-color: var(--fill-color);\n",
              "      border-top-color: var(--fill-color);\n",
              "      border-right-color: var(--fill-color);\n",
              "    }\n",
              "    40% {\n",
              "      border-color: transparent;\n",
              "      border-right-color: var(--fill-color);\n",
              "      border-top-color: var(--fill-color);\n",
              "    }\n",
              "    60% {\n",
              "      border-color: transparent;\n",
              "      border-right-color: var(--fill-color);\n",
              "    }\n",
              "    80% {\n",
              "      border-color: transparent;\n",
              "      border-right-color: var(--fill-color);\n",
              "      border-bottom-color: var(--fill-color);\n",
              "    }\n",
              "    90% {\n",
              "      border-color: transparent;\n",
              "      border-bottom-color: var(--fill-color);\n",
              "    }\n",
              "  }\n",
              "</style>\n",
              "\n",
              "  <script>\n",
              "    async function quickchart(key) {\n",
              "      const quickchartButtonEl =\n",
              "        document.querySelector('#' + key + ' button');\n",
              "      quickchartButtonEl.disabled = true;  // To prevent multiple clicks.\n",
              "      quickchartButtonEl.classList.add('colab-df-spinner');\n",
              "      try {\n",
              "        const charts = await google.colab.kernel.invokeFunction(\n",
              "            'suggestCharts', [key], {});\n",
              "      } catch (error) {\n",
              "        console.error('Error during call to suggestCharts:', error);\n",
              "      }\n",
              "      quickchartButtonEl.classList.remove('colab-df-spinner');\n",
              "      quickchartButtonEl.classList.add('colab-df-quickchart-complete');\n",
              "    }\n",
              "    (() => {\n",
              "      let quickchartButtonEl =\n",
              "        document.querySelector('#df-67f96096-3ad5-46a1-8329-5e37d4b6c04f button');\n",
              "      quickchartButtonEl.style.display =\n",
              "        google.colab.kernel.accessAllowed ? 'block' : 'none';\n",
              "    })();\n",
              "  </script>\n",
              "</div>\n",
              "\n",
              "    </div>\n",
              "  </div>\n"
            ],
            "application/vnd.google.colaboratory.intrinsic+json": {
              "type": "dataframe",
              "variable_name": "df_english",
              "summary": "{\n  \"name\": \"df_english\",\n  \"rows\": 26,\n  \"fields\": [\n    {\n      \"column\": \"document_id\",\n      \"properties\": {\n        \"dtype\": \"number\",\n        \"std\": 10,\n        \"min\": 2,\n        \"max\": 36,\n        \"num_unique_values\": 26,\n        \"samples\": [\n          18,\n          26,\n          2\n        ],\n        \"semantic_type\": \"\",\n        \"description\": \"\"\n      }\n    },\n    {\n      \"column\": \"language\",\n      \"properties\": {\n        \"dtype\": \"category\",\n        \"num_unique_values\": 1,\n        \"samples\": [\n          \"English\"\n        ],\n        \"semantic_type\": \"\",\n        \"description\": \"\"\n      }\n    },\n    {\n      \"column\": \"topic\",\n      \"properties\": {\n        \"dtype\": \"category\",\n        \"num_unique_values\": 4,\n        \"samples\": [\n          \"Business\"\n        ],\n        \"semantic_type\": \"\",\n        \"description\": \"\"\n      }\n    },\n    {\n      \"column\": \"raw_text\",\n      \"properties\": {\n        \"dtype\": \"string\",\n        \"num_unique_values\": 26,\n        \"samples\": [\n          \"Scientists have long agreed that the Moon formed when a protoplanet, called Theia, struck Earth in its infancy some 4.5 billion years ago. Now, a team of scientists has a provocative new proposal: Theia\\u2019s remains can be found in two continent-size layers of rock buried deep in Earth\\u2019s mantle. For decades, seismologists have puzzled over these two blobs, which sit below West Africa and the Pacific Ocean and straddle the core like a pair of headphones. Up to 1000 kilometers tall and several times that wide, \\u201cthey are the largest thing in the Earth\\u2019s mantle,\\u201d says Qian Yuan, a Ph.D. student in geodynamics at Arizona State University (ASU), Tempe. Seismic waves from earthquakes abruptly slow down when they pass through the layers, which suggests they are denser and chemically different from the surrounding mantle rock. The large low-shear velocity provinces (LLSVPs), as seismologists call them, might simply have crystallized out of the depths of Earth\\u2019s primordial magma ocean. Or they might be dense puddles of primitive mantle rock that survived the trauma of the Moon-forming impact. But based on new isotopic evidence and modeling, Yuan believes the LLSVPs are the guts of the alien impactor itself. \\u201cThis crazy idea is at least possible,\\u201d says Yuan, who presented the hypothesis last week at the Lunar and Planetary Science Conference. SIGN UP FOR OUR DAILY NEWSLETTER Get more great content like this delivered right to you! Email Address * The idea has rattled around lab corridors and conference halls for years. But Edward Garnero, a seismologist at ASU Tempe who was not involved in the work, says it\\u2019s the first time anyone has marshaled multiple lines of evidence and mounted a serious case for it. \\u201cI think it\\u2019s completely viable until someone tells me it\\u2019s not.\\u201d Evidence from Iceland and Samoa suggests the LLSVPs have existed since the time of the Moon-forming impact, says Sujoy Mukhopadhyay, a geochemist at the University of California (UC), Davis, who considers Yuan\\u2019s idea plausible but is open to other explanations. Seismic imaging has traced plumes of magma that feed volcanoes on both islands all the way down to the LLSVPs. Over the past decade, Mukhopadhyay and others have discovered that lavas on the islands contain an isotopic record of radioactive elements that formed only during the first 100 million years of Earth history. Moreover, a new picture of the Moon-forming impactor suggests it could have delivered a cargo of dense rock deep inside Earth. The impact theory was developed in the 1970s to explain why the Moon is dry and doesn\\u2019t have much of an iron core: In a cataclysmic impact, volatiles like water would have vaporized and escaped, while a ring of less dense rocks thrown up in the collision would have eventually coalesced into the Moon. The theory invoked an impactor the size of Mars or\\u2014in recent variants\\u2014much smaller. But recent work from Yuan\\u2019s co-author, ASU Tempe astrophysicist Steven Desch, suggests Theia was nearly as big as Earth. In studies of Apollo Moon rocks, Desch and his colleagues measured the ratios of hydrogen to deuterium, a heavier hydrogen isotope. Light hydrogen was far more abundant in some of the Moon samples than in Earth rocks, they found. To capture and hold onto so much light hydrogen, Theia must have been massive, they proposed in a 2019 study in Geochemistry. It must also have been quite dry, as any water, which is naturally enriched in heavy hydrogen during its formation in interstellar space, would have raised the overall deuterium levels. Such a dry, large protoplanet would have separated into layers with an iron-depleted core and an iron-rich mantle, Desch says, some 2% to 3.5% denser than present-day Earth. Even before Yuan learned of Desch\\u2019s density estimates, he was modeling Theia\\u2019s fate. His model suggests that after the collision, Theia\\u2019s core would have quickly merged with Earth\\u2019s. He also probed the fate of Theia\\u2019s mantle, varying Theia\\u2019s size and density to see what conditions would have allowed the material to persist, rather than mixing in, and sink to the mantle\\u2019s base. The simulations consistently showed that mantle rocks 1.5% to 3.5% denser than Earth\\u2019s would survive and end up as piles near the core. The result lined up perfectly with Desch\\u2019s deuterium evidence. \\u201cIt\\u2019s this sweet spot for the density,\\u201d Desch says. A massive Theia would also explain the scale of the LLSVPs, which together contain six times more mass than the Moon. If they are extraterrestrial, Yuan says, only an impactor as large as Theia could have delivered them. There are many caveats, however, including the fuzzy evidence for the LLSVPs themselves. Their pilelike structure could simply be an illusion created by models of the interior that rely on low frequency seismic waves, which blur small differences, Barbara Romanowicz, a seismologist at UC Berkeley, and Anne Davaille, a geophysicist at Paris-Saclay University, suggested in a study in Tectonics last year. Rather than reaching up 1000 kilometers, the piles may rise only a few hundred kilometers before breaking off into branched plumes. \\u201cThere may be holes in them,\\u201d Romanowicz says. \\u201cThey may be a bundle of tubes.\\u201d Smaller or less monolithic LLSVPs would also be consistent with a forthcoming analysis that finds the LLSVPs are densest at the bottom, says Harriet Lau, a geophysicist at UC Berkeley. The analysis relies on two ways of imaging the deep Earth: using GPS stations to measure the way the Moon\\u2019s tidal pull stretches Earth, and seismometers to sense how Earth\\u2019s natural vibrations pass through the deep mantle. \\u201cPerhaps the real story behind the density is the distribution depth,\\u201d she says. Less massive LLSVPs could complicate the idea that Theia was nearly the size of a proto-Earth, says Jennifer Jenkins, a seismologist at Durham University. Yuan\\u2019s picture, she adds, \\u201cis not inconsistent with what we know, but I\\u2019m not entirely convinced.\\u201d Desch says the team could test its idea by looking for geochemical similarities between the island lavas and rocks from the Moon\\u2019s mantle. None of the Apollo samples capture the unaltered mantle, which is one reason scientists want samples from the Moon\\u2019s largest impact crater, on its south pole, where such rocks may be exhumed. NASA and China are both planning robotic missions to the south pole this decade, and it is a leading candidate site for NASA\\u2019s return of astronauts to the Moon. If Theia\\u2019s remnants do lie deep in Earth\\u2019s mantle, they may not be alone. Seismologists are increasingly seeing small, ultradense pockets of material in the deep mantle, only a few hundred kilometers across, often near the edges of the LLSVPs. Maybe they are the sunken remnants of iron-rich cores from other miniature planets that hit early Earth, Jenkins says. Theia, in fact, might be just one grave in a planetary cemetery. \"\n        ],\n        \"semantic_type\": \"\",\n        \"description\": \"\"\n      }\n    },\n    {\n      \"column\": \"clean_text\",\n      \"properties\": {\n        \"dtype\": \"string\",\n        \"num_unique_values\": 26,\n        \"samples\": [\n          \"scientists have long agreed that the moon formed when a protoplanet called theia struck earth in its infancy some billion years ago now a team of scientists has a provocative new proposal theia s remains can be found in two continent size layers of rock buried deep in earth s mantle for decades seismologists have puzzled over these two blobs which sit below west africa and the pacific ocean and straddle the core like a pair of headphones up to kilometers tall and several times that wide they are the largest thing in the earth s mantle says qian yuan a ph d student in geodynamics at arizona state university asu tempe seismic waves from earthquakes abruptly slow down when they pass through the layers which suggests they are denser and chemically different from the surrounding mantle rock the large low shear velocity provinces llsvps as seismologists call them might simply have crystallized out of the depths of earth s primordial magma ocean or they might be dense puddles of primitive mantle rock that survived the trauma of the moon forming impact but based on new isotopic evidence and modeling yuan believes the llsvps are the guts of the alien impactor itself this crazy idea is at least possible says yuan who presented the hypothesis last week at the lunar and planetary science conference sign up for our daily newsletter get more great content like this delivered right to you email address the idea has rattled around lab corridors and conference halls for years but edward garnero a seismologist at asu tempe who was not involved in the work says it s the first time anyone has marshaled multiple lines of evidence and mounted a serious case for it i think it s completely viable until someone tells me it s not evidence from iceland and samoa suggests the llsvps have existed since the time of the moon forming impact says sujoy mukhopadhyay a geochemist at the university of california uc davis who considers yuan s idea plausible but is open to other explanations seismic imaging has traced plumes of magma that feed volcanoes on both islands all the way down to the llsvps over the past decade mukhopadhyay and others have discovered that lavas on the islands contain an isotopic record of radioactive elements that formed only during the first million years of earth history moreover a new picture of the moon forming impactor suggests it could have delivered a cargo of dense rock deep inside earth the impact theory was developed in the s to explain why the moon is dry and doesn t have much of an iron core in a cataclysmic impact volatiles like water would have vaporized and escaped while a ring of less dense rocks thrown up in the collision would have eventually coalesced into the moon the theory invoked an impactor the size of mars or in recent variants much smaller but recent work from yuan s co author asu tempe astrophysicist steven desch suggests theia was nearly as big as earth in studies of apollo moon rocks desch and his colleagues measured the ratios of hydrogen to deuterium a heavier hydrogen isotope light hydrogen was far more abundant in some of the moon samples than in earth rocks they found to capture and hold onto so much light hydrogen theia must have been massive they proposed in a study in geochemistry it must also have been quite dry as any water which is naturally enriched in heavy hydrogen during its formation in interstellar space would have raised the overall deuterium levels such a dry large protoplanet would have separated into layers with an iron depleted core and an iron rich mantle desch says some to denser than present day earth even before yuan learned of desch s density estimates he was modeling theia s fate his model suggests that after the collision theia s core would have quickly merged with earth s he also probed the fate of theia s mantle varying theia s size and density to see what conditions would have allowed the material to persist rather than mixing in and sink to the mantle s base the simulations consistently showed that mantle rocks to denser than earth s would survive and end up as piles near the core the result lined up perfectly with desch s deuterium evidence it s this sweet spot for the density desch says a massive theia would also explain the scale of the llsvps which together contain six times more mass than the moon if they are extraterrestrial yuan says only an impactor as large as theia could have delivered them there are many caveats however including the fuzzy evidence for the llsvps themselves their pilelike structure could simply be an illusion created by models of the interior that rely on low frequency seismic waves which blur small differences barbara romanowicz a seismologist at uc berkeley and anne davaille a geophysicist at paris saclay university suggested in a study in tectonics last year rather than reaching up kilometers the piles may rise only a few hundred kilometers before breaking off into branched plumes there may be holes in them romanowicz says they may be a bundle of tubes smaller or less monolithic llsvps would also be consistent with a forthcoming analysis that finds the llsvps are densest at the bottom says harriet lau a geophysicist at uc berkeley the analysis relies on two ways of imaging the deep earth using gps stations to measure the way the moon s tidal pull stretches earth and seismometers to sense how earth s natural vibrations pass through the deep mantle perhaps the real story behind the density is the distribution depth she says less massive llsvps could complicate the idea that theia was nearly the size of a proto earth says jennifer jenkins a seismologist at durham university yuan s picture she adds is not inconsistent with what we know but i m not entirely convinced desch says the team could test its idea by looking for geochemical similarities between the island lavas and rocks from the moon s mantle none of the apollo samples capture the unaltered mantle which is one reason scientists want samples from the moon s largest impact crater on its south pole where such rocks may be exhumed nasa and china are both planning robotic missions to the south pole this decade and it is a leading candidate site for nasa s return of astronauts to the moon if theia s remnants do lie deep in earth s mantle they may not be alone seismologists are increasingly seeing small ultradense pockets of material in the deep mantle only a few hundred kilometers across often near the edges of the llsvps maybe they are the sunken remnants of iron rich cores from other miniature planets that hit early earth jenkins says theia in fact might be just one grave in a planetary cemetery\"\n        ],\n        \"semantic_type\": \"\",\n        \"description\": \"\"\n      }\n    },\n    {\n      \"column\": \"word_frequencies\",\n      \"properties\": {\n        \"dtype\": \"object\",\n        \"semantic_type\": \"\",\n        \"description\": \"\"\n      }\n    },\n    {\n      \"column\": \"total_words\",\n      \"properties\": {\n        \"dtype\": \"number\",\n        \"std\": 694,\n        \"min\": 372,\n        \"max\": 3477,\n        \"num_unique_values\": 26,\n        \"samples\": [\n          1160\n        ],\n        \"semantic_type\": \"\",\n        \"description\": \"\"\n      }\n    }\n  ]\n}"
            }
          },
          "metadata": {},
          "execution_count": 44
        }
      ]
    },
    {
      "cell_type": "markdown",
      "metadata": {
        "id": "coG8mczvpOzR"
      },
      "source": [
        "**TASK 07**:\n",
        ">Write a line of code in the cell below that will display the total number of words in the <u>last</u> document in the `df_english` dataframe. *Hint*: Read about the Pandas `tail()` function in [this article](https://pandas.pydata.org/pandas-docs/stable/reference/api/pandas.DataFrame.tail.html). Alternatively, you can use the Pandas [`iloc` property](https://www.w3schools.com/python/pandas/ref_df_iloc.asp) with [negative indexing](https://knowledge2life.com/python/negativeindexing.html) to answer this question.\n",
        "\n",
        "**QUESTION 07**:\n",
        "> How many total words appear in the last document in the `df_english` dataframe (i.e., the document with `document_id = 36`)?"
      ]
    },
    {
      "cell_type": "code",
      "metadata": {
        "id": "GahfQzZ3pnY5",
        "colab": {
          "base_uri": "https://localhost:8080/",
          "height": 238
        },
        "outputId": "899dfcc4-81ce-4111-b631-d782e08b28f2"
      },
      "source": [
        "#display the total number of words that appear in the last document in\n",
        "#the 'df_english' dataframe\n",
        "\n",
        "df_english.tail()\n",
        "\n",
        "##Answer: 2788\n"
      ],
      "execution_count": 45,
      "outputs": [
        {
          "output_type": "execute_result",
          "data": {
            "text/plain": [
              "            language     topic  \\\n",
              "document_id                      \n",
              "32           English   Unknown   \n",
              "33           English   Science   \n",
              "34           English  Business   \n",
              "35           English  Business   \n",
              "36           English   Science   \n",
              "\n",
              "                                                      raw_text  \\\n",
              "document_id                                                      \n",
              "32           There have been few moments of pride in San Ma...   \n",
              "33           A 22-year-old woman “witnessed a tragedy of a ...   \n",
              "34           Chris Williamson, a Rotherham steel worker, is...   \n",
              "35           Amazon.com’s social media team bared its teeth...   \n",
              "36           This was the moment of truth. We’d spent count...   \n",
              "\n",
              "                                                    clean_text  \\\n",
              "document_id                                                      \n",
              "32           there have been few moments of pride in san ma...   \n",
              "33           a year old woman witnessed a tragedy of a woma...   \n",
              "34           chris williamson a rotherham steel worker is c...   \n",
              "35           amazon com s social media team bared its teeth...   \n",
              "36           this was the moment of truth we d spent countl...   \n",
              "\n",
              "                                              word_frequencies  total_words  \n",
              "document_id                                                                  \n",
              "32           [45, 0, 0, 0, 0, 0, 0, 0, 1, 0, 0, 0, 0, 0, 0,...         1216  \n",
              "33           [18, 0, 0, 0, 0, 0, 0, 1, 0, 0, 1, 0, 0, 0, 0,...          778  \n",
              "34           [38, 0, 0, 0, 0, 0, 1, 2, 0, 0, 0, 0, 0, 0, 0,...         1233  \n",
              "35           [5, 0, 0, 0, 0, 0, 0, 0, 0, 0, 0, 0, 0, 0, 0, ...          385  \n",
              "36           [52, 0, 0, 0, 0, 0, 2, 10, 0, 0, 0, 0, 0, 0, 0...         2788  "
            ],
            "text/html": [
              "\n",
              "  <div id=\"df-1ca6b0ed-e93a-478e-aca6-fb36d5749579\" class=\"colab-df-container\">\n",
              "    <div>\n",
              "<style scoped>\n",
              "    .dataframe tbody tr th:only-of-type {\n",
              "        vertical-align: middle;\n",
              "    }\n",
              "\n",
              "    .dataframe tbody tr th {\n",
              "        vertical-align: top;\n",
              "    }\n",
              "\n",
              "    .dataframe thead th {\n",
              "        text-align: right;\n",
              "    }\n",
              "</style>\n",
              "<table border=\"1\" class=\"dataframe\">\n",
              "  <thead>\n",
              "    <tr style=\"text-align: right;\">\n",
              "      <th></th>\n",
              "      <th>language</th>\n",
              "      <th>topic</th>\n",
              "      <th>raw_text</th>\n",
              "      <th>clean_text</th>\n",
              "      <th>word_frequencies</th>\n",
              "      <th>total_words</th>\n",
              "    </tr>\n",
              "    <tr>\n",
              "      <th>document_id</th>\n",
              "      <th></th>\n",
              "      <th></th>\n",
              "      <th></th>\n",
              "      <th></th>\n",
              "      <th></th>\n",
              "      <th></th>\n",
              "    </tr>\n",
              "  </thead>\n",
              "  <tbody>\n",
              "    <tr>\n",
              "      <th>32</th>\n",
              "      <td>English</td>\n",
              "      <td>Unknown</td>\n",
              "      <td>There have been few moments of pride in San Ma...</td>\n",
              "      <td>there have been few moments of pride in san ma...</td>\n",
              "      <td>[45, 0, 0, 0, 0, 0, 0, 0, 1, 0, 0, 0, 0, 0, 0,...</td>\n",
              "      <td>1216</td>\n",
              "    </tr>\n",
              "    <tr>\n",
              "      <th>33</th>\n",
              "      <td>English</td>\n",
              "      <td>Science</td>\n",
              "      <td>A 22-year-old woman “witnessed a tragedy of a ...</td>\n",
              "      <td>a year old woman witnessed a tragedy of a woma...</td>\n",
              "      <td>[18, 0, 0, 0, 0, 0, 0, 1, 0, 0, 1, 0, 0, 0, 0,...</td>\n",
              "      <td>778</td>\n",
              "    </tr>\n",
              "    <tr>\n",
              "      <th>34</th>\n",
              "      <td>English</td>\n",
              "      <td>Business</td>\n",
              "      <td>Chris Williamson, a Rotherham steel worker, is...</td>\n",
              "      <td>chris williamson a rotherham steel worker is c...</td>\n",
              "      <td>[38, 0, 0, 0, 0, 0, 1, 2, 0, 0, 0, 0, 0, 0, 0,...</td>\n",
              "      <td>1233</td>\n",
              "    </tr>\n",
              "    <tr>\n",
              "      <th>35</th>\n",
              "      <td>English</td>\n",
              "      <td>Business</td>\n",
              "      <td>Amazon.com’s social media team bared its teeth...</td>\n",
              "      <td>amazon com s social media team bared its teeth...</td>\n",
              "      <td>[5, 0, 0, 0, 0, 0, 0, 0, 0, 0, 0, 0, 0, 0, 0, ...</td>\n",
              "      <td>385</td>\n",
              "    </tr>\n",
              "    <tr>\n",
              "      <th>36</th>\n",
              "      <td>English</td>\n",
              "      <td>Science</td>\n",
              "      <td>This was the moment of truth. We’d spent count...</td>\n",
              "      <td>this was the moment of truth we d spent countl...</td>\n",
              "      <td>[52, 0, 0, 0, 0, 0, 2, 10, 0, 0, 0, 0, 0, 0, 0...</td>\n",
              "      <td>2788</td>\n",
              "    </tr>\n",
              "  </tbody>\n",
              "</table>\n",
              "</div>\n",
              "    <div class=\"colab-df-buttons\">\n",
              "\n",
              "  <div class=\"colab-df-container\">\n",
              "    <button class=\"colab-df-convert\" onclick=\"convertToInteractive('df-1ca6b0ed-e93a-478e-aca6-fb36d5749579')\"\n",
              "            title=\"Convert this dataframe to an interactive table.\"\n",
              "            style=\"display:none;\">\n",
              "\n",
              "  <svg xmlns=\"http://www.w3.org/2000/svg\" height=\"24px\" viewBox=\"0 -960 960 960\">\n",
              "    <path d=\"M120-120v-720h720v720H120Zm60-500h600v-160H180v160Zm220 220h160v-160H400v160Zm0 220h160v-160H400v160ZM180-400h160v-160H180v160Zm440 0h160v-160H620v160ZM180-180h160v-160H180v160Zm440 0h160v-160H620v160Z\"/>\n",
              "  </svg>\n",
              "    </button>\n",
              "\n",
              "  <style>\n",
              "    .colab-df-container {\n",
              "      display:flex;\n",
              "      gap: 12px;\n",
              "    }\n",
              "\n",
              "    .colab-df-convert {\n",
              "      background-color: #E8F0FE;\n",
              "      border: none;\n",
              "      border-radius: 50%;\n",
              "      cursor: pointer;\n",
              "      display: none;\n",
              "      fill: #1967D2;\n",
              "      height: 32px;\n",
              "      padding: 0 0 0 0;\n",
              "      width: 32px;\n",
              "    }\n",
              "\n",
              "    .colab-df-convert:hover {\n",
              "      background-color: #E2EBFA;\n",
              "      box-shadow: 0px 1px 2px rgba(60, 64, 67, 0.3), 0px 1px 3px 1px rgba(60, 64, 67, 0.15);\n",
              "      fill: #174EA6;\n",
              "    }\n",
              "\n",
              "    .colab-df-buttons div {\n",
              "      margin-bottom: 4px;\n",
              "    }\n",
              "\n",
              "    [theme=dark] .colab-df-convert {\n",
              "      background-color: #3B4455;\n",
              "      fill: #D2E3FC;\n",
              "    }\n",
              "\n",
              "    [theme=dark] .colab-df-convert:hover {\n",
              "      background-color: #434B5C;\n",
              "      box-shadow: 0px 1px 3px 1px rgba(0, 0, 0, 0.15);\n",
              "      filter: drop-shadow(0px 1px 2px rgba(0, 0, 0, 0.3));\n",
              "      fill: #FFFFFF;\n",
              "    }\n",
              "  </style>\n",
              "\n",
              "    <script>\n",
              "      const buttonEl =\n",
              "        document.querySelector('#df-1ca6b0ed-e93a-478e-aca6-fb36d5749579 button.colab-df-convert');\n",
              "      buttonEl.style.display =\n",
              "        google.colab.kernel.accessAllowed ? 'block' : 'none';\n",
              "\n",
              "      async function convertToInteractive(key) {\n",
              "        const element = document.querySelector('#df-1ca6b0ed-e93a-478e-aca6-fb36d5749579');\n",
              "        const dataTable =\n",
              "          await google.colab.kernel.invokeFunction('convertToInteractive',\n",
              "                                                    [key], {});\n",
              "        if (!dataTable) return;\n",
              "\n",
              "        const docLinkHtml = 'Like what you see? Visit the ' +\n",
              "          '<a target=\"_blank\" href=https://colab.research.google.com/notebooks/data_table.ipynb>data table notebook</a>'\n",
              "          + ' to learn more about interactive tables.';\n",
              "        element.innerHTML = '';\n",
              "        dataTable['output_type'] = 'display_data';\n",
              "        await google.colab.output.renderOutput(dataTable, element);\n",
              "        const docLink = document.createElement('div');\n",
              "        docLink.innerHTML = docLinkHtml;\n",
              "        element.appendChild(docLink);\n",
              "      }\n",
              "    </script>\n",
              "  </div>\n",
              "\n",
              "\n",
              "<div id=\"df-41cef499-c849-47f0-9f2b-a24685864b91\">\n",
              "  <button class=\"colab-df-quickchart\" onclick=\"quickchart('df-41cef499-c849-47f0-9f2b-a24685864b91')\"\n",
              "            title=\"Suggest charts\"\n",
              "            style=\"display:none;\">\n",
              "\n",
              "<svg xmlns=\"http://www.w3.org/2000/svg\" height=\"24px\"viewBox=\"0 0 24 24\"\n",
              "     width=\"24px\">\n",
              "    <g>\n",
              "        <path d=\"M19 3H5c-1.1 0-2 .9-2 2v14c0 1.1.9 2 2 2h14c1.1 0 2-.9 2-2V5c0-1.1-.9-2-2-2zM9 17H7v-7h2v7zm4 0h-2V7h2v10zm4 0h-2v-4h2v4z\"/>\n",
              "    </g>\n",
              "</svg>\n",
              "  </button>\n",
              "\n",
              "<style>\n",
              "  .colab-df-quickchart {\n",
              "      --bg-color: #E8F0FE;\n",
              "      --fill-color: #1967D2;\n",
              "      --hover-bg-color: #E2EBFA;\n",
              "      --hover-fill-color: #174EA6;\n",
              "      --disabled-fill-color: #AAA;\n",
              "      --disabled-bg-color: #DDD;\n",
              "  }\n",
              "\n",
              "  [theme=dark] .colab-df-quickchart {\n",
              "      --bg-color: #3B4455;\n",
              "      --fill-color: #D2E3FC;\n",
              "      --hover-bg-color: #434B5C;\n",
              "      --hover-fill-color: #FFFFFF;\n",
              "      --disabled-bg-color: #3B4455;\n",
              "      --disabled-fill-color: #666;\n",
              "  }\n",
              "\n",
              "  .colab-df-quickchart {\n",
              "    background-color: var(--bg-color);\n",
              "    border: none;\n",
              "    border-radius: 50%;\n",
              "    cursor: pointer;\n",
              "    display: none;\n",
              "    fill: var(--fill-color);\n",
              "    height: 32px;\n",
              "    padding: 0;\n",
              "    width: 32px;\n",
              "  }\n",
              "\n",
              "  .colab-df-quickchart:hover {\n",
              "    background-color: var(--hover-bg-color);\n",
              "    box-shadow: 0 1px 2px rgba(60, 64, 67, 0.3), 0 1px 3px 1px rgba(60, 64, 67, 0.15);\n",
              "    fill: var(--button-hover-fill-color);\n",
              "  }\n",
              "\n",
              "  .colab-df-quickchart-complete:disabled,\n",
              "  .colab-df-quickchart-complete:disabled:hover {\n",
              "    background-color: var(--disabled-bg-color);\n",
              "    fill: var(--disabled-fill-color);\n",
              "    box-shadow: none;\n",
              "  }\n",
              "\n",
              "  .colab-df-spinner {\n",
              "    border: 2px solid var(--fill-color);\n",
              "    border-color: transparent;\n",
              "    border-bottom-color: var(--fill-color);\n",
              "    animation:\n",
              "      spin 1s steps(1) infinite;\n",
              "  }\n",
              "\n",
              "  @keyframes spin {\n",
              "    0% {\n",
              "      border-color: transparent;\n",
              "      border-bottom-color: var(--fill-color);\n",
              "      border-left-color: var(--fill-color);\n",
              "    }\n",
              "    20% {\n",
              "      border-color: transparent;\n",
              "      border-left-color: var(--fill-color);\n",
              "      border-top-color: var(--fill-color);\n",
              "    }\n",
              "    30% {\n",
              "      border-color: transparent;\n",
              "      border-left-color: var(--fill-color);\n",
              "      border-top-color: var(--fill-color);\n",
              "      border-right-color: var(--fill-color);\n",
              "    }\n",
              "    40% {\n",
              "      border-color: transparent;\n",
              "      border-right-color: var(--fill-color);\n",
              "      border-top-color: var(--fill-color);\n",
              "    }\n",
              "    60% {\n",
              "      border-color: transparent;\n",
              "      border-right-color: var(--fill-color);\n",
              "    }\n",
              "    80% {\n",
              "      border-color: transparent;\n",
              "      border-right-color: var(--fill-color);\n",
              "      border-bottom-color: var(--fill-color);\n",
              "    }\n",
              "    90% {\n",
              "      border-color: transparent;\n",
              "      border-bottom-color: var(--fill-color);\n",
              "    }\n",
              "  }\n",
              "</style>\n",
              "\n",
              "  <script>\n",
              "    async function quickchart(key) {\n",
              "      const quickchartButtonEl =\n",
              "        document.querySelector('#' + key + ' button');\n",
              "      quickchartButtonEl.disabled = true;  // To prevent multiple clicks.\n",
              "      quickchartButtonEl.classList.add('colab-df-spinner');\n",
              "      try {\n",
              "        const charts = await google.colab.kernel.invokeFunction(\n",
              "            'suggestCharts', [key], {});\n",
              "      } catch (error) {\n",
              "        console.error('Error during call to suggestCharts:', error);\n",
              "      }\n",
              "      quickchartButtonEl.classList.remove('colab-df-spinner');\n",
              "      quickchartButtonEl.classList.add('colab-df-quickchart-complete');\n",
              "    }\n",
              "    (() => {\n",
              "      let quickchartButtonEl =\n",
              "        document.querySelector('#df-41cef499-c849-47f0-9f2b-a24685864b91 button');\n",
              "      quickchartButtonEl.style.display =\n",
              "        google.colab.kernel.accessAllowed ? 'block' : 'none';\n",
              "    })();\n",
              "  </script>\n",
              "</div>\n",
              "\n",
              "    </div>\n",
              "  </div>\n"
            ],
            "application/vnd.google.colaboratory.intrinsic+json": {
              "type": "dataframe",
              "summary": "{\n  \"name\": \"df_english\",\n  \"rows\": 5,\n  \"fields\": [\n    {\n      \"column\": \"document_id\",\n      \"properties\": {\n        \"dtype\": \"number\",\n        \"std\": 1,\n        \"min\": 32,\n        \"max\": 36,\n        \"num_unique_values\": 5,\n        \"samples\": [\n          33,\n          36,\n          34\n        ],\n        \"semantic_type\": \"\",\n        \"description\": \"\"\n      }\n    },\n    {\n      \"column\": \"language\",\n      \"properties\": {\n        \"dtype\": \"category\",\n        \"num_unique_values\": 1,\n        \"samples\": [\n          \"English\"\n        ],\n        \"semantic_type\": \"\",\n        \"description\": \"\"\n      }\n    },\n    {\n      \"column\": \"topic\",\n      \"properties\": {\n        \"dtype\": \"string\",\n        \"num_unique_values\": 3,\n        \"samples\": [\n          \"Unknown\"\n        ],\n        \"semantic_type\": \"\",\n        \"description\": \"\"\n      }\n    },\n    {\n      \"column\": \"raw_text\",\n      \"properties\": {\n        \"dtype\": \"string\",\n        \"num_unique_values\": 5,\n        \"samples\": [\n          \"A 22-year-old woman \\u201cwitnessed a tragedy of a woman\\u2019s throat being cut and the victim falling dead at her feet,\\u201d according to a physician at the London Temperance Hospital. The next day, the right side of her pubic hair turned white, while the left half remained black. This historic case study makes for a terribly weird (and rapid) example of an otherwise common occurrence: gray hairs seem to accumulate when we\\u2019re stressed. And it\\u2019s not just random violence that sends people\\u2019s pigment running\\u2014college exams, children, and work pressure appear to change our coloring, too. But for millennia, scholars have been relying mostly on anecdotal proof and intuition to rationalize this phenomenon. In the absence of clear evidence, many scientists did not believe stress could turn hair snow white, instead arguing the change must be triggered by chemicals or strange immune system behavior. Rare cases where doctors observed the rapid whitening\\u2014like in the 1902 BMJ study\\u2014were a source of endless consternation. A recent paper, published Wednesday in the journal Nature, may put some of these arguments to rest. In the study, stem cell and regenerative biologists from the United States and Brazil reported that stress can indeed cause hair to lose its pigment\\u2014and they identified a cellular pathway by which it can occur. To study this vexing relationship, the researchers created an elaborate animal model, which basically involved trying to turn black-haired rats white with lab-made stressors. They tried three different tactics: restraint stress, chronic unpredictable stress, and nociception-induced stress, which is caused by physical pain (or the threat of it). Each successfully turned the rat\\u2019s hair white. Perhaps unsurprisingly, nociception-induced stress, which the scientists stimulated by injecting the rats with resiniferatoxin, an analogue of the chili pepper compound capsaicin, worked best and fastest. Having identified the optimal way to make a rat panic, the team began searching for corresponding changes in the physiological pathways that give rise to coat color. They were particularly interested in the behaviors of two types of cells: differentiated melanocytes, which produce pigment in the hair and skin, and melanocyte stem cells, the raw material from which melanocytes develop. To observe each one independently, the researchers injected their tiny test subjects with the hot pepper-like substance when the rats\\u2019 fur was actively growing. At that point in the hair growth cycle, differentiated melanocytes naturally cluster in the hair bulb, while melanocyte stem cells gather together in a separate space called the bulge. For five days after the injection, the rats\\u2019 coats remained black. The differentiated melanocytes in the hair bulb continued to pump out color. But in many follicles, the overtaxed melanocyte stem cells were \\u201ccompletely lost,\\u201d the researchers report. Pushed by a flood of noradrenaline, a neurotransmitter that surges in response to stress, the existing stem cells proliferated so quickly that they completely disappeared from their niche. The next time the rats\\u2019 coat grew, there were no melanocyte stem cells in these damaged follicles, so white hairs sprouted. \\u201cIn just a few days, the reservoir of pigment-regenerating stem cells [was] depleted,\\u201d Ya-Chieh Hsu, a professor of stem cell and regenerative biology at Harvard and the study\\u2019s senior author, told PopSci in an email. The loss was permanent. \\u201cAnd once they\\u2019re gone, pigment cannot be generated anymore.\\u201d \\u201cThis is an exquisitely elegant paper unrevealing an important mechanism of hair graying,\\u201d Alexey Terskikh, who researches development, aging, and regeneration at the Sanford Burnham Prebys Medical Discovery Institute, wrote via email. But there are many other ways hair can lose its color. A 2018 paper suggested an overactive immune response can also destroy melanocytes and melanocyte stem cells in rats, bleaching their coat. Certain skin cancer drugs turn some patients\\u2019 hair transparent. Doctors think it\\u2019s a sign their bodies are responding positively to the drug. Genetic pathways, environmental pathways, and mutations can also play a role, according to Terskikh. Hair still holds many secrets. We don\\u2019t know why hair loss plays out differently on someone\\u2019s scalp than on their face or, for that matter, their back. And, unfortunately for the anonymous Englishwoman with world-famous pubes, doctors still don\\u2019t agree about canities subita, the contested phenomenon where hair blanches seemingly overnight. But, in many cases, scientists are narrowing in on answers. In recent years, there\\u2019s been a surge in research and development for anti-balding solutions\\u2014and many of them show promise. Terskikh, for his part, is working on regenerating hair from scratch using things like pluripotent stem cells. If it works, we\\u2019ll have an unlimited supply of hair\\u2014presumably in every shade.\"\n        ],\n        \"semantic_type\": \"\",\n        \"description\": \"\"\n      }\n    },\n    {\n      \"column\": \"clean_text\",\n      \"properties\": {\n        \"dtype\": \"string\",\n        \"num_unique_values\": 5,\n        \"samples\": [\n          \"a year old woman witnessed a tragedy of a woman s throat being cut and the victim falling dead at her feet according to a physician at the london temperance hospital the next day the right side of her pubic hair turned white while the left half remained black this historic case study makes for a terribly weird and rapid example of an otherwise common occurrence gray hairs seem to accumulate when we re stressed and it s not just random violence that sends people s pigment running college exams children and work pressure appear to change our coloring too but for millennia scholars have been relying mostly on anecdotal proof and intuition to rationalize this phenomenon in the absence of clear evidence many scientists did not believe stress could turn hair snow white instead arguing the change must be triggered by chemicals or strange immune system behavior rare cases where doctors observed the rapid whitening like in the bmj study were a source of endless consternation a recent paper published wednesday in the journal nature may put some of these arguments to rest in the study stem cell and regenerative biologists from the united states and brazil reported that stress can indeed cause hair to lose its pigment and they identified a cellular pathway by which it can occur to study this vexing relationship the researchers created an elaborate animal model which basically involved trying to turn black haired rats white with lab made stressors they tried three different tactics restraint stress chronic unpredictable stress and nociception induced stress which is caused by physical pain or the threat of it each successfully turned the rat s hair white perhaps unsurprisingly nociception induced stress which the scientists stimulated by injecting the rats with resiniferatoxin an analogue of the chili pepper compound capsaicin worked best and fastest having identified the optimal way to make a rat panic the team began searching for corresponding changes in the physiological pathways that give rise to coat color they were particularly interested in the behaviors of two types of cells differentiated melanocytes which produce pigment in the hair and skin and melanocyte stem cells the raw material from which melanocytes develop to observe each one independently the researchers injected their tiny test subjects with the hot pepper like substance when the rats fur was actively growing at that point in the hair growth cycle differentiated melanocytes naturally cluster in the hair bulb while melanocyte stem cells gather together in a separate space called the bulge for five days after the injection the rats coats remained black the differentiated melanocytes in the hair bulb continued to pump out color but in many follicles the overtaxed melanocyte stem cells were completely lost the researchers report pushed by a flood of noradrenaline a neurotransmitter that surges in response to stress the existing stem cells proliferated so quickly that they completely disappeared from their niche the next time the rats coat grew there were no melanocyte stem cells in these damaged follicles so white hairs sprouted in just a few days the reservoir of pigment regenerating stem cells was depleted ya chieh hsu a professor of stem cell and regenerative biology at harvard and the study s senior author told popsci in an email the loss was permanent and once they re gone pigment cannot be generated anymore this is an exquisitely elegant paper unrevealing an important mechanism of hair graying alexey terskikh who researches development aging and regeneration at the sanford burnham prebys medical discovery institute wrote via email but there are many other ways hair can lose its color a paper suggested an overactive immune response can also destroy melanocytes and melanocyte stem cells in rats bleaching their coat certain skin cancer drugs turn some patients hair transparent doctors think it s a sign their bodies are responding positively to the drug genetic pathways environmental pathways and mutations can also play a role according to terskikh hair still holds many secrets we don t know why hair loss plays out differently on someone s scalp than on their face or for that matter their back and unfortunately for the anonymous englishwoman with world famous pubes doctors still don t agree about canities subita the contested phenomenon where hair blanches seemingly overnight but in many cases scientists are narrowing in on answers in recent years there s been a surge in research and development for anti balding solutions and many of them show promise terskikh for his part is working on regenerating hair from scratch using things like pluripotent stem cells if it works we ll have an unlimited supply of hair presumably in every shade\"\n        ],\n        \"semantic_type\": \"\",\n        \"description\": \"\"\n      }\n    },\n    {\n      \"column\": \"word_frequencies\",\n      \"properties\": {\n        \"dtype\": \"object\",\n        \"semantic_type\": \"\",\n        \"description\": \"\"\n      }\n    },\n    {\n      \"column\": \"total_words\",\n      \"properties\": {\n        \"dtype\": \"number\",\n        \"std\": 912,\n        \"min\": 385,\n        \"max\": 2788,\n        \"num_unique_values\": 5,\n        \"samples\": [\n          778\n        ],\n        \"semantic_type\": \"\",\n        \"description\": \"\"\n      }\n    }\n  ]\n}"
            }
          },
          "metadata": {},
          "execution_count": 45
        }
      ]
    },
    {
      "cell_type": "markdown",
      "metadata": {
        "id": "R3QYby982-wc"
      },
      "source": [
        "###Compute Word Probability Distributions for Each Document\n",
        "Next, we'll compute the word probability distribution for each document. This is also often referred to as a document's ***unigram probability distribution***, since a unigram (or 1-gram) is a sequence consisting of just one word. By contrast, a bigram (or 2-gram) is a sequence of two words (such as *hello there*), while a trigram (or 3-gram) is a sequence of three words (such as *I like nachos*).\n",
        "\n",
        "We could have easily computed each document's unigram probability distribution when were calculating word frequencies and total word counts earlier in this lab assignment, but probability distributions are very important in text mining, so we will consider their calculation as a separate topic here.\n",
        "\n",
        "Each document's probability distribution will be a *feature vector* that we will use to represent the textual content of the document from which it was derived. Each element in a feature vector will correspond to one of the words in the vocabulary, and as such, the feature vectors for all of the documents in the corpus will all contain exactly the same number of elements -- one element for each word in the vocabulary. The value of any element in a feature vector will be the probability of any randomly chosen word in the document being the element's corresponding vocabulary word. Naturally, if a particular vocabulary word doesn't appear in a particular document, then its corresponding probability value in the document's feature vector will be zero. These concepts are illustrated in the figure below:\n",
        "\n",
        "![word frequencies and probabilities.png](data:image/png;base64,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)\n",
        "\n",
        "Run the code cell below to compute the word (unigram) probability distribution for each document. We'll use the `numpy` (numeric python) library for this purpose because it allows us to quickly and easily perform mathematical operations on vectors and matrices. If you review the very first code cell in this notebook, you'll see that we already imported `numpy` and that we assigned it the alias `np`. This allows us to refer to the numpy library as `np` in our code below. In this case, we'll be using `numpy` to quickly divide the number of times each vocabulary word appears in a document by the total number of words in that document, thus yielding a probability (or percentage) for each word."
      ]
    },
    {
      "cell_type": "code",
      "metadata": {
        "id": "EqcB27Tf33Ke"
      },
      "source": [
        "#define a collection to hold the vocabulary word probabilities for each document\n",
        "word_probabilities = []\n",
        "\n",
        "#compute the vocabulary word probabilities for each document\n",
        "for current_document in df_english.itertuples():\n",
        "  word_probabilities.append(np.array(current_document.word_frequencies) / current_document.total_words)\n",
        "\n",
        "#add the vocabulary word probabilities for each document to the dataframe as a new column\n",
        "df_english['word_probabilities'] = word_probabilities"
      ],
      "execution_count": 46,
      "outputs": []
    },
    {
      "cell_type": "markdown",
      "metadata": {
        "id": "THzBq5nVAqrl"
      },
      "source": [
        "###Probability of a Word Within a Document\n",
        "To find the probability of any specific word within a document, we first need to know the word's index location within the vocabulary. Since our vocabulary for this lab assignment is stored as a simple list, we can easily locate the index for a particular word by using the list's `index()` function.\n",
        "\n",
        "Run the code cell below to find the index for the word *'the'* within the vocabulary."
      ]
    },
    {
      "cell_type": "code",
      "metadata": {
        "id": "qxywL1UbAp4F",
        "colab": {
          "base_uri": "https://localhost:8080/"
        },
        "outputId": "15993012-24a8-4504-ad62-7af2e734c587"
      },
      "source": [
        "#display the index location of the word 'the' within the vocabulary\n",
        "word_index = vocabulary.index('the')\n",
        "print('The word \"the\" is located at index location', word_index, 'in the vocabulary.')"
      ],
      "execution_count": 47,
      "outputs": [
        {
          "output_type": "stream",
          "name": "stdout",
          "text": [
            "The word \"the\" is located at index location 4551 in the vocabulary.\n"
          ]
        }
      ]
    },
    {
      "cell_type": "markdown",
      "metadata": {
        "id": "wKopKY8FErKT"
      },
      "source": [
        "Once we know the index location for a particular word within the vocabulary, we can easily find the probability value for that word within any of the documents.\n",
        "\n",
        "Run the code cell below to find the probability that any randomly chosen word in the first document in the `df_english` dataframe would be the word *'the'*. Note that you can use the `iloc` property to fetch a row from a dataframe at a specific index location."
      ]
    },
    {
      "cell_type": "code",
      "metadata": {
        "id": "Go7cmzfzEtD_",
        "colab": {
          "base_uri": "https://localhost:8080/"
        },
        "outputId": "9f61c8a1-e7e7-4803-d5b6-592588d63dfc"
      },
      "source": [
        "#display the probability that any randomly chosen word in the first document would be the word 'the'\n",
        "df_english.iloc[0].word_probabilities[word_index]"
      ],
      "execution_count": 48,
      "outputs": [
        {
          "output_type": "execute_result",
          "data": {
            "text/plain": [
              "0.059388646288209605"
            ]
          },
          "metadata": {},
          "execution_count": 48
        }
      ]
    },
    {
      "cell_type": "markdown",
      "metadata": {
        "id": "3V_JdkvnGjAb"
      },
      "source": [
        "###Average Probability of a Word\n",
        "To find the average probability of a particular word within a collection of documents, we can simply take the average of the individual probabilities for that word within the collection.\n",
        "\n",
        "Run the code cell below to find the average probability of the word *'species'* among all of the documents in the corpus."
      ]
    },
    {
      "cell_type": "code",
      "metadata": {
        "id": "cmPucxWiJUgF",
        "colab": {
          "base_uri": "https://localhost:8080/"
        },
        "outputId": "6f5b1bd2-9de6-4ebf-c620-6a3141495bee"
      },
      "source": [
        "#define a function that will return the average probability for the target word.\n",
        "#If a topic is specified, results will be limited to documents with that topic.\n",
        "def average_word_probability(target_word, topic=None):\n",
        "  word_index = vocabulary.index(target_word) #get the index of the target word within the vocabulary\n",
        "  probabilities = [] #a collection to store the probability of the target word in each document\n",
        "  for current_document in df_english.itertuples():\n",
        "    #if no topic was specified or if the topic of the current document matches the specified topic\n",
        "    if topic == None or current_document.topic == topic:\n",
        "      #store the probability of the target word for this document\n",
        "      probabilities.append(current_document.word_probabilities[word_index])\n",
        "  #return the average probability for the word across all documents in the corpus\n",
        "  return np.mean(probabilities)\n",
        "\n",
        "\n",
        "#display the average probability of the word 'species' among all documents in the corpus\n",
        "target_word = 'species'\n",
        "average_probability = average_word_probability(target_word)\n",
        "print('The average probabilty of the word \"{}\" is: {}'.format(target_word, average_probability))"
      ],
      "execution_count": 49,
      "outputs": [
        {
          "output_type": "stream",
          "name": "stdout",
          "text": [
            "The average probabilty of the word \"species\" is: 0.0003779277323721303\n"
          ]
        }
      ]
    },
    {
      "cell_type": "markdown",
      "metadata": {
        "id": "9YOUTm5nK0in"
      },
      "source": [
        "The result above gives us an idea of the baseline probability of the word `species` within the corpus. Specifically, out of every 100,000 words, we would expect the word `species` to appear about 38 times. Equivalently, if we were to choose a word at random from our corpus, the probability of choosing the word `species` would be approximately 0.038%.\n",
        "\n",
        "Whether we realize it or not, our brains automatically compute and store a baseline expectation such as the one above for every word in our vocabulary. Comparing these baseline word frequency expectations to what we're currently hearing or reading is one of the ways that we identify the topic of a conversation or the topic of a passage of text. For example, if we were reading about science, we would probably expect to see the word `species` more frequently than average. Let's test this idea.\n",
        "\n",
        "Run the code cell below to find the average probability of the word `species` among all of the documents in the corpus whose topic is `Science`."
      ]
    },
    {
      "cell_type": "code",
      "metadata": {
        "id": "wkjnxd32OaIH",
        "colab": {
          "base_uri": "https://localhost:8080/"
        },
        "outputId": "d7784275-1304-499a-c328-2db4d46dbc97"
      },
      "source": [
        "#display the average probability of the word 'species' among all 'Science' documents in the corpus\n",
        "average_probability = average_word_probability(target_word, topic='Science')\n",
        "print('The average probabilty of the word \"{}\" within Science documents is: {}'.format(target_word, average_probability))"
      ],
      "execution_count": 50,
      "outputs": [
        {
          "output_type": "stream",
          "name": "stdout",
          "text": [
            "The average probabilty of the word \"species\" within Science documents is: 0.0010248001639680262\n"
          ]
        }
      ]
    },
    {
      "cell_type": "markdown",
      "metadata": {
        "id": "YtLu9DHnPFKu"
      },
      "source": [
        "As you can see, we're much likelier to see the word `species` in `Science` documents than average. In this specific case, out of every 100,000 words in documents whose topic is `Science`, we would expect to see the word `species` about 102 times. Thus, the probability of the word `species` appearing in `Science` documents is about 270% greater than the average frequency with which `species` appears in all of the documents in the corpus.\n",
        "\n",
        "More generally, every topic can be distinguished from every other topic by the differences among their topic-specific word probability distributions. If we're talking about Paris, then we would expect concepts such as the Eiffel Tower, the Louvre, or the Champs-Élysées to be mentioned more frequently than average. Similarly, if we're talking about smartphones, then we would expect concepts such as apps, battery life, or 5G to be mentioned more frequently than average. The point is that humans -- and computers -- can identify the topic of a conversation or a passage of text based on how frequently different words are mentioned.\n",
        "\n",
        "**TASK 08**:\n",
        ">Write some code in the cell below that will display the average probability of the word `market` among:\n",
        "1. All of the documents in the corpus whose topic is `Business`; and\n",
        "2. All of the documents in the corpus whose topic is `Sports`.\n",
        "\n",
        "**QUESTION 08**:\n",
        ">Compared to documents whose topic is `Sports`, how much likelier is the word `market` to appear in documents whose topic is `Business`?\n",
        "<ol type=\"a\">\n",
        "  <li>About 1.1 times likelier</li>\n",
        "  <li>About 3.2 times likelier</li>\n",
        "  <li>About 5.4 times likelier</li>\n",
        "  <li>About 7.7 times likelier</li>\n",
        "</ol>"
      ]
    },
    {
      "cell_type": "code",
      "metadata": {
        "id": "lKqzCTtLnbdu",
        "colab": {
          "base_uri": "https://localhost:8080/"
        },
        "outputId": "726b8d63-fb56-473f-845b-67c904f16f99"
      },
      "source": [
        "#display the average probability of the word 'market' among all 'Business' documents in the corpus\n",
        "target_word1 = 'market'\n",
        "\n",
        "average_probability1 = average_word_probability(target_word1, topic='Business')\n",
        "print('The average probabilty of the word \"{}\" within Business documents is: {}'.format(target_word1, average_probability1))\n",
        "\n",
        "#display the average probability of the word 'market' among all 'Sports' documents in the corpus\n",
        "\n",
        "average_probability2 = average_word_probability(target_word1, topic='Sports')\n",
        "print('The average probabilty of the word \"{}\" within Sports documents is: {}'.format(target_word1, average_probability2))\n",
        "\n",
        "#display the ratio of business to sports probabilties\n",
        "ratio_business_to_sports = average_probability1 / average_probability2\n",
        "print('The ratio of business to sports probabilities for the word \"{}\" is: {}'.format(target_word1, ratio_business_to_sports))"
      ],
      "execution_count": 52,
      "outputs": [
        {
          "output_type": "stream",
          "name": "stdout",
          "text": [
            "The average probabilty of the word \"market\" within Business documents is: 0.002516560423943954\n",
            "The average probabilty of the word \"market\" within Sports documents is: 0.0003289120760693245\n",
            "The ratio of business to sports probabilities for the word \"market\" is: 7.651164572666954\n"
          ]
        }
      ]
    },
    {
      "cell_type": "markdown",
      "source": [
        "###Similarity Between Documents\n",
        "What the experiments above reveal is that the topics discussed in a document can be identified by both humans and computers based on how frequently certain words appear in the document. Extending this idea a bit further, we might reasonably conclude that we could determine how similar the content of two documents is by comparing those documents' word probability distributions. For example, imagine that we had two documents that discussed ancient Egypt and a third document that discussed how to make chocolate ice cream. Intuitively, we would expect words such as *pharaoh*, *pyramid*, *hieroglyph*, etc. to have a much greater probability of appearing in the documents about ancient Egypt than in the document that discusses how to make chocolate ice cream. This suggests that a document's word probability distribution encodes useful information about the content of the document itself.\n",
        "\n",
        "So, given two documents' word probability distributions, how might we measure their degree of similarity? As we'll learn in our class, there are many different ways of quantifying the degree of similarity between two text objects (such as two documents). One viable approach would be to measure the *distance* between the documents' word probability distributions. Intuitively, if the content of one document is very similar to the content of another document, then we might reasonably expect that their word probability distributions would also be very similar. Put differently, the two documents' word probability distributions would be *close* to one another.\n",
        "\n",
        "Let's explore these ideas..."
      ],
      "metadata": {
        "id": "W_Aw-v0a7oy4"
      }
    },
    {
      "cell_type": "markdown",
      "metadata": {
        "id": "KVIzFZK4325S"
      },
      "source": [
        "###Distance Between Vectors\n",
        "One of the easiest ways of determining how similar documents are to each other is to measure the distance between their feature vectors. To do this, we simply need to think of each feature vector as defining a location in a multidimensional geometric space. If our vocabulary only contained three unique words, then this would be a three-dimensional space. Our vocabularly contains thousands of unique words, however, so our geometric space will contain thousands of dimensions (one dimension for each word in the vocabulary). This is not a problem, because the Euclidean distance formula applies to geometric spaces with as many dimensions as we need, even if we humans can only intuitively understand spaces that have one, two, or three dimensions. You can learn more about the Euclidean distance formula in [this article](https://en.wikipedia.org/wiki/Euclidean_distance).\n",
        "\n",
        "The formula for calculating the Euclidean distance between any two points *p* and *q* in an *n*-dimensional space is:\n",
        "\n",
        "![distance.png](data:image/png;base64,iVBORw0KGgoAAAANSUhEUgAAAlMAAAA8CAIAAADNHqgZAAAACXBIWXMAAAsTAAALEwEAmpwYAAAKT2lDQ1BQaG90b3Nob3AgSUNDIHByb2ZpbGUAAHjanVNnVFPpFj333vRCS4iAlEtvUhUIIFJCi4AUkSYqIQkQSoghodkVUcERRUUEG8igiAOOjoCMFVEsDIoK2AfkIaKOg6OIisr74Xuja9a89+bN/rXXPues852zzwfACAyWSDNRNYAMqUIeEeCDx8TG4eQuQIEKJHAAEAizZCFz/SMBAPh+PDwrIsAHvgABeNMLCADATZvAMByH/w/qQplcAYCEAcB0kThLCIAUAEB6jkKmAEBGAYCdmCZTAKAEAGDLY2LjAFAtAGAnf+bTAICd+Jl7AQBblCEVAaCRACATZYhEAGg7AKzPVopFAFgwABRmS8Q5ANgtADBJV2ZIALC3AMDOEAuyAAgMADBRiIUpAAR7AGDIIyN4AISZABRG8lc88SuuEOcqAAB4mbI8uSQ5RYFbCC1xB1dXLh4ozkkXKxQ2YQJhmkAuwnmZGTKBNA/g88wAAKCRFRHgg/P9eM4Ors7ONo62Dl8t6r8G/yJiYuP+5c+rcEAAAOF0ftH+LC+zGoA7BoBt/qIl7gRoXgugdfeLZrIPQLUAoOnaV/Nw+H48PEWhkLnZ2eXk5NhKxEJbYcpXff5nwl/AV/1s+X48/Pf14L7iJIEyXYFHBPjgwsz0TKUcz5IJhGLc5o9H/LcL//wd0yLESWK5WCoU41EScY5EmozzMqUiiUKSKcUl0v9k4t8s+wM+3zUAsGo+AXuRLahdYwP2SycQWHTA4vcAAPK7b8HUKAgDgGiD4c93/+8//UegJQCAZkmScQAAXkQkLlTKsz/HCAAARKCBKrBBG/TBGCzABhzBBdzBC/xgNoRCJMTCQhBCCmSAHHJgKayCQiiGzbAdKmAv1EAdNMBRaIaTcA4uwlW4Dj1wD/phCJ7BKLyBCQRByAgTYSHaiAFiilgjjggXmYX4IcFIBBKLJCDJiBRRIkuRNUgxUopUIFVIHfI9cgI5h1xGupE7yAAygvyGvEcxlIGyUT3UDLVDuag3GoRGogvQZHQxmo8WoJvQcrQaPYw2oefQq2gP2o8+Q8cwwOgYBzPEbDAuxsNCsTgsCZNjy7EirAyrxhqwVqwDu4n1Y8+xdwQSgUXACTYEd0IgYR5BSFhMWE7YSKggHCQ0EdoJNwkDhFHCJyKTqEu0JroR+cQYYjIxh1hILCPWEo8TLxB7iEPENyQSiUMyJ7mQAkmxpFTSEtJG0m5SI+ksqZs0SBojk8naZGuyBzmULCAryIXkneTD5DPkG+Qh8lsKnWJAcaT4U+IoUspqShnlEOU05QZlmDJBVaOaUt2ooVQRNY9aQq2htlKvUYeoEzR1mjnNgxZJS6WtopXTGmgXaPdpr+h0uhHdlR5Ol9BX0svpR+iX6AP0dwwNhhWDx4hnKBmbGAcYZxl3GK+YTKYZ04sZx1QwNzHrmOeZD5lvVVgqtip8FZHKCpVKlSaVGyovVKmqpqreqgtV81XLVI+pXlN9rkZVM1PjqQnUlqtVqp1Q61MbU2epO6iHqmeob1Q/pH5Z/YkGWcNMw09DpFGgsV/jvMYgC2MZs3gsIWsNq4Z1gTXEJrHN2Xx2KruY/R27iz2qqaE5QzNKM1ezUvOUZj8H45hx+Jx0TgnnKKeX836K3hTvKeIpG6Y0TLkxZVxrqpaXllirSKtRq0frvTau7aedpr1Fu1n7gQ5Bx0onXCdHZ4/OBZ3nU9lT3acKpxZNPTr1ri6qa6UbobtEd79up+6Ynr5egJ5Mb6feeb3n+hx9L/1U/W36p/VHDFgGswwkBtsMzhg8xTVxbzwdL8fb8VFDXcNAQ6VhlWGX4YSRudE8o9VGjUYPjGnGXOMk423GbcajJgYmISZLTepN7ppSTbmmKaY7TDtMx83MzaLN1pk1mz0x1zLnm+eb15vft2BaeFostqi2uGVJsuRaplnutrxuhVo5WaVYVVpds0atna0l1rutu6cRp7lOk06rntZnw7Dxtsm2qbcZsOXYBtuutm22fWFnYhdnt8Wuw+6TvZN9un2N/T0HDYfZDqsdWh1+c7RyFDpWOt6azpzuP33F9JbpL2dYzxDP2DPjthPLKcRpnVOb00dnF2e5c4PziIuJS4LLLpc+Lpsbxt3IveRKdPVxXeF60vWdm7Obwu2o26/uNu5p7ofcn8w0nymeWTNz0MPIQ+BR5dE/C5+VMGvfrH5PQ0+BZ7XnIy9jL5FXrdewt6V3qvdh7xc+9j5yn+M+4zw33jLeWV/MN8C3yLfLT8Nvnl+F30N/I/9k/3r/0QCngCUBZwOJgUGBWwL7+Hp8Ib+OPzrbZfay2e1BjKC5QRVBj4KtguXBrSFoyOyQrSH355jOkc5pDoVQfujW0Adh5mGLw34MJ4WHhVeGP45wiFga0TGXNXfR3ENz30T6RJZE3ptnMU85ry1KNSo+qi5qPNo3ujS6P8YuZlnM1VidWElsSxw5LiquNm5svt/87fOH4p3iC+N7F5gvyF1weaHOwvSFpxapLhIsOpZATIhOOJTwQRAqqBaMJfITdyWOCnnCHcJnIi/RNtGI2ENcKh5O8kgqTXqS7JG8NXkkxTOlLOW5hCepkLxMDUzdmzqeFpp2IG0yPTq9MYOSkZBxQqohTZO2Z+pn5mZ2y6xlhbL+xW6Lty8elQfJa7OQrAVZLQq2QqboVFoo1yoHsmdlV2a/zYnKOZarnivN7cyzytuQN5zvn//tEsIS4ZK2pYZLVy0dWOa9rGo5sjxxedsK4xUFK4ZWBqw8uIq2Km3VT6vtV5eufr0mek1rgV7ByoLBtQFr6wtVCuWFfevc1+1dT1gvWd+1YfqGnRs+FYmKrhTbF5cVf9go3HjlG4dvyr+Z3JS0qavEuWTPZtJm6ebeLZ5bDpaql+aXDm4N2dq0Dd9WtO319kXbL5fNKNu7g7ZDuaO/PLi8ZafJzs07P1SkVPRU+lQ27tLdtWHX+G7R7ht7vPY07NXbW7z3/T7JvttVAVVN1WbVZftJ+7P3P66Jqun4lvttXa1ObXHtxwPSA/0HIw6217nU1R3SPVRSj9Yr60cOxx++/p3vdy0NNg1VjZzG4iNwRHnk6fcJ3/ceDTradox7rOEH0x92HWcdL2pCmvKaRptTmvtbYlu6T8w+0dbq3nr8R9sfD5w0PFl5SvNUyWna6YLTk2fyz4ydlZ19fi753GDborZ752PO32oPb++6EHTh0kX/i+c7vDvOXPK4dPKy2+UTV7hXmq86X23qdOo8/pPTT8e7nLuarrlca7nuer21e2b36RueN87d9L158Rb/1tWeOT3dvfN6b/fF9/XfFt1+cif9zsu72Xcn7q28T7xf9EDtQdlD3YfVP1v+3Njv3H9qwHeg89HcR/cGhYPP/pH1jw9DBY+Zj8uGDYbrnjg+OTniP3L96fynQ89kzyaeF/6i/suuFxYvfvjV69fO0ZjRoZfyl5O/bXyl/erA6xmv28bCxh6+yXgzMV70VvvtwXfcdx3vo98PT+R8IH8o/2j5sfVT0Kf7kxmTk/8EA5jz/GMzLdsAADoxaVRYdFhNTDpjb20uYWRvYmUueG1wAAAAAAA8P3hwYWNrZXQgYmVnaW49Iu+7vyIgaWQ9Ilc1TTBNcENlaGlIenJlU3pOVGN6a2M5ZCI/Pgo8eDp4bXBtZXRhIHhtbG5zOng9ImFkb2JlOm5zOm1ldGEvIiB4OnhtcHRrPSJBZG9iZSBYTVAgQ29yZSA1LjYtYzAxNCA3OS4xNTY3OTcsIDIwMTQvMDgvMjAtMDk6NTM6MDIgICAgICAgICI+CiAgIDxyZGY6UkRGIHhtbG5zOnJkZj0iaHR0cDovL3d3dy53My5vcmcvMTk5OS8wMi8yMi1yZGYtc3ludGF4LW5zIyI+CiAgICAgIDxyZGY6RGVzY3JpcHRpb24gcmRmOmFib3V0PSIiCiAgICAgICAgICAgIHhtbG5zOnhtcD0iaHR0cDovL25zLmFkb2JlLmNvbS94YXAvMS4wLyIKICAgICAgICAgICAgeG1sbnM6eG1wTU09Imh0dHA6Ly9ucy5hZG9iZS5jb20veGFwLzEuMC9tbS8iCiAgICAgICAgICAgIHhtbG5zOnN0RXZ0PSJodHRwOi8vbnMuYWRvYmUuY29tL3hhcC8xLjAvc1R5cGUvUmVzb3VyY2VFdmVudCMiCiAgICAgICAgICAgIHhtbG5zOmRjPSJodHRwOi8vcHVybC5vcmcvZGMvZWxlbWVudHMvMS4xLyIKICAgICAgICAgICAgeG1sbnM6cGhvdG9zaG9wPSJodHRwOi8vbnMuYWRvYmUuY29tL3Bob3Rvc2hvcC8xLjAvIgogICAgICAgICAgICB4bWxuczp0aWZmPSJodHRwOi8vbnMuYWRvYmUuY29tL3RpZmYvMS4wLyIKICAgICAgICAgICAgeG1sbnM6ZXhpZj0iaHR0cDovL25zLmFkb2JlLmNvbS9leGlmLzEuMC8iPgogICAgICAgICA8eG1wOkNyZWF0b3JUb29sPkFkb2JlIFBob3Rvc2hvcCBDQyAyMDE0IChXaW5kb3dzKTwveG1wOkNyZWF0b3JUb29sPgogICAgICAgICA8eG1wOkNyZWF0ZURhdGU+MjAyMS0wNC0wMVQxNzoxMDo1OC0wNzowMDwveG1wOkNyZWF0ZURhdGU+CiAgICAgICAgIDx4bXA6TWV0YWRhdGFEYXRlPjIwMjEtMDQtMDFUMTc6MTA6NTgtMDc6MDA8L3htcDpNZXRhZGF0YURhdGU+CiAgICAgICAgIDx4bXA6TW9kaWZ5RGF0ZT4yMDIxLTA0LTAxVDE3OjEwOjU4LTA3OjAwPC94bXA6TW9kaWZ5RGF0ZT4KICAgICAgICAgPHhtcE1NOkluc3RhbmNlSUQ+eG1wLmlpZDozNzZhOTAzZS1lZTk3LTkwNDYtYmJmMy1lOGE0ZTRmZTVkNzk8L3htcE1NOkluc3RhbmNlSUQ+CiAgICAgICAgIDx4bXBNTTpEb2N1bWVudElEPmFkb2JlOmRvY2lkOnBob3Rvc2hvcDpkYmFiNmJkMC05MzQ3LTExZWItYmFkMy1lM2E0NmRhNWU0Yjk8L3htcE1NOkRvY3VtZW50SUQ+CiAgICAgICAgIDx4bXBNTTpPcmlnaW5hbERvY3VtZW50SUQ+eG1wLmRpZDpmOTNhMzQ0NC02OGY5LTE2NDMtYjhhYi00YTNkZDNkZmQ4MzI8L3htcE1NOk9yaWdpbmFsRG9jdW1lbnRJRD4KICAgICAgICAgPHhtcE1NOkhpc3Rvcnk+CiAgICAgICAgICAgIDxyZGY6U2VxPgogICAgICAgICAgICAgICA8cmRmOmxpIHJkZjpwYXJzZVR5cGU9IlJlc291cmNlIj4KICAgICAgICAgICAgICAgICAgPHN0RXZ0OmFjdGlvbj5jcmVhdGVkPC9zdEV2dDphY3Rpb24+CiAgICAgICAgICAgICAgICAgIDxzdEV2dDppbnN0YW5jZUlEPnhtcC5paWQ6ZjkzYTM0NDQtNjhmOS0xNjQzLWI4YWItNGEzZGQzZGZkODMyPC9zdEV2dDppbnN0YW5jZUlEPgogICAgICAgICAgICAgICAgICA8c3RFdnQ6d2hlbj4yMDIxLTA0LTAxVDE3OjEwOjU4LTA3OjAwPC9zdEV2dDp3aGVuPgogICAgICAgICAgICAgICAgICA8c3RFdnQ6c29mdHdhcmVBZ2VudD5BZG9iZSBQaG90b3Nob3AgQ0MgMjAxNCAoV2luZG93cyk8L3N0RXZ0OnNvZnR3YXJlQWdlbnQ+CiAgICAgICAgICAgICAgIDwvcmRmOmxpPgogICAgICAgICAgICAgICA8cmRmOmxpIHJkZjpwYXJzZVR5cGU9IlJlc291cmNlIj4KICAgICAgICAgICAgICAgICAgPHN0RXZ0OmFjdGlvbj5zYXZlZDwvc3RFdnQ6YWN0aW9uPgogICAgICAgICAgICAgICAgICA8c3RFdnQ6aW5zdGFuY2VJRD54bXAuaWlkOjM3NmE5MDNlLWVlOTctOTA0Ni1iYmYzLWU4YTRlNGZlNWQ3OTwvc3RFdnQ6aW5zdGFuY2VJRD4KICAgICAgICAgICAgICAgICAgPHN0RXZ0OndoZW4+MjAyMS0wNC0wMVQxNzoxMDo1OC0wNzowMDwvc3RFdnQ6d2hlbj4KICAgICAgICAgICAgICAgICAgPHN0RXZ0OnNvZnR3YXJlQWdlbnQ+QWRvYmUgUGhvdG9zaG9wIENDIDIwMTQgKFdpbmRvd3MpPC9zdEV2dDpzb2Z0d2FyZUFnZW50PgogICAgICAgICAgICAgICAgICA8c3RFdnQ6Y2hhbmdlZD4vPC9zdEV2dDpjaGFuZ2VkPgogICAgICAgICAgICAgICA8L3JkZjpsaT4KICAgICAgICAgICAgPC9yZGY6U2VxPgogICAgICAgICA8L3htcE1NOkhpc3Rvcnk+CiAgICAgICAgIDxkYzpmb3JtYXQ+aW1hZ2UvcG5nPC9kYzpmb3JtYXQ+CiAgICAgICAgIDxwaG90b3Nob3A6Q29sb3JNb2RlPjM8L3Bob3Rvc2hvcDpDb2xvck1vZGU+CiAgICAgICAgIDxwaG90b3Nob3A6SUNDUHJvZmlsZT5zUkdCIElFQzYxOTY2LTIuMTwvcGhvdG9zaG9wOklDQ1Byb2ZpbGU+CiAgICAgICAgIDx0aWZmOk9yaWVudGF0aW9uPjE8L3RpZmY6T3JpZW50YXRpb24+CiAgICAgICAgIDx0aWZmOlhSZXNvbHV0aW9uPjcyMDAwMC8xMDAwMDwvdGlmZjpYUmVzb2x1dGlvbj4KICAgICAgICAgPHRpZmY6WVJlc29sdXRpb24+NzIwMDAwLzEwMDAwPC90aWZmOllSZXNvbHV0aW9uPgogICAgICAgICA8dGlmZjpSZXNvbHV0aW9uVW5pdD4yPC90aWZmOlJlc29sdXRpb25Vbml0PgogICAgICAgICA8ZXhpZjpDb2xvclNwYWNlPjE8L2V4aWY6Q29sb3JTcGFjZT4KICAgICAgICAgPGV4aWY6UGl4ZWxYRGltZW5zaW9uPjU5NTwvZXhpZjpQaXhlbFhEaW1lbnNpb24+CiAgICAgICAgIDxleGlmOlBpeGVsWURpbWVuc2lvbj42MDwvZXhpZjpQaXhlbFlEaW1lbnNpb24+CiAgICAgIDwvcmRmOkRlc2NyaXB0aW9uPgogICA8L3JkZjpSREY+CjwveDp4bXBtZXRhPgogICAgICAgICAgICAgICAgICAgICAgICAgICAgICAgICAgICAgICAgICAgICAgICAgICAgICAgICAgICAgICAgICAgICAgICAgICAgICAgICAgICAgICAgICAgICAgICAgICAgCiAgICAgICAgICAgICAgICAgICAgICAgICAgICAgICAgICAgICAgICAgICAgICAgICAgICAgICAgICAgICAgICAgICAgICAgICAgICAgICAgICAgICAgICAgICAgICAgICAgICAKICAgICAgICAgICAgICAgICAgICAgICAgICAgICAgICAgICAgICAgICAgICAgICAgICAgICAgICAgICAgICAgICAgICAgICAgICAgICAgICAgICAgICAgICAgICAgICAgICAgIAogICAgICAgICAgICAgICAgICAgICAgICAgICAgICAgICAgICAgICAgICAgICAgICAgICAgICAgICAgICAgICAgICAgICAgICAgICAgICAgICAgICAgICAgICAgICAgICAgICAgCiAgICAgICAgICAgICAgICAgICAgICAgICAgICAgICAgICAgICAgICAgICAgICAgICAgICAgICAgICAgICAgICAgICAgICAgICAgICAgICAgICAgICAgICAgICAgICAgICAgICAKICAgICAgICAgICAgICAgICAgICAgICAgICAgICAgICAgICAgICAgICAgICAgICAgICAgICAgICAgICAgICAgICAgICAgICAgICAgICAgICAgICAgICAgICAgICAgICAgICAgIAogICAgICAgICAgICAgICAgICAgICAgICAgICAgICAgICAgICAgICAgICAgICAgICAgICAgICAgICAgICAgICAgICAgICAgICAgICAgICAgICAgICAgICAgICAgICAgICAgICAgCiAgICAgICAgICAgICAgICAgICAgICAgICAgICAgICAgICAgICAgICAgICAgICAgICAgICAgICAgICAgICAgICAgICAgICAgICAgICAgICAgICAgICAgICAgICAgICAgICAgICAKICAgICAgICAgICAgICAgICAgICAgICAgICAgICAgICAgICAgICAgICAgICAgICAgICAgICAgICAgICAgICAgICAgICAgICAgICAgICAgICAgICAgICAgICAgICAgICAgICAgIAogICAgICAgICAgICAgICAgICAgICAgICAgICAgICAgICAgICAgICAgICAgICAgICAgICAgICAgICAgICAgICAgICAgICAgICAgICAgICAgICAgICAgICAgICAgICAgICAgICAgCiAgICAgICAgICAgICAgICAgICAgICAgICAgICAgICAgICAgICAgICAgICAgICAgICAgICAgICAgICAgICAgICAgICAgICAgICAgICAgICAgICAgICAgICAgICAgICAgICAgICAKICAgICAgICAgICAgICAgICAgICAgICAgICAgICAgICAgICAgICAgICAgICAgICAgICAgICAgICAgICAgICAgICAgICAgICAgICAgICAgICAgICAgICAgICAgICAgICAgICAgIAogICAgICAgICAgICAgICAgICAgICAgICAgICAgICAgICAgICAgICAgICAgICAgICAgICAgICAgICAgICAgICAgICAgICAgICAgICAgICAgICAgICAgICAgICAgICAgICAgICAgCiAgICAgICAgICAgICAgICAgICAgICAgICAgICAgICAgICAgICAgICAgICAgICAgICAgICAgICAgICAgICAgICAgICAgICAgICAgICAgICAgICAgICAgICAgICAgICAgICAgICAKICAgICAgICAgICAgICAgICAgICAgICAgICAgICAgICAgICAgICAgICAgICAgICAgICAgICAgICAgICAgICAgICAgICAgICAgICAgICAgICAgICAgICAgICAgICAgICAgICAgIAogICAgICAgICAgICAgICAgICAgICAgICAgICAgICAgICAgICAgICAgICAgICAgICAgICAgICAgICAgICAgICAgICAgICAgICAgICAgICAgICAgICAgICAgICAgICAgICAgICAgCiAgICAgICAgICAgICAgICAgICAgICAgICAgICAgICAgICAgICAgICAgICAgICAgICAgICAgICAgICAgICAgICAgICAgICAgICAgICAgICAgICAgICAgICAgICAgICAgICAgICAKICAgICAgICAgICAgICAgICAgICAgICAgICAgICAgICAgICAgICAgICAgICAgICAgICAgICAgICAgICAgICAgICAgICAgICAgICAgICAgICAgICAgICAgICAgICAgICAgICAgIAogICAgICAgICAgICAgICAgICAgICAgICAgICAgICAgICAgICAgICAgICAgICAgICAgICAgICAgICAgICAgICAgICAgICAgICAgICAgICAgICAgICAgICAgICAgICAgICAgICAgCiAgICAgICAgICAgICAgICAgICAgICAgICAgICAgICAgICAgICAgICAgICAgICAgICAgICAgICAgICAgICAgICAgICAgICAgICAgICAgICAgICAgICAgICAgICAgICAgICAgICAKICAgICAgICAgICAgICAgICAgICAgICAgICAgICAgICAgICAgICAgICAgICAgICAgICAgICAgICAgICAgICAgICAgICAgICAgICAgICAgICAgICAgICAgICAgICAgICAgICAgIAogICAgICAgICAgICAgICAgICAgICAgICAgICAgICAgICAgICAgICAgICAgICAgICAgICAgICAgICAgICAgICAgICAgICAgICAgICAgICAgICAgICAgICAgICAgICAgICAgICAgCiAgICAgICAgICAgICAgICAgICAgICAgICAgICAgICAgICAgICAgICAgICAgICAgICAgICAgICAgICAgICAgICAgICAgICAgICAgICAgICAgICAgICAgICAgICAgICAgICAgICAKICAgICAgICAgICAgICAgICAgICAgICAgICAgICAgICAgICAgICAgICAgICAgICAgICAgICAgICAgICAgICAgICAgICAgICAgICAgICAgICAgICAgICAgICAgICAgICAgICAgIAogICAgICAgICAgICAgICAgICAgICAgICAgICAgICAgICAgICAgICAgICAgICAgICAgICAgICAgICAgICAgICAgICAgICAgICAgICAgICAgICAgICAgICAgICAgICAgICAgICAgCiAgICAgICAgICAgICAgICAgICAgICAgICAgICAgICAgICAgICAgICAgICAgICAgICAgICAgICAgICAgICAgICAgICAgICAgICAgICAgICAgICAgICAgICAgICAgICAgICAgICAKICAgICAgICAgICAgICAgICAgICAgICAgICAgICAgICAgICAgICAgICAgICAgICAgICAgICAgICAgICAgICAgICAgICAgICAgICAgICAgICAgICAgICAgICAgICAgICAgICAgIAogICAgICAgICAgICAgICAgICAgICAgICAgICAgICAgICAgICAgICAgICAgICAgICAgICAgICAgICAgICAgICAgICAgICAgICAgICAgICAgICAgICAgICAgICAgICAgICAgICAgCiAgICAgICAgICAgICAgICAgICAgICAgICAgICAgICAgICAgICAgICAgICAgICAgICAgICAgICAgICAgICAgICAgICAgICAgICAgICAgICAgICAgICAgICAgICAgICAgICAgICAKICAgICAgICAgICAgICAgICAgICAgICAgICAgICAgICAgICAgICAgICAgICAgICAgICAgICAgICAgICAgICAgICAgICAgICAgICAgICAgICAgICAgICAgICAgICAgICAgICAgIAogICAgICAgICAgICAgICAgICAgICAgICAgICAgICAgICAgICAgICAgICAgICAgICAgICAgICAgICAgICAgICAgICAgICAgICAgICAgICAgICAgICAgICAgICAgICAgICAgICAgCiAgICAgICAgICAgICAgICAgICAgICAgICAgICAgICAgICAgICAgICAgICAgICAgICAgICAgICAgICAgICAgICAgICAgICAgICAgICAgICAgICAgICAgICAgICAgICAgICAgICAKICAgICAgICAgICAgICAgICAgICAgICAgICAgICAgICAgICAgICAgICAgICAgICAgICAgICAgICAgICAgICAgICAgICAgICAgICAgICAgICAgICAgICAgICAgICAgICAgICAgIAogICAgICAgICAgICAgICAgICAgICAgICAgICAgICAgICAgICAgICAgICAgICAgICAgICAgICAgICAgICAgICAgICAgICAgICAgICAgICAgICAgICAgICAgICAgICAgICAgICAgCiAgICAgICAgICAgICAgICAgICAgICAgICAgICAgICAgICAgICAgICAgICAgICAgICAgICAgICAgICAgICAgICAgICAgICAgICAgICAgICAgICAgICAgICAgICAgICAgICAgICAKICAgICAgICAgICAgICAgICAgICAgICAgICAgICAgICAgICAgICAgICAgICAgICAgICAgICAgICAgICAgICAgICAgICAgICAgICAgICAgICAgICAgICAgICAgICAgICAgICAgIAogICAgICAgICAgICAgICAgICAgICAgICAgICAgICAgICAgICAgICAgICAgICAgICAgICAgICAgICAgICAgICAgICAgICAgICAgICAgICAgICAgICAgICAgICAgICAgICAgICAgCiAgICAgICAgICAgICAgICAgICAgICAgICAgICAgICAgICAgICAgICAgICAgICAgICAgICAgICAgICAgICAgICAgICAgICAgICAgICAgICAgICAgICAgICAgICAgICAgICAgICAKICAgICAgICAgICAgICAgICAgICAgICAgICAgICAgICAgICAgICAgICAgICAgICAgICAgICAgICAgICAgICAgICAgICAgICAgICAgICAgICAgICAgICAgICAgICAgICAgICAgIAogICAgICAgICAgICAgICAgICAgICAgICAgICAgICAgICAgICAgICAgICAgICAgICAgICAgICAgICAgICAgICAgICAgICAgICAgICAgICAgICAgICAgICAgICAgICAgICAgICAgCiAgICAgICAgICAgICAgICAgICAgICAgICAgICAgICAgICAgICAgICAgICAgICAgICAgICAgICAgICAgICAgICAgICAgICAgICAgICAgICAgICAgICAgICAgICAgICAgICAgICAKICAgICAgICAgICAgICAgICAgICAgICAgICAgICAgICAgICAgICAgICAgICAgICAgICAgICAgICAgICAgICAgICAgICAgICAgICAgICAgICAgICAgICAgICAgICAgICAgICAgIAogICAgICAgICAgICAgICAgICAgICAgICAgICAgICAgICAgICAgICAgICAgICAgICAgICAgICAgICAgICAgICAgICAgICAgICAgICAgICAgICAgICAgICAgICAgICAgICAgICAgCiAgICAgICAgICAgICAgICAgICAgICAgICAgICAgICAgICAgICAgICAgICAgICAgICAgICAgICAgICAgICAgICAgICAgICAgICAgICAgICAgICAgICAgICAgICAgICAgICAgICAKICAgICAgICAgICAgICAgICAgICAgICAgICAgICAgICAgICAgICAgICAgICAgICAgICAgICAgICAgICAgICAgICAgICAgICAgICAgICAgICAgICAgICAgICAgICAgICAgICAgIAogICAgICAgICAgICAgICAgICAgICAgICAgICAgICAgICAgICAgICAgICAgICAgICAgICAgICAgICAgICAgICAgICAgICAgICAgICAgICAgICAgICAgICAgICAgICAgICAgICAgCiAgICAgICAgICAgICAgICAgICAgICAgICAgICAgICAgICAgICAgICAgICAgICAgICAgICAgICAgICAgICAgICAgICAgICAgICAgICAgICAgICAgICAgICAgICAgICAgICAgICAKICAgICAgICAgICAgICAgICAgICAgICAgICAgICAgICAgICAgICAgICAgICAgICAgICAgICAgICAgICAgICAgICAgICAgICAgICAgICAgICAgICAgICAgICAgICAgICAgICAgIAogICAgICAgICAgICAgICAgICAgICAgICAgICAgICAgICAgICAgICAgICAgICAgICAgICAgICAgICAgICAgICAgICAgICAgICAgICAgICAgICAgICAgICAgICAgICAgICAgICAgCiAgICAgICAgICAgICAgICAgICAgICAgICAgICAgICAgICAgICAgICAgICAgICAgICAgICAgICAgICAgICAgICAgICAgICAgICAgICAgICAgICAgICAgICAgICAgICAgICAgICAKICAgICAgICAgICAgICAgICAgICAgICAgICAgICAgICAgICAgICAgICAgICAgICAgICAgICAgICAgICAgICAgICAgICAgICAgICAgICAgICAgICAgICAgICAgICAgICAgICAgIAogICAgICAgICAgICAgICAgICAgICAgICAgICAgICAgICAgICAgICAgICAgICAgICAgICAgICAgICAgICAgICAgICAgICAgICAgICAgICAgICAgICAgICAgICAgICAgICAgICAgCiAgICAgICAgICAgICAgICAgICAgICAgICAgICAgICAgICAgICAgICAgICAgICAgICAgICAgICAgICAgICAgICAgICAgICAgICAgICAgICAgICAgICAgICAgICAgICAgICAgICAKICAgICAgICAgICAgICAgICAgICAgICAgICAgICAgICAgICAgICAgICAgICAgICAgICAgICAgICAgICAgICAgICAgICAgICAgICAgICAgICAgICAgICAgICAgICAgICAgICAgIAogICAgICAgICAgICAgICAgICAgICAgICAgICAgICAgICAgICAgICAgICAgICAgICAgICAgICAgICAgICAgICAgICAgICAgICAgICAgICAgICAgICAgICAgICAgICAgICAgICAgCiAgICAgICAgICAgICAgICAgICAgICAgICAgICAgICAgICAgICAgICAgICAgICAgICAgICAgICAgICAgICAgICAgICAgICAgICAgICAgICAgICAgICAgICAgICAgICAgICAgICAKICAgICAgICAgICAgICAgICAgICAgICAgICAgICAgICAgICAgICAgICAgICAgICAgICAgICAgICAgICAgICAgICAgICAgICAgICAgICAgICAgICAgICAgICAgICAgICAgICAgIAogICAgICAgICAgICAgICAgICAgICAgICAgICAgICAgICAgICAgICAgICAgICAgICAgICAgICAgICAgICAgICAgICAgICAgICAgICAgICAgICAgICAgICAgICAgICAgICAgICAgCiAgICAgICAgICAgICAgICAgICAgICAgICAgICAgICAgICAgICAgICAgICAgICAgICAgICAgICAgICAgICAgICAgICAgICAgICAgICAgICAgICAgICAgICAgICAgICAgICAgICAKICAgICAgICAgICAgICAgICAgICAgICAgICAgICAgICAgICAgICAgICAgICAgICAgICAgICAgICAgICAgICAgICAgICAgICAgICAgICAgICAgICAgICAgICAgICAgICAgICAgIAogICAgICAgICAgICAgICAgICAgICAgICAgICAgICAgICAgICAgICAgICAgICAgICAgICAgICAgICAgICAgICAgICAgICAgICAgICAgICAgICAgICAgICAgICAgICAgICAgICAgCiAgICAgICAgICAgICAgICAgICAgICAgICAgICAgICAgICAgICAgICAgICAgICAgICAgICAgICAgICAgICAgICAgICAgICAgICAgICAgICAgICAgICAgICAgICAgICAgICAgICAKICAgICAgICAgICAgICAgICAgICAgICAgICAgICAgICAgICAgICAgICAgICAgICAgICAgICAgICAgICAgICAgICAgICAgICAgICAgICAgICAgICAgICAgICAgICAgICAgICAgIAogICAgICAgICAgICAgICAgICAgICAgICAgICAgICAgICAgICAgICAgICAgICAgICAgICAgICAgICAgICAgICAgICAgICAgICAgICAgICAgICAgICAgICAgICAgICAgICAgICAgCiAgICAgICAgICAgICAgICAgICAgICAgICAgICAgICAgICAgICAgICAgICAgICAgICAgICAgICAgICAgICAgICAgICAgICAgICAgICAgICAgICAgICAgICAgICAgICAgICAgICAKICAgICAgICAgICAgICAgICAgICAgICAgICAgICAgICAgICAgICAgICAgICAgICAgICAgICAgICAgICAgICAgICAgICAgICAgICAgICAgICAgICAgICAgICAgICAgICAgICAgIAogICAgICAgICAgICAgICAgICAgICAgICAgICAgICAgICAgICAgICAgICAgICAgICAgICAgICAgICAgICAgICAgICAgICAgICAgICAgICAgICAgICAgICAgICAgICAgICAgICAgCiAgICAgICAgICAgICAgICAgICAgICAgICAgICAgICAgICAgICAgICAgICAgICAgICAgICAgICAgICAgICAgICAgICAgICAgICAgICAgICAgICAgICAgICAgICAgICAgICAgICAKICAgICAgICAgICAgICAgICAgICAgICAgICAgICAgICAgICAgICAgICAgICAgICAgICAgICAgICAgICAgICAgICAgICAgICAgICAgICAgICAgICAgICAgICAgICAgICAgICAgIAogICAgICAgICAgICAgICAgICAgICAgICAgICAgICAgICAgICAgICAgICAgICAgICAgICAgICAgICAgICAgICAgICAgICAgICAgICAgICAgICAgICAgICAgICAgICAgICAgICAgCiAgICAgICAgICAgICAgICAgICAgICAgICAgICAgICAgICAgICAgICAgICAgICAgICAgICAgICAgICAgICAgICAgICAgICAgICAgICAgICAgICAgICAgICAgICAgICAgICAgICAKICAgICAgICAgICAgICAgICAgICAgICAgICAgICAgICAgICAgICAgICAgICAgICAgICAgICAgICAgICAgICAgICAgICAgICAgICAgICAgICAgICAgICAgICAgICAgICAgICAgIAogICAgICAgICAgICAgICAgICAgICAgICAgICAgICAgICAgICAgICAgICAgICAgICAgICAgICAgICAgICAgICAgICAgICAgICAgICAgICAgICAgICAgICAgICAgICAgICAgICAgCiAgICAgICAgICAgICAgICAgICAgICAgICAgICAgICAgICAgICAgICAgICAgICAgICAgICAgICAgICAgICAgICAgICAgICAgICAgICAgICAgICAgICAgICAgICAgICAgICAgICAKICAgICAgICAgICAgICAgICAgICAgICAgICAgICAgICAgICAgICAgICAgICAgICAgICAgICAgICAgICAgICAgICAgICAgICAgICAgICAgICAgICAgICAgICAgICAgICAgICAgIAogICAgICAgICAgICAgICAgICAgICAgICAgICAgICAgICAgICAgICAgICAgICAgICAgICAgICAgICAgICAgICAgICAgICAgICAgICAgICAgICAgICAgICAgICAgICAgICAgICAgCiAgICAgICAgICAgICAgICAgICAgICAgICAgICAgICAgICAgICAgICAgICAgICAgICAgICAgICAgICAgICAgICAgICAgICAgICAgICAgICAgICAgICAgICAgICAgICAgICAgICAKICAgICAgICAgICAgICAgICAgICAgICAgICAgICAgICAgICAgICAgICAgICAgICAgICAgICAgICAgICAgICAgICAgICAgICAgICAgICAgICAgICAgICAgICAgICAgICAgICAgIAogICAgICAgICAgICAgICAgICAgICAgICAgICAgICAgICAgICAgICAgICAgICAgICAgICAgICAgICAgICAgICAgICAgICAgICAgICAgICAgICAgICAgICAgICAgICAgICAgICAgCiAgICAgICAgICAgICAgICAgICAgICAgICAgICAgICAgICAgICAgICAgICAgICAgICAgICAgICAgICAgICAgICAgICAgICAgICAgICAgICAgICAgICAgICAgICAgICAgICAgICAKICAgICAgICAgICAgICAgICAgICAgICAgICAgICAgICAgICAgICAgICAgICAgICAgICAgICAgICAgICAgICAgICAgICAgICAgICAgICAgICAgICAgICAgICAgICAgICAgICAgIAogICAgICAgICAgICAgICAgICAgICAgICAgICAgICAgICAgICAgICAgICAgICAgICAgICAgICAgICAgICAgICAgICAgICAgICAgICAgICAgICAgICAgICAgICAgICAgICAgICAgCiAgICAgICAgICAgICAgICAgICAgICAgICAgICAgICAgICAgICAgICAgICAgICAgICAgICAgICAgICAgICAgICAgICAgICAgICAgICAgICAgICAgICAgICAgICAgICAgICAgICAKICAgICAgICAgICAgICAgICAgICAgICAgICAgICAgICAgICAgICAgICAgICAgICAgICAgICAgICAgICAgICAgICAgICAgICAgICAgICAgICAgICAgICAgICAgICAgICAgICAgIAogICAgICAgICAgICAgICAgICAgICAgICAgICAgICAgICAgICAgICAgICAgICAgICAgICAgICAgICAgICAgICAgICAgICAgICAgICAgICAgICAgICAgICAgICAgICAgICAgICAgCiAgICAgICAgICAgICAgICAgICAgICAgICAgICAgICAgICAgICAgICAgICAgICAgICAgICAgICAgICAgICAgICAgICAgICAgICAgICAgICAgICAgICAgICAgICAgICAgICAgICAKICAgICAgICAgICAgICAgICAgICAgICAgICAgICAgICAgICAgICAgICAgICAgICAgICAgICAgICAgICAgICAgICAgICAgICAgICAgICAgICAgICAgICAgICAgICAgICAgICAgIAogICAgICAgICAgICAgICAgICAgICAgICAgICAgICAgICAgICAgICAgICAgICAgICAgICAgICAgICAgICAgICAgICAgICAgICAgICAgICAgICAgICAgICAgICAgICAgICAgICAgCiAgICAgICAgICAgICAgICAgICAgICAgICAgICAgICAgICAgICAgICAgICAgICAgICAgICAgICAgICAgICAgICAgICAgICAgICAgICAgICAgICAgICAgICAgICAgICAgICAgICAKICAgICAgICAgICAgICAgICAgICAgICAgICAgICAgICAgICAgICAgICAgICAgICAgICAgICAgICAgICAgICAgICAgICAgICAgICAgICAgICAgICAgICAgICAgICAgICAgICAgIAogICAgICAgICAgICAgICAgICAgICAgICAgICAgICAgICAgICAgICAgICAgICAgICAgICAgICAgICAgICAgICAgICAgICAgICAgICAgICAgICAgICAgICAgICAgICAgICAgICAgCiAgICAgICAgICAgICAgICAgICAgICAgICAgICAgICAgICAgICAgICAgICAgICAgICAgICAgICAgICAgICAgICAgICAgICAgICAgICAgICAgICAgICAgICAgICAgICAgICAgICAKICAgICAgICAgICAgICAgICAgICAgICAgICAgICAgICAgICAgICAgICAgICAgICAgICAgICAgICAgICAgICAgICAgICAgICAgICAgICAgICAgICAgICAgICAgICAgICAgICAgIAogICAgICAgICAgICAgICAgICAgICAgICAgICAgICAgICAgICAgICAgICAgICAgICAgICAgICAgICAgICAgICAgICAgICAgICAgICAgICAgICAgICAgICAgICAgICAgICAgICAgCiAgICAgICAgICAgICAgICAgICAgICAgICAgICAgICAgICAgICAgICAgICAgICAgICAgICAgICAgICAgICAgICAgICAgICAgICAgICAgICAgICAgICAgICAgICAgICAgICAgICAKICAgICAgICAgICAgICAgICAgICAgICAgICAgICAgICAgICAgICAgICAgICAgICAgICAgICAgICAgICAgICAgICAgICAgICAgICAgICAgICAgICAgICAgICAgICAgICAgICAgIAogICAgICAgICAgICAgICAgICAgICAgICAgICAgICAgICAgICAgICAgICAgICAgICAgICAgICAgICAgICAgICAgICAgICAgICAgICAgICAgICAgICAgICAgICAgICAgICAgICAgCiAgICAgICAgICAgICAgICAgICAgICAgICAgICAgICAgICAgICAgICAgICAgICAgICAgICAgICAgICAgICAgICAgICAgICAgICAgICAgICAgICAgICAgICAgICAgICAgICAgICAKICAgICAgICAgICAgICAgICAgICAgICAgICAgICAgICAgICAgICAgICAgICAgICAgICAgICAgICAgICAgICAgICAgICAgICAgICAgICAgICAgICAgICAgICAgICAgICAgICAgIAogICAgICAgICAgICAgICAgICAgICAgICAgICAgICAgICAgICAgICAgICAgICAgICAgICAgICAgICAgICAgICAgICAgICAgICAgICAgICAgICAgICAgICAgICAgICAgICAgICAgCiAgICAgICAgICAgICAgICAgICAgICAgICAgICAgICAgICAgICAgICAgICAgICAgICAgICAgICAgICAgICAgICAgICAgICAgICAgICAgICAgICAgICAgICAgICAgICAgICAgICAKICAgICAgICAgICAgICAgICAgICAgICAgICAgICAgICAgICAgICAgICAgICAgICAgICAgICAgICAgICAgICAgICAgICAgICAgICAgICAgICAgICAgICAgICAgICAgICAgICAgIAogICAgICAgICAgICAgICAgICAgICAgICAgICAgICAgICAgICAgICAgICAgICAgICAgICAgICAgICAgICAgICAgICAgICAgICAgICAgICAgICAgICAgICAgICAgICAgICAgICAgCiAgICAgICAgICAgICAgICAgICAgICAgICAgICAgICAgICAgICAgICAgICAgICAgICAgICAgICAgICAgICAgICAgICAgICAgICAgICAgICAgICAgICAgICAgICAgICAgICAgICAKICAgICAgICAgICAgICAgICAgICAgICAgICAgICAgICAgICAgICAgICAgICAgICAgICAgICAgICAgICAgICAgICAgICAgICAgICAgICAgICAgICAgICAgICAgICAgICAgICAgIAogICAgICAgICAgICAgICAgICAgICAgICAgICAgICAgICAgICAgICAgICAgICAgICAgICAgICAgICAgICAgICAgICAgICAgICAgICAgICAgICAgICAgICAgICAgICAgICAgICAgCiAgICAgICAgICAgICAgICAgICAgICAgICAgICAgICAgICAgICAgICAgICAgICAgICAgICAgICAgICAgICAgICAgICAgICAgICAgICAgICAgICAgICAgICAgICAgICAgICAgICAKICAgICAgICAgICAgICAgICAgICAgICAgICAgICAgICAgICAgICAgICAgICAgICAgICAgICAgICAgICAgICAgICAgICAgICAgICAgICAgICAgICAgICAgICAgICAgICAgICAgIAogICAgICAgICAgICAgICAgICAgICAgICAgICAgICAgICAgICAgICAgICAgICAgICAgICAgICAgICAgICAgICAgICAgICAgICAgICAgICAgICAgICAgICAgICAgICAgICAgICAgCiAgICAgICAgICAgICAgICAgICAgICAgICAgICAgICAgICAgICAgICAgICAgICAgICAgICAgICAgICAgICAgICAgICAgICAgICAgICAgICAgICAgICAgICAgICAgICAgICAgICAKICAgICAgICAgICAgICAgICAgICAgICAgICAgICAgICAgICAgICAgICAgICAgICAgICAgICAgICAgICAgICAgICAgICAgICAgICAgICAgICAgICAgICAgICAgICAgICAgICAgIAogICAgICAgICAgICAgICAgICAgICAgICAgICAgICAgICAgICAgICAgICAgICAgICAgICAgICAgICAgICAgICAgICAgICAgICAgICAgICAgICAgICAgICAgICAgICAgICAgICAgCiAgICAgICAgICAgICAgICAgICAgICAgICAgICAgICAgICAgICAgICAgICAgICAgICAgICAgICAgICAgICAgICAgICAgICAgICAgICAgICAgICAgICAgICAgICAgICAgICAgICAKICAgICAgICAgICAgICAgICAgICAgICAgICAgICAgICAgICAgICAgICAgICAgICAgICAgICAgICAgICAgICAgICAgICAgICAgICAgICAgICAgICAgICAgICAgICAgICAgICAgIAogICAgICAgICAgICAgICAgICAgICAgICAgICAgICAgICAgICAgICAgICAgICAgICAgICAgICAgICAgICAgICAgICAgICAgICAgICAgICAgICAgICAgICAgICAgICAgICAgICAgCiAgICAgICAgICAgICAgICAgICAgICAgICAgICAgICAgICAgICAgICAgICAgICAgICAgICAgICAgICAgICAgICAgICAgICAgICAgICAgICAgICAgICAgICAgICAgICAgICAgICAKICAgICAgICAgICAgICAgICAgICAgICAgICAgICAgICAgICAgICAgICAgICAgICAgICAgICAgICAgICAgICAgICAgICAgICAgICAgICAgICAgICAgICAgICAgICAgICAgICAgIAogICAgICAgICAgICAgICAgICAgICAgICAgICAgICAgICAgICAgICAgICAgICAgICAgICAgICAgICAgICAgICAgICAgICAgICAgICAgICAgICAgICAgICAgICAgICAgICAgICAgCiAgICAgICAgICAgICAgICAgICAgICAgICAgICAgICAgICAgICAgICAgICAgICAgICAgICAgICAgICAgICAgICAgICAgICAgICAgICAgICAgICAgICAgICAgICAgICAgICAgICAKICAgICAgICAgICAgICAgICAgICAgICAgICAgIAo8P3hwYWNrZXQgZW5kPSJ3Ij8++38EHAAAACBjSFJNAAB6JQAAgIMAAPn/AACA6QAAdTAAAOpgAAA6mAAAF2+SX8VGAAAThUlEQVR42uydeVhUVRTAzwDKprGZKBKyCM4oyKKfIYK4gpLigmZmapqYS7ivuGCklPoZaV8qLqQiOjp+EqSJZZhKYmUShoifipom4oILqIA4rz/O5/te780Mj2FmZMbz+2venbfcd86999x77rn3SRiGAYIgCIJ4bTAjERAEQRBk+QiCIAiCLB9BEARBkOUjCIIgCLJ8BEEQBEGWjyAIgiDI8hEEQRAEWT6CIAiCIMtHEARBEGT5CIIgCIIsH0EQBEGQ5SMIgiAIsnwEQRDEa44FiUA7JBIJCYEgCKKRUK/vDpHl0578/Px///2XPvNEEATxarlz5079hi7UcGs34MvOzo6MjCRREARBGF8bTpZPO8tHciMIgjBSKMJFG9q0aUNCIAiCIMv3urBq1ar58+eTHAiCIMjyvS4sXLhw+vTpJvyCERERfn5+Eolk/Pjxx44dI42LoX///lFRURKJZMOGDSSNxl/CSVnGi1wul0gkNjY2zs7O+/bt0+4mNF9Vf5GZ+iTfhx9+uH37dnzTlStXxsfHk9I1k5SUFBoa2qNHj8rKyubNm1OdauTKCgsLCwsLI2UZews8b968PXv23Lx5U5u7MLqjpqbGw8OD0QN6uq0WpKenL1q0SJheW1vbunVrxqg4d+6cygLAJo4ePVq3JYTHwIED8/LyjEtodnZ2KiXGCgoA1qxZw5g00dHRp06dImUZBVFRUUZXy1jatGmjUoMzZsxgGKagoAAAXrx4ocWdtWnXSkpKDhw4MGfOnLCwMF6G1q9fr4/379Kli16bYPG4ubkplUqVyjh79qzRFSwAiI2NVffvxo0b9Sf22NjYRqJTLYSm+d/vvvvOhFtS41IcKctIa5nI/Gv9dtpc1q1bN+w3rVixgk0cN26cXgc9ABAdHd04KxIAnDhxwkjLFgDs3btXt6Wq4U1SYwZdwSr/ys/PN+qGxvQUp0FZmZmZpCyjeIW+ffuq++v06dOGs3zsU2/cuIG/7969q28RV1dXA0Btbe0r1MGRI0cmTJjAS1y/fr1RFy8UbMPrzIYNG8rKykSeHBgYuG3bNuMVWosWLWbNmsVLTE9Pr6/QunTp8srfZdOmTaWlpSJPdnd3/+ijj4xOWWvXrhW+tVQqNW1lGXst47ZFDx8+5CWGh4fL5XLt76ndZUOHDuVW8vDw8ODgYAO8f8+ePV+hAvr168caexZLS8t58+YZe8FatWqVSrPXvn178TfJyckRc+ajR4+MvSt66NAhACgvL2dT7t27Z2ZmxjCMUqn09vY2oi45ABw9elTMmRUVFcaoOGGP5PTp05hijMp6fWoZS3BwcOfOnbkpAwYMsLa2Zhhm+fLlX331lRb31DJMUSKR+Pn5YYgEHl65csXT01OvIT1Tp07duHEj8+pisVRGdUokksrKSltbW+ONlRo/fvz58+d///139o3S0tKKi4sdHR3nzJkjUuBmZmanTp0KDg6u88whQ4bk5+dfv37d2APMFArF8OHDAeDatWuJiYlxcXEpKSkODg7FxcUZGRnGEidsZ2eXnZ3NTmFoYOTIkQqFQqlUGqOynj59am1tDQBFRUXr16+fMmXKxo0bjU5ZFhYWubm5r08tQ/Lz84OCgljh79ix48GDB1ZWVkVFRdXV1SkpKfqN7Zw8eTJ7CXeSLy8vT3ifuLg4AFi2bFlVVdX7778PAOPGjRP5oJEjR7IP4kZ1vtouZ0FBQWRkJC/x1KlTwiy98cYbAHDr1i1WVZ988okhs9qpUycAOHbsGMMw7dq1q/P8q1evsm+hUCi4xcPZ2VnkQ997772ff/5ZZL91yZIlwkTs1p04cQIAnJycLly4YDCJffnll2wd2759+6ZNm+q8xMHBYdq0aWzmufzxxx9GNIywt7f/9ddfxZwpk8kWLFjATamqqgKAtm3bMgzj5eWFr5+RkdHYVGZlZbVz504TUNaoUaNEDtCFtaympgYAcIzLvv7Vq1cN/Ar1bZ2EwtfJ8gSx32oYMGBAdnZ2UVGRTCbDD/RMmDAB/9q5c6fw/K+//rqioqJ58+aJiYkPHz5MT0+3s7M7c+ZMYWFhnR2rYcOGMQyDyxW5fzVr1gxjWM3NzYUXHjx4MDk52dHREc9RefNr166dPXtWu37H559/PnfuXF7i5s2beSmpqakxMTFxcXEuLi729vaoJ4lE4uXlNXPmTMN0b5OSkgoKClB63377bZ2XODs7s7+HDx+uXce2oqJCndiFeHh4CHvT5ubmrq6uWDNLS0tdXFwM08UODQ3Fph9efnxKzHNbtWr122+/cfuCRgpKXsyZFy5cmDRpEjelU6dOubm5w4cPl0gkkZGRly9fvnXrVps2bfTtBamvylxcXI4fPz5mzBhjV1ZFRYX4MTevlvn6+ubm5kZGRkqlUpRDeXm5k5OTIV1WWrROLE+ePMF86kaDYsxjQkICAOTm5uLhypUruRfOmjWLdx+2KwEA1dXVmJiYmFjn45o0acKz7RMnTuTdmc0Gj6KiouTk5C1btqSkpGRkZOxXBTpLtfawCxNDQkK8vLyEp+HeENzxQcuWLdlDdqygj2kANsr08ePH3DxcvHgxICBAf/3ZmJiYe/fuiczkjz/+KHw6ANja2nIT2UEkABw5ckQfEkNPBncAhPMH+NDp06eru3Dw4MENF5rIO1RXV9+8eVPlX8XFxequqqqqEnPzN998U2SAHABkZWUJ8+/p6YlLwtnExMRE/F1WVrZ9+3aDqYxhGF6LgURFRdnY2BhGWVVVVXfu3FHXRqlMLy8vr6mpEXPzESNG3L17tyG1DOekVCrLAJOU6lonHU5wir2hyKfyhMV1QvIKIsMwu3btEjYN+E2fkpISdU9JTU0FAIVCgYfo9eIN7QFAGFOnQ8aMGfPPP/8I08vKylSupgcAnhk7dOgQpru5uQkFCACWlpZ1qtzKyqpDhw5SqdTPz69JkyY2/weH1HWqiZU/28tZunSpBhVfvnxZvKBwQO/v7y+VSt3c3FxcXLp16+bu7u7o6Ojs7CyTyUJCQvz8/NQ96+LFi9yUzZs3Yzo3hwCQkJDA1lh3d3cNcsP+oEwm0yA04VX3799nh7nsQz/++GP2oYsWLcJ5BeG1uLVNvUqXlZWVv79/YGCgj4+Ph4eHTCZD75O9vb2Hh0dgYGB4ePioUaOEF4aGhrIZ47J69Wp2xKy5MPAU5+fn5+zsHBYW5unp2bdvXx8fH67iOnbsqE5xPEOLhlCoOLbwA0BycrI6lTk4OAQGBgYGBgYFBTk5OXl4eHTs2LFr1649e/Z85513+vTpc/jwYfEqYxgmOjq6WbNmwmehHuurLF9fX29v78jISF9fX19fXwCQSqX29vaenp5BQUFdu3YVhoyyytqyZYtIZd24cUOzsri1rHv37rxapkFZvFpWp7LES0aHrZN4y6fbQMK6vZ2lpaW4ooKbyN24snPnzrxLcO+PzMxM7jcNLl26JByAc9m1axeWaTzcvXs3APTp00fouNDTSDwvLy8tLa1nz56sI5fls88+W7FihfCSgICAoqIibkpUVBT+mDhxIjcdBcgwjJiPucvl8rfeesvW1tbc3NzCgq+j58+fq/NOcNV08OBB1lqAiI/Ic32eddKsWbMdO3agFTczM7Ozs5PL5TExMRhy/fz5c0tLSw3Oz7KyMh8fH/YwNjZWLpcDANYHAMAGbsyYMbiJAXoRJBJJQUGBv7+/8IY2Njb79+93cXGxtbVVKpXoPOBSWVkpvOrkyZMAEBERgYe//PILuvFv376NKUlJSampqQsXLhw7dizv2nv37tW3gO3bt0+pVD569Mjc3NzMzKxDhw4BAQEZGRnXrl1DF/2zZ89at24tvNDd3T03Nzc6OlpY/LjzDlxatGiBAR0qFde0aVNzc/Pa2lpHR0e5XJ6QkIDfWEbFafCn3blzp3379uzhoEGDsrKyhIpDS6PZMWVjY7NkyZKWLVu+ePGiRYsWaBKUSiXuFKFUKu/evdu/f38xKmMbDVyiJwRzVS8UCkXTpk1ra2txesXf39/V1VUulxcXF7948eL58+dWVlYqI01QWU5OTiKV5erqqllZvFqWlJTErWUalMWrZXUqSyS6bZ3Eg/OUuvTyawZb8MzMTF5Mx8GDB8eOHYtuNFCzIIzd0qW2tpbXU6uzU+Dg4GBhYSE8R10YRXh4eEPeF6M8AKBbt27iHR340QZe4vHjx4GzNwROxbMLa7DS6ny0ipGZ3OACAOAuvapzzNfADAwePJjnClOHmZlZSkoKL9HPzw/+v04GD7OystCFgEVCt56ZBQsWcB86e/Zs9jA8PBx/bNq0SaVwevfubTBvp14ZPXq0cIAiXnHYCeYp7vHjx6ybR7e51aCyfv36qXucySirgbVsxowZ6pTl5eWFU1SRkZHarRPQrnXKycmZPHkywzBPnz719fVVt9EavNyxzHDeTgz5rays5M3qtWvXjnVdCssERtOyh4sXL+b5S9PT04Xvxg31AYApU6YIz8GYSd1SUlLC7Z/y/lUqldxpDJ5vU3j+smXLuInW1tZcE/7kyRM9VSHgbGGHc7GFhYViLJ9Olv4MGjQI47XqpF+/fgsXLhRmvlOnTipdWNxE4YLWhoDxGuyhm5ubcDYIAKZOnSq81svLq+HbyTaGxnTatGliYlmx0zZ//nxeor29vUwmEyqu4fNqYlTWtm1bc3Nz9CWWlpY6OzsLHaQ4uWUayhJfy+qlLLb1Q48iAPz111/6bp3Onz+P6dnZ2Tjbkpubq07IALB69eo6n4LjV56bV/t5Pisrq3fffRcf/8UXX7Bi0lAmpk6dyloRtATsNBL74RveJUePHsVEdn0Gb+Idx1J6KlLXr19nGAadq7zJyISEBHWhMeXl5cIsoQ8EJYY35P575coVPb1F27Zt8c5DhgwRSliD5cvJyWl4loYNGyZyVUN8fPzAgQO5KQ8fPsQMZ2Vl4dT322+/LSz6OIeqQ3D/Grlcfv/+/ebNmwPA3LlzuSeMGzdOQ1Vct26dCTSmI0aM2Lp1q5gzFy1axFMc21k8cuQILjpiFde9e3f0relbZZMmTWIYxtXVFTOjcpsnDdONxqUs8bWsXsoaOXIkdzCtjzdV2Tph3B8AHD9+XPOj4f8bR2h2HH7wwQe6sXxornx9fS9dusQwjFwu5wUvCGd0AWDgwIEnT57s0KFDfHx8RUUF99/Nmzdv2LBB5fxw796909PTt27dKhSBt7e3vgvf3r17ASA+Pl58iQeAn376iZeSmZl5+PBhABD2QPVn+RiGKSgo6Ny5c2FhYY8ePbAtEGP5goKCGr4zk4+Pj8jNS3/44QeeBNLS0jAlNDR01KhRe/bs4V3i7u4eFRXFMIzINrpefPrpp9OnT8dvnXC7umxPi3W38gbu4veRasyNqbW19e7du8WcKfRwsLatR48eQsUBwIEDB/SRZ1TZrVu3AABnKNnKq07ODx48MAFlSaVSkbWsvsqyt7dfvHgx8zLixpCtE/u4pKQk4ZppRhAqr4Fnz57FxcXpxtsphtWrVwttIcpRu2Lk4OAgdDDi+g99ly2cWBaf1bCwsIiICPYQAx80xJrjrLIB3oLnUdRg+QBAZAS8ZseA+CXMOF/N7clqkAn3L/FLX+vL8uXLuQ+6cOGChi6wMJ7ZeBtTABA/r8NTnOYIPaFzSOf2j+d5ysvLCwkJ4Z0WGxvL+6qM8SrLxsZG61pWp7JwULVs2bIRI0YEBwenpaUZoHXiGloMkBFmUif+Fb1YPp6fAYNwNHw2qbq6unv37prvxtuNVIsgcu3AoCz2cN26dUlJSRrOx+AdbidAQz4DAgJwceTMmTM1rK5rIEuXLuXmISAgAGe2k5OThQ+VSqVDhw41cAVesWJFr1692ENXV1d1+76ycWiIyEkOLXB1dWV7b7iiRkNglMF2KmlsiFfcmTNncNomJiZGT5nhOYEA4Pbt27wNHjEdp5RIWeqUxd2Hi41bNkzr1KtXL3YlDwB88803PF/l999/r4/M6OyO7Caw3PYiMDCwvr0nlS0OmtKG+yvEMGfOHK6XsmnTpmL6nugx5+Zc6LJDh0xOTs6lS5dycnLUfRuoIeBcKQsGKCoUCvah+/bt456/f//+V9WThZdfNNQceatQKEpKSq68RB/90K5du/LysG3btsLCQvahvJmVVq1aqVuq+DogUnEMw8yePVvk5gYNVxkyZMgQ3pmtWrXy9/d/nZX1559/1qms9PT01NRU9lAfcwoMwxw4cEDYOvG2WMPc8l5BHy2/Llu98ePHi2xGWde8eP0tX77cMGUFP7HGfgtQ5BsFBAR4enoaV60oKyvDFVqvsFoaXVOydu1aMPWPupmM4khZjJF/og83f9bHnV/97uONc2d3LC47d+78+++/16xZQzLR36aRYpb2EwRBtUyXjTxZPiEymQxDVLy9vc+ePYvB0wRBEIRpYEYiEIKr9Q8dOnT58mUyewRBEDTmM31qamosLS1DQkIiIiIwFJMgCIIgy2fiuLu7X79+XalUkn+cIAjCxCBvp2pwix0yewRBEKaHBYlAJVFRUefOnSM5EARBmB7k7SQIgiBeL8jbSRAEQZDlIwiCIAiyfARBEARBlo8gCIIgyPIRBEEQBFk+giAIgiDLRxAEQRBk+QiCIAiCLB9BEARBkOUjCIIgCLJ8BEEQBCGO/wYAkb+S58pHaGwAAAAASUVORK5CYII=)\n",
        "\n",
        "Run the code cell below to define a function that can compute the distance between any two points:"
      ]
    },
    {
      "cell_type": "code",
      "metadata": {
        "id": "h8kB9X6B7-Tm"
      },
      "source": [
        "#define a function to compute the Euclidean distance between two points\n",
        "#(where each point is defined as a vector)\n",
        "def get_distance(point1, point2):\n",
        "  return np.sqrt(np.sum(np.square(point1 - point2)))"
      ],
      "execution_count": 53,
      "outputs": []
    },
    {
      "cell_type": "markdown",
      "metadata": {
        "id": "ye1FqIdI83Ai"
      },
      "source": [
        "Now that we have our `get_distance()` function, we can easily measure the distance between two documents. Smaller distance values indicate that the documents are closer to each other (and are hence more similar), while larger distance values indicate that the documents are farther away from each other (and are hence less similar). We can verify that things are working as we expect by checking the distance between two copies of the same document. Since the content in one copy of the document is identical to the content in the other copy of the document, the distance between them should be exactly `0.0`.\n",
        "\n",
        "Run the code cell below to compute the distance between two copies of the document whose ID (Index) value is `12`:"
      ]
    },
    {
      "cell_type": "code",
      "source": [
        "#calculate the distance between two copies of document 12:\n",
        "distance = get_distance(df_english.loc[12].word_probabilities, df_english.loc[12].word_probabilities)\n",
        "\n",
        "#display the result\n",
        "print('The distance between the two copies of Document 12 is:', distance)"
      ],
      "metadata": {
        "id": "7yw2WVz-WpCb",
        "colab": {
          "base_uri": "https://localhost:8080/"
        },
        "outputId": "38b0ffc7-6130-48b1-bfcb-5eb072a389c5"
      },
      "execution_count": 54,
      "outputs": [
        {
          "output_type": "stream",
          "name": "stdout",
          "text": [
            "The distance between the two copies of Document 12 is: 0.0\n"
          ]
        }
      ]
    },
    {
      "cell_type": "markdown",
      "source": [
        "\n",
        "###Finding Similar Documents\n",
        "\n",
        "In text mining, it's often very useful to be able to identify documents that are similar to each other. For example, we may want to identify redundant or duplicate documents in a large corpus, or we may want to search for documents that discuss particular topics, or we may want to automatically categorize or group documents together based on their content. A document similarity analysis could be usefully applied to all of these scenarios.\n",
        "\n",
        "Returning to our lab assignment, let's see if we can find another document in our English-language corpus whose content is similar to that of Document `12`."
      ],
      "metadata": {
        "id": "9iYezg8RWpeN"
      }
    },
    {
      "cell_type": "markdown",
      "metadata": {
        "id": "izM6ZCI6-sp9"
      },
      "source": [
        "**TASK 09**:\n",
        ">Write some code in the cell below that will identify the ID (Index) value of the document in the English-language corpus whose content is most similar to the content of Document `12` (i.e., the document that is closest to Document `12`). Some code has already been provided for you.\n",
        "\n",
        "**QUESTION 09**:\n",
        ">Which document in the English-language corpus has content that is most similar to Document `12`?\n",
        "<ol type=\"a\">\n",
        "  <li>Document 10</li>\n",
        "  <li>Document 15</li>\n",
        "  <li>Document 20</li>\n",
        "  <li>Document 25</li>\n",
        "</ol>"
      ]
    },
    {
      "cell_type": "code",
      "source": [
        "\n",
        "# Get Document 12 and assign it to a 'target_document' variable\n",
        "target_index = 12\n",
        "target_document = df_english.loc[target_index].word_probabilities.reshape(1, -1)\n",
        "\n",
        "# Initialize variables to store the most similar document index and the minimum distance\n",
        "most_similar_index = None\n",
        "min_distance = float('inf')  # Initialize with a large value\n",
        "\n",
        "# Iterate over each document in the English-language corpus\n",
        "for index, current_document in df_english.iterrows():\n",
        "    # Calculate the distance between Document 12 and the current document\n",
        "    distance = euclidean_distances(target_document, current_document.word_probabilities.reshape(1, -1))\n",
        "\n",
        "    # Check if the current document is not Document 12 and if its distance is smaller than the minimum distance\n",
        "    if index != target_index and distance < min_distance:\n",
        "        min_distance = distance\n",
        "        most_similar_index = index\n",
        "\n",
        "# Print the index of the most similar document\n",
        "print(\"Index of the most similar document:\", most_similar_index)\n"
      ],
      "metadata": {
        "id": "CUmjoZfRIJ8R",
        "colab": {
          "base_uri": "https://localhost:8080/"
        },
        "outputId": "21befc65-d6b5-4875-e1d3-27113adaffd3"
      },
      "execution_count": 57,
      "outputs": [
        {
          "output_type": "stream",
          "name": "stdout",
          "text": [
            "Index of the most similar document: 15\n"
          ]
        }
      ]
    },
    {
      "cell_type": "markdown",
      "metadata": {
        "id": "UmhQBns34l-Z"
      },
      "source": [
        "###Validate Your Findings\n",
        "Now that your Python program has identified the document whose content it believes is most similar to Document `12`, let's take a look at the documents to see if the results make sense to us as humans.\n",
        "\n",
        "Write a line a code in the cell below that will display the raw text of the document that you identified in the previous task. Do the two documents appear to discuss the same general topic?"
      ]
    },
    {
      "cell_type": "code",
      "metadata": {
        "id": "2Kbr60Ng5OrR",
        "colab": {
          "base_uri": "https://localhost:8080/"
        },
        "outputId": "18d837c6-8d4f-4c2d-f268-394ba82e08ec"
      },
      "source": [
        "#print the raw text of Document 12\n",
        "print(df_english.loc[12].raw_text, '\\n')\n",
        "\n",
        "print(df_english.loc[15].raw_text, '\\n')\n",
        "\n",
        "#print the raw text of the document whose content is most similar to Document 12\n"
      ],
      "execution_count": 59,
      "outputs": [
        {
          "output_type": "stream",
          "name": "stdout",
          "text": [
            "This year's NCAA Tournament set a new record for the number of wins by lower seeded teams in the first two rounds with 13. The previous record was 12 in 2021. There were also 11 upsets in the first two rounds of the 2022 tournament, so if you are detecting a trend, you are correct. Those are the three highest total number of upsets through two rounds in the 43 tournaments since seeding began in 1980. There have been only 12 tournaments with double-digit upsets in the first two rounds. Seven of those have come in the last nine tournaments. No. 15 seed Princeton moved on to the Sweet 16 with wins over Arizona and Missouri. This is the third consecutive year that a No. 15 seed has advanced this far. Saint Peter's got to the Elite Eight last season and is the only No. 15 seed to advance that far. Oral Roberts got to the Sweet 16 in 2021, while Dunk City – Florida Gulf Coast – was the first No. 15 seed to make the Sweet 16 in 2013. The Big Ten is having yet another difficult tournament. The league, which is looking for its first national championship since Michigan State won it in 2000 has only the No. 7 seed Spartans left to chase it. The conference had eight teams in the field, but only two of them seeded to make the Sweet 16. Neither of them made it there. Top seed Purdue flamed out in the biggest upset in NCAA Tournament history, which is on brand for the Boilermakers. They have lost to No. 13 seeds or lower in three straight tournaments and to double-digit seeds in five of their last ten. No. 4 seed Indiana rolled over for Miami on Sunday night. This was just the Hoosiers second tournament appearance since 2016, but also second straight appearance after making it through the First Four last season. Penn State had the only other positive highlight for the conference, upsetting SEC runner-up Texas A&M in the first round before falling in a valiant effort against No. 2 seed Texas. The Big Ten has had at least eight teams in the field three times and it didn't go well in any of those seasons. The best was in 2019, when eight teams made it and won 13 games before bowing out. Michigan State made the Final Four that season and Purdue just missed, losing in OT to Virginia in the Elite Eight. In 2021 and 2022, the conference had nine teams in the bracket, but only won eight games in 2021 and nine in 2022. No team got past the Sweet 16 in 2022, while Michigan had an Elite Eight run in 2021. The conference was seeded to have eight wins this season in the first two rounds and managed only six. Michigan State will have to make the Final Four to match the low win total of those previous Big Ten seasons with eight or more teams in the field. The Big 12 was the dominant league in college basketball during the regular season, but only two of its teams made it to the Sweet 16. Kansas State advanced, continuing its tremendous season under first year coach Jerome Tang. Conference tournament champion Texas, the second seed in the Midwest, is still around also. This is the fourth time the Big 12 has had seven of its ten teams make the NCAA Tournament. The other three times, the results were mixed. Baylor won the national championship in 2021 and contributed six of the conference's 11 wins that season. In 2016, the Big 12 had nine wins led by Oklahoma's four en route to the Final Four. In 2015, the conference only managed five tournament wins from its seven teams. Only West Virginia got as far as the sweet 16. The Big East is having its best tournament since the split with the American Athletic Conference in 2013. The league has three teams in the Sweet 16 for the first time even though its highest seeded team, No. 2 seed Marquette, bowed out Sunday. \n",
            "\n",
            "We've only gone a couple of days without NCAA tournament basketball, but it feels like a lifetime. The madness returns on Thursday night, and continues for four days until our quartet of national semifinalists will have revealed themselves. Let's make some predictions on who those four teams will be. When the brackets were released two Sundays ago, Alabama seemed like the safest bet of the four No. 1 seeds to at least make it to the Elite Eight. With the 2, 3 and 4 seeds in the region all eliminated before the tournament's second weekend, the Crimson Tide are now an overwhelming favorite to advance to the Final Four for the first time in program history. ‘Bama didn't get much resistance from either of its first two opponents — Texas A&M Corpus-Christi and Maryland — but there is still a bit of cause for concern after the tournament's opening weekend. Star freshman Brandon Miller has been dealing with a groin injury that clearly affected him in each of the first two NCAA tournament games. He went scoreless in the first round game and finished the first weekend just 5-of-17 (29.4 percent) shooting from the field. Alabama head coach Nate Oats said Miller didn't practice at all on Monday and practiced lightly on Tuesday, but still believes the All-American will be 100% or close to it by the time the team's Friday night game rolls around. A long as that's the case, the Tide are a safe bet to handle San Diego State's defensive pressure, and then outscore Creighton (if the ‘Jays can take care of Princeton) in what would be a highly entertaining up-and-down affair in the regional final. The East was always the region with the most potential to go haywire, and it certainly lived up to that billing. Purdue became the second No. 1 seed ever to lose in the first round, No. 2 seed Marquette got bounced in the second, and the trendy betting pick in the region, red-hot Duke, only managed to score 52 points in its second round loss to Tennessee. You can make a case for each of the four teams still standing, but let's use some common sense here. Florida Atlantic is in the Sweet 16 for the first time ever, Kansas State has overachieved dramatically this season but still has a first-year head coach, Tennessee and Rick Barnes have become known primarily in recent years for their NCAA tournament disappointments ... and then there's Tom Izzo, the man who has been to eight Final Fours and pulled the most upsets (16) of any coach in the history of the NCAA tournament. Michigan State was stellar in its first two tournament wins over USC and Marquette. Tyson Walker has stepped up to be the star guard every team needs in March, and the team is playing like a cohesive unit defensively, forcing a combined 27 turnovers in rounds one and two. Every single Final Four but one since 2012 has featured at least one team seeded No. 7 or worse. Since 2011, a total of 10 teams seeded seventh or worse have crashed the season's final weekend. The last time Izzo took a 7-seed to the second weekend? They ended up advancing to the 2015 Final Four. It all just makes too much sense. Michigan State will win this region, and the “Izzo in March” takes will be flying fast and furiously next week as the team gets ready to head to Houston. The Midwest is the chalkiest region of the second weekend, with only fifth-seeded Miami technically out of place. Even then, the Hurricanes are loaded with guard talent, blasted fourth-seeded Indiana in the second round, and have the mental advantage of having played in a regional final last season. As impressive as Houston's second half against Auburn last Sunday was, there's no question that the top-seeded Cougars are banged up. All-American Marcus Sasser has been dealing with a goin injury that kept him out of the American Athletic tournament title game and very clearly bothered him in Houston's first two NCAA tournament contests. Backcourt mate Jamal Shead hurt his knee in the team's first round win and was affected by it during the Auburn victory. Unless both players are close to 100 percent, it's going to be an uphill climb for Kelvin Sampson's club to win back-to-back games in Kansas City. The team that stands to benefit the most from Houston's health issues is Texas, which just won the Big 12 tournament in Kansas City two weeks ago. The Longhorns are also loaded with guard talent, but play nine players who average 11 minutes or more of court time per contest. Being the deepest team in the region is a huge advantage when facing a rail-thin Xavier team that only goes six deep in the Sweet 16, and then potentially a wounded Houston team two days later. UT made just one three-pointer in its second round game against Penn State, but still advanced thanks primarily to the stellar play of forward Dylan Disu. It's a safe bet that the Longhorn guards won't misfire like that again in this tournament, and when you pair that with the team's overall depth and Disu playing the best basketball of his life, they're the pick to win two more games and claim the Midwest regional title. This is the showcase region. Of the four teams still standing that have won a national championship before, three of them are in the West Region. The region also possesses the highest level of individual talent (‘sup, Arkansas?) and probably the two sexiest regional semifinal matchups. It's not hard to see any of these four teams make it out of this region (I think all of them would win the East Region), but I'm sticking with my pre-tournament national champion pick UConn here. Outside of their first 10 minutes or so against Saint Mary's, the Huskies were a machine in the tournament's opening weekend. They took a talented Iona team's best shot and brushed them aside with a 24-point win, and then steamrolled a different Gaels team in the second round that had just looked wildly impressive in their first round win over VCU. Adama Sanogo was an absolute beast last weekend, Jordan Hawkins found his shooting touch from the outside in the second half of the Saint Mary's game, and collectively, UConn has the size, skill and style to make Arkansas uncomfortable in a way that Kansas could not. The Huskies are 28-2 when they hold teams to below 47.0 percent shooting from the field and 0-5 when they do not. Arkansas has failed to shoot 47.0 percent from the field in five of its last six games. UCLA, like Houston, has played well but has injury concerns. Gonzaga has a star inside in Drew Timme, but doesn't have the guard play that Connecticut does. The Huskies are the pick here. \n",
            "\n"
          ]
        }
      ]
    },
    {
      "cell_type": "markdown",
      "metadata": {
        "id": "ChNYFLf1whZ5"
      },
      "source": [
        "## End of Lab Assignment 02!"
      ]
    }
  ]
}